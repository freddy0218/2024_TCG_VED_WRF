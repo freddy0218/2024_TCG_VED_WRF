{
 "cells": [
  {
   "cell_type": "code",
   "execution_count": 1,
   "id": "a464b17d-266a-4e05-b2d9-6b2331faea71",
   "metadata": {},
   "outputs": [],
   "source": [
    "\"\"\"──────────────────────────────────────────────────────────────────────────┐\n",
    "│ Loading necessary libraries to build and train model                       │\n",
    "└──────────────────────────────────────────────────────────────────────────\"\"\"\n",
    "import warnings\n",
    "warnings.filterwarnings(\"ignore\", category=UserWarning)\n",
    "import os,sys,gc\n",
    "import numpy as np\n",
    "import pickle\n",
    "import torch\n",
    "import proplot as plot\n",
    "import matplotlib.pyplot as plt\n",
    "from tqdm.auto import tqdm\n",
    "import pandas as pd\n",
    "import glob\n",
    "import properscoring as ps\n",
    "from copy import deepcopy\n",
    "plot.rc.update({'figure.facecolor':'w','axes.labelweight':'ultralight',\n",
    "                'tick.labelweight':'ultralight','gridminor.linestyle':'--','title.weight':'normal','linewidth':0.5})\n",
    "import random"
   ]
  },
  {
   "cell_type": "code",
   "execution_count": 2,
   "id": "50dd0e80-795b-42b8-83dd-4134268be510",
   "metadata": {},
   "outputs": [],
   "source": [
    "import sys\n",
    "sys.path.insert(1, '/work/FAC/FGSE/IDYST/tbeucler/default/freddy0218/2024_TCG_VED_WRFsen/')\n",
    "from util.ml import (preproc,vae)\n",
    "from util.wrf_process import (read_and_write)\n",
    "import read_config"
   ]
  },
  {
   "cell_type": "markdown",
   "id": "6c454662-e7e9-4137-871e-ab7f1b2f32e1",
   "metadata": {},
   "source": [
    "# Read files"
   ]
  },
  {
   "cell_type": "code",
   "execution_count": 29,
   "id": "554cb371-26b3-4f3a-9ae3-7da28ba87748",
   "metadata": {},
   "outputs": [],
   "source": [
    "class proc_X:\n",
    "    def __init__(self,X,PCA):\n",
    "        self.X=X\n",
    "        self.PCA=PCA\n",
    "        \n",
    "    def myPCA_projection_sen(self,varname,toproj_flatvar,orig_flatvar):\n",
    "        projvar_transformed = np.dot(toproj_flatvar-np.nanmean(orig_flatvar,axis=0),self.PCA[varname].components_.T)\n",
    "        return projvar_transformed\n",
    "\n",
    "    def create_timeseries(self,varname):\n",
    "        Xtrain,Xvalid,Xtest = self.X['train'], self.X['valid'], self.X['test']\n",
    "        train = self.PCA[varname].transform(Xtrain[varname])\n",
    "        valid = self.myPCA_projection_sen(varname,Xvalid[varname],Xtrain[varname])\n",
    "        test = self.myPCA_projection_sen(varname,Xtest[varname],Xtrain[varname])\n",
    "        return {'train':train,'valid':valid,'test':test}\n",
    "\n",
    "    def normalize_timeseries(self,timeseries=None,category='train'):\n",
    "        #assert timeseries['u'].shape[-1]==26,\"var shape error\"\n",
    "        output = np.zeros_like(timeseries[category])\n",
    "        for le in range(timeseries[category].shape[1]):\n",
    "            trainmean,trainstd = np.nanmean(timeseries['train'][:,le]), np.nanstd(timeseries['train'][:,le])\n",
    "            output[:,le] = (timeseries[category][:,le]-trainmean)/trainstd\n",
    "        return output"
   ]
  },
  {
   "cell_type": "code",
   "execution_count": 148,
   "id": "61f66121-8841-47d4-9e47-9993e482f43b",
   "metadata": {},
   "outputs": [
    {
     "data": {
      "application/json": {
       "ascii": false,
       "bar_format": null,
       "colour": null,
       "elapsed": 0.0038161277770996094,
       "initial": 0,
       "n": 0,
       "ncols": null,
       "nrows": 23,
       "postfix": null,
       "prefix": "",
       "rate": null,
       "total": 19,
       "unit": "it",
       "unit_divisor": 1000,
       "unit_scale": false
      },
      "application/vnd.jupyter.widget-view+json": {
       "model_id": "a401f99b98ec4887b2960f02dff8b85a",
       "version_major": 2,
       "version_minor": 0
      },
      "text/plain": [
       "  0%|          | 0/19 [00:00<?, ?it/s]"
      ]
     },
     "metadata": {},
     "output_type": "display_data"
    }
   ],
   "source": [
    "for i in tqdm(range(len(sorted(glob.glob('../../storage/proc/X/X*'))))[:]):\n",
    "    X = read_and_write.depickle(sorted(glob.glob('../../storage/proc/X/X*'))[i])\n",
    "    PCA = read_and_write.depickle(sorted(glob.glob('../../storage/proc/PCA/PCA*'))[i])\n",
    "    y = read_and_write.depickle(sorted(glob.glob('../../storage/proc/y*'))[i])\n",
    "    validindices = sorted(glob.glob('../../storage/proc/X/X*'))[i].split('/')[-1].split('.')[0][2:]\n",
    "    \n",
    "    LWs = proc_X(X,PCA['PCA']).create_timeseries('LW')\n",
    "    SWs = proc_X(X,PCA['PCA']).create_timeseries('SW')\n",
    "    LWstop = np.abs(PCA['PCA']['LW'].explained_variance_ratio_.cumsum()-0.5).argmin()\n",
    "    SWstop = np.abs(PCA['PCA']['SW'].explained_variance_ratio_.cumsum()-0.8).argmin()\n",
    "    \n",
    "    LWs_norml = {'train':proc_X(X,PCA['PCA']).normalize_timeseries(LWs,'train')[:,:LWstop],\n",
    "                 'valid':proc_X(X,PCA['PCA']).normalize_timeseries(LWs,'valid')[:,:LWstop],\n",
    "                 'test':proc_X(X,PCA['PCA']).normalize_timeseries(LWs,'test')[:,:LWstop]}\n",
    "    SWs_norml = {'train':proc_X(X,PCA['PCA']).normalize_timeseries(SWs,'train')[:,:SWstop],\n",
    "                 'valid':proc_X(X,PCA['PCA']).normalize_timeseries(SWs,'valid')[:,:SWstop],\n",
    "                 'test':proc_X(X,PCA['PCA']).normalize_timeseries(SWs,'test')[:,:SWstop]}\n",
    "    Xtrain = np.concatenate([LWs_norml['train'],SWs_norml['train']],axis=1)\n",
    "    Xvalid = np.concatenate([LWs_norml['valid'],SWs_norml['valid']],axis=1)\n",
    "    Xtest = np.concatenate([LWs_norml['test'],SWs_norml['test']],axis=1)\n",
    "    read_and_write.save_to_pickle({'train':Xtrain,'valid':Xvalid,'Xtest':Xtest},f'../../storage/proc/Xtimeseries_{validindices}.pkl')"
   ]
  },
  {
   "cell_type": "markdown",
   "id": "a644f172-08ed-43a3-a295-581b07a83f7c",
   "metadata": {},
   "source": [
    "# Train VED: Get best params"
   ]
  },
  {
   "cell_type": "code",
   "execution_count": 3,
   "id": "37106678-8d4f-4f94-8ef7-b3a1e434a3e7",
   "metadata": {},
   "outputs": [],
   "source": [
    "def objective(trial):\n",
    "    models,losses = [],[]\n",
    "    model = vae.VAE(nummem[-2],nummem[-1],1,1,1,nummem)\n",
    "    #droprate = trial.suggest_float(\"droprate\",0.05,0.45)\n",
    "    lr = trial.suggest_float(\"lr\",1e-6,1e-3)#,log=True)\n",
    "    optimizer = torch.optim.Adam(model.parameters(),lr=lr)\n",
    "    criterion = vae.vae_loss\n",
    "    n_epochs = 1000\n",
    "    scheduler2 = torch.optim.lr_scheduler.CyclicLR(optimizer, base_lr=1e-8, max_lr=1e-4,cycle_momentum=False)\n",
    "    scheduler = torch.optim.lr_scheduler.ReduceLROnPlateau(optimizer, 'min',min_lr=1e-12)\n",
    "\n",
    "    schedulerCY,schedulerLS = scheduler2,scheduler\n",
    "\n",
    "    l2_lambda = trial.suggest_float(\"l2_lambda\",0.01,0.02)\n",
    "    #model,loss = train_model(model=model,train_data=data_loaders['train'],val_data=data_loaders['val'],optimizer=optimizer,scheduler=[scheduler,scheduler2],numepochs=num_epochs,early_stopper=None,variance_store=None,\\\n",
    "    #                         lossfunc=lossfuncs[0],regularization='L2',l1_lambda=0.1,l2_lambda=l2_lambda,trial=trial)\n",
    "    #torch.save(model,'../tmp/bayesian/saved_model.8.'+str(trial.number)+'.pt')\n",
    "    # Define Loss, Optimizer\n",
    "    train_losses = []\n",
    "    val_losses = []\n",
    "    for epoch in range(1,n_epochs+1):\n",
    "        loss = 0\n",
    "        for features, labels in train_loader:\n",
    "            optimizer.zero_grad() # Clears existing gradients from previous epoch\n",
    "            reconX,mu1,logvar1,mu2,logvar2 = model(features)\n",
    "            batch_loss,_,_ = vae.vae_loss(reconX, labels.unsqueeze(1),mu1,logvar1,mu2,logvar2,losscoeff)\n",
    "            batch_loss.backward()\n",
    "            optimizer.step()\n",
    "            schedulerCY.step()\n",
    "            loss += batch_loss.item()\n",
    "        loss = loss/len(train_loader)\n",
    "        train_losses.append(loss)\n",
    "        criterion = vae.vae_loss\n",
    "        val_loss,_,_ = vae.eval_model(model,\n",
    "                              val_loader,\n",
    "                              criterion,\n",
    "                             l2_lambda,\n",
    "                                  losscoeff)\n",
    "        schedulerLS.step(val_loss)\n",
    "        val_losses.append(val_loss)\n",
    "        if epoch%150 == 0:\n",
    "            print('Epoch: {}/{}.............'.format(epoch, n_epochs))\n",
    "            print(\"Loss: {:.4f}\".format(loss))\n",
    "        #if val_loss <= min(val_losses):\n",
    "        #    torch.save(model,'best_model'+str(trial.number))\n",
    "    #torch.save(model,'./tmp/bayesian/best_model.8.'+str(trial.number)+'.pt')\n",
    "    return val_loss"
   ]
  },
  {
   "cell_type": "code",
   "execution_count": 24,
   "id": "6ce94edc-5e03-42b7-a4ee-da7fb5adc9b2",
   "metadata": {
    "scrolled": true
   },
   "outputs": [
    {
     "name": "stdout",
     "output_type": "stream",
     "text": [
      "0\n"
     ]
    },
    {
     "name": "stderr",
     "output_type": "stream",
     "text": [
      "\u001b[32m[I 2024-08-27 18:09:38,405]\u001b[0m A new study created in memory with name: no-name-926405ba-aa25-498e-b131-0347839ec663\u001b[0m\n"
     ]
    },
    {
     "name": "stdout",
     "output_type": "stream",
     "text": [
      "Epoch: 150/1000.............\n",
      "Loss: 5.6471\n",
      "Epoch: 300/1000.............\n",
      "Loss: 5.2241\n",
      "Epoch: 450/1000.............\n",
      "Loss: 5.0919\n",
      "Epoch: 600/1000.............\n",
      "Loss: 5.0377\n",
      "Epoch: 750/1000.............\n",
      "Loss: 4.9012\n",
      "Epoch: 900/1000.............\n",
      "Loss: 4.8532\n"
     ]
    },
    {
     "name": "stderr",
     "output_type": "stream",
     "text": [
      "\u001b[32m[I 2024-08-27 18:10:48,065]\u001b[0m Trial 0 finished with value: 5.516729139364683 and parameters: {'lr': 0.0005114055114836448, 'l2_lambda': 0.014239164651442357}. Best is trial 0 with value: 5.516729139364683.\u001b[0m\n"
     ]
    },
    {
     "name": "stdout",
     "output_type": "stream",
     "text": [
      "Epoch: 150/1000.............\n",
      "Loss: 5.6004\n",
      "Epoch: 300/1000.............\n",
      "Loss: 5.2823\n",
      "Epoch: 450/1000.............\n",
      "Loss: 5.1068\n",
      "Epoch: 600/1000.............\n",
      "Loss: 5.0325\n",
      "Epoch: 750/1000.............\n",
      "Loss: 4.9294\n",
      "Epoch: 900/1000.............\n",
      "Loss: 4.8994\n"
     ]
    },
    {
     "name": "stderr",
     "output_type": "stream",
     "text": [
      "\u001b[32m[I 2024-08-27 18:11:57,465]\u001b[0m Trial 1 finished with value: 5.272532978883157 and parameters: {'lr': 0.0002845222303140541, 'l2_lambda': 0.013730122347028539}. Best is trial 1 with value: 5.272532978883157.\u001b[0m\n"
     ]
    },
    {
     "name": "stdout",
     "output_type": "stream",
     "text": [
      "Epoch: 150/1000.............\n",
      "Loss: 5.9571\n",
      "Epoch: 300/1000.............\n",
      "Loss: 5.4482\n",
      "Epoch: 450/1000.............\n",
      "Loss: 5.1326\n",
      "Epoch: 600/1000.............\n",
      "Loss: 5.0082\n",
      "Epoch: 750/1000.............\n",
      "Loss: 4.8675\n",
      "Epoch: 900/1000.............\n",
      "Loss: 4.8234\n"
     ]
    },
    {
     "name": "stderr",
     "output_type": "stream",
     "text": [
      "\u001b[32m[I 2024-08-27 18:13:06,001]\u001b[0m Trial 2 finished with value: 5.591683324712974 and parameters: {'lr': 0.00038297620032480957, 'l2_lambda': 0.01765447521527292}. Best is trial 1 with value: 5.272532978883157.\u001b[0m\n"
     ]
    },
    {
     "name": "stdout",
     "output_type": "stream",
     "text": [
      "Epoch: 150/1000.............\n",
      "Loss: 6.2781\n",
      "Epoch: 300/1000.............\n",
      "Loss: 5.4253\n",
      "Epoch: 450/1000.............\n",
      "Loss: 5.2049\n",
      "Epoch: 600/1000.............\n",
      "Loss: 5.0625\n",
      "Epoch: 750/1000.............\n",
      "Loss: 5.0152\n",
      "Epoch: 900/1000.............\n",
      "Loss: 4.9156\n"
     ]
    },
    {
     "name": "stderr",
     "output_type": "stream",
     "text": [
      "\u001b[32m[I 2024-08-27 18:14:15,909]\u001b[0m Trial 3 finished with value: 5.470261825965001 and parameters: {'lr': 8.055127411257104e-05, 'l2_lambda': 0.015180255555590928}. Best is trial 1 with value: 5.272532978883157.\u001b[0m\n"
     ]
    },
    {
     "name": "stdout",
     "output_type": "stream",
     "text": [
      "Epoch: 150/1000.............\n",
      "Loss: 5.5939\n",
      "Epoch: 300/1000.............\n",
      "Loss: 5.2937\n",
      "Epoch: 450/1000.............\n",
      "Loss: 5.0852\n",
      "Epoch: 600/1000.............\n",
      "Loss: 5.0109\n",
      "Epoch: 750/1000.............\n",
      "Loss: 4.8525\n",
      "Epoch: 900/1000.............\n",
      "Loss: 4.8902\n"
     ]
    },
    {
     "name": "stderr",
     "output_type": "stream",
     "text": [
      "\u001b[32m[I 2024-08-27 18:15:24,811]\u001b[0m Trial 4 finished with value: 5.6192914385062 and parameters: {'lr': 0.0006191298371728566, 'l2_lambda': 0.017365924150609422}. Best is trial 1 with value: 5.272532978883157.\u001b[0m\n"
     ]
    },
    {
     "name": "stdout",
     "output_type": "stream",
     "text": [
      "1\n"
     ]
    },
    {
     "name": "stderr",
     "output_type": "stream",
     "text": [
      "\u001b[32m[I 2024-08-27 18:15:35,238]\u001b[0m A new study created in memory with name: no-name-9cec2624-76b6-49ea-8089-32a29080b623\u001b[0m\n"
     ]
    },
    {
     "name": "stdout",
     "output_type": "stream",
     "text": [
      "Epoch: 150/1000.............\n",
      "Loss: 4.7242\n",
      "Epoch: 300/1000.............\n",
      "Loss: 4.2750\n",
      "Epoch: 450/1000.............\n",
      "Loss: 4.0191\n",
      "Epoch: 600/1000.............\n",
      "Loss: 3.8982\n",
      "Epoch: 750/1000.............\n",
      "Loss: 3.8476\n",
      "Epoch: 900/1000.............\n",
      "Loss: 3.8652\n"
     ]
    },
    {
     "name": "stderr",
     "output_type": "stream",
     "text": [
      "\u001b[32m[I 2024-08-27 18:16:42,895]\u001b[0m Trial 0 finished with value: 9.044240495988301 and parameters: {'lr': 0.0007030539952255551, 'l2_lambda': 0.011810143883699088}. Best is trial 0 with value: 9.044240495988301.\u001b[0m\n"
     ]
    },
    {
     "name": "stdout",
     "output_type": "stream",
     "text": [
      "Epoch: 150/1000.............\n",
      "Loss: 4.6801\n",
      "Epoch: 300/1000.............\n",
      "Loss: 4.2497\n",
      "Epoch: 450/1000.............\n",
      "Loss: 4.0462\n",
      "Epoch: 600/1000.............\n",
      "Loss: 3.9617\n",
      "Epoch: 750/1000.............\n",
      "Loss: 3.9259\n",
      "Epoch: 900/1000.............\n",
      "Loss: 3.7949\n"
     ]
    },
    {
     "name": "stderr",
     "output_type": "stream",
     "text": [
      "\u001b[32m[I 2024-08-27 18:17:51,000]\u001b[0m Trial 1 finished with value: 8.958809350218091 and parameters: {'lr': 6.851649109158072e-05, 'l2_lambda': 0.013189956032410789}. Best is trial 1 with value: 8.958809350218091.\u001b[0m\n"
     ]
    },
    {
     "name": "stdout",
     "output_type": "stream",
     "text": [
      "Epoch: 150/1000.............\n",
      "Loss: 5.0175\n",
      "Epoch: 300/1000.............\n",
      "Loss: 4.1280\n",
      "Epoch: 450/1000.............\n",
      "Loss: 4.0297\n",
      "Epoch: 600/1000.............\n",
      "Loss: 3.9112\n",
      "Epoch: 750/1000.............\n",
      "Loss: 3.8770\n",
      "Epoch: 900/1000.............\n",
      "Loss: 3.7820\n"
     ]
    },
    {
     "name": "stderr",
     "output_type": "stream",
     "text": [
      "\u001b[32m[I 2024-08-27 18:18:58,679]\u001b[0m Trial 2 finished with value: 8.975527563265391 and parameters: {'lr': 0.0007060002123380579, 'l2_lambda': 0.010564240514256569}. Best is trial 1 with value: 8.958809350218091.\u001b[0m\n"
     ]
    },
    {
     "name": "stdout",
     "output_type": "stream",
     "text": [
      "Epoch: 150/1000.............\n",
      "Loss: 5.0014\n",
      "Epoch: 300/1000.............\n",
      "Loss: 4.3501\n",
      "Epoch: 450/1000.............\n",
      "Loss: 4.0620\n",
      "Epoch: 600/1000.............\n",
      "Loss: 3.9468\n",
      "Epoch: 750/1000.............\n",
      "Loss: 3.9124\n",
      "Epoch: 900/1000.............\n",
      "Loss: 3.8390\n"
     ]
    },
    {
     "name": "stderr",
     "output_type": "stream",
     "text": [
      "\u001b[32m[I 2024-08-27 18:20:07,347]\u001b[0m Trial 3 finished with value: 9.178758944783892 and parameters: {'lr': 0.00045925907115745184, 'l2_lambda': 0.011173654326285882}. Best is trial 1 with value: 8.958809350218091.\u001b[0m\n"
     ]
    },
    {
     "name": "stdout",
     "output_type": "stream",
     "text": [
      "Epoch: 150/1000.............\n",
      "Loss: 5.2484\n",
      "Epoch: 300/1000.............\n",
      "Loss: 4.3382\n",
      "Epoch: 450/1000.............\n",
      "Loss: 4.1529\n",
      "Epoch: 600/1000.............\n",
      "Loss: 3.9364\n",
      "Epoch: 750/1000.............\n",
      "Loss: 3.9215\n",
      "Epoch: 900/1000.............\n",
      "Loss: 3.8693\n"
     ]
    },
    {
     "name": "stderr",
     "output_type": "stream",
     "text": [
      "\u001b[32m[I 2024-08-27 18:21:16,122]\u001b[0m Trial 4 finished with value: 8.917795449495316 and parameters: {'lr': 0.0002780825777157719, 'l2_lambda': 0.010434500081488435}. Best is trial 4 with value: 8.917795449495316.\u001b[0m\n"
     ]
    },
    {
     "name": "stdout",
     "output_type": "stream",
     "text": [
      "2\n"
     ]
    },
    {
     "name": "stderr",
     "output_type": "stream",
     "text": [
      "\u001b[32m[I 2024-08-27 18:21:25,143]\u001b[0m A new study created in memory with name: no-name-f37f82b2-c585-442b-9e18-a5079bd03ed2\u001b[0m\n"
     ]
    },
    {
     "name": "stdout",
     "output_type": "stream",
     "text": [
      "Epoch: 150/1000.............\n",
      "Loss: 5.9637\n",
      "Epoch: 300/1000.............\n",
      "Loss: 5.3350\n",
      "Epoch: 450/1000.............\n",
      "Loss: 5.1612\n",
      "Epoch: 600/1000.............\n",
      "Loss: 4.9597\n",
      "Epoch: 750/1000.............\n",
      "Loss: 4.9311\n",
      "Epoch: 900/1000.............\n",
      "Loss: 4.8875\n"
     ]
    },
    {
     "name": "stderr",
     "output_type": "stream",
     "text": [
      "\u001b[32m[I 2024-08-27 18:22:37,994]\u001b[0m Trial 0 finished with value: 5.417853253228324 and parameters: {'lr': 0.00022365598235551457, 'l2_lambda': 0.015214532884580322}. Best is trial 0 with value: 5.417853253228324.\u001b[0m\n"
     ]
    },
    {
     "name": "stdout",
     "output_type": "stream",
     "text": [
      "Epoch: 150/1000.............\n",
      "Loss: 5.5529\n",
      "Epoch: 300/1000.............\n",
      "Loss: 5.2606\n",
      "Epoch: 450/1000.............\n",
      "Loss: 5.1103\n",
      "Epoch: 600/1000.............\n",
      "Loss: 4.9012\n",
      "Epoch: 750/1000.............\n",
      "Loss: 4.7932\n",
      "Epoch: 900/1000.............\n",
      "Loss: 4.8320\n"
     ]
    },
    {
     "name": "stderr",
     "output_type": "stream",
     "text": [
      "\u001b[32m[I 2024-08-27 18:23:49,987]\u001b[0m Trial 1 finished with value: 5.294270066987901 and parameters: {'lr': 0.00044392542300596865, 'l2_lambda': 0.013849813999840713}. Best is trial 1 with value: 5.294270066987901.\u001b[0m\n"
     ]
    },
    {
     "name": "stdout",
     "output_type": "stream",
     "text": [
      "Epoch: 150/1000.............\n",
      "Loss: 5.7930\n",
      "Epoch: 300/1000.............\n",
      "Loss: 5.2655\n",
      "Epoch: 450/1000.............\n",
      "Loss: 5.0397\n",
      "Epoch: 600/1000.............\n",
      "Loss: 4.9059\n",
      "Epoch: 750/1000.............\n",
      "Loss: 4.9965\n",
      "Epoch: 900/1000.............\n",
      "Loss: 4.9262\n"
     ]
    },
    {
     "name": "stderr",
     "output_type": "stream",
     "text": [
      "\u001b[32m[I 2024-08-27 18:25:02,884]\u001b[0m Trial 2 finished with value: 5.580116044907343 and parameters: {'lr': 0.00031687810243346317, 'l2_lambda': 0.019560397227993274}. Best is trial 1 with value: 5.294270066987901.\u001b[0m\n"
     ]
    },
    {
     "name": "stdout",
     "output_type": "stream",
     "text": [
      "Epoch: 150/1000.............\n",
      "Loss: 5.5715\n",
      "Epoch: 300/1000.............\n",
      "Loss: 5.4169\n",
      "Epoch: 450/1000.............\n",
      "Loss: 5.1347\n",
      "Epoch: 600/1000.............\n",
      "Loss: 5.0040\n",
      "Epoch: 750/1000.............\n",
      "Loss: 4.9184\n",
      "Epoch: 900/1000.............\n",
      "Loss: 4.9092\n"
     ]
    },
    {
     "name": "stderr",
     "output_type": "stream",
     "text": [
      "\u001b[32m[I 2024-08-27 18:26:15,976]\u001b[0m Trial 3 finished with value: 5.503628043901353 and parameters: {'lr': 0.0001698240737879768, 'l2_lambda': 0.013955925376820028}. Best is trial 1 with value: 5.294270066987901.\u001b[0m\n"
     ]
    },
    {
     "name": "stdout",
     "output_type": "stream",
     "text": [
      "Epoch: 150/1000.............\n",
      "Loss: 6.0955\n",
      "Epoch: 300/1000.............\n",
      "Loss: 5.3569\n",
      "Epoch: 450/1000.............\n",
      "Loss: 5.0347\n",
      "Epoch: 600/1000.............\n",
      "Loss: 5.0452\n",
      "Epoch: 750/1000.............\n",
      "Loss: 4.8049\n",
      "Epoch: 900/1000.............\n",
      "Loss: 4.8664\n"
     ]
    },
    {
     "name": "stderr",
     "output_type": "stream",
     "text": [
      "\u001b[32m[I 2024-08-27 18:27:28,165]\u001b[0m Trial 4 finished with value: 5.5963510147162845 and parameters: {'lr': 0.0007630992311021593, 'l2_lambda': 0.017938093264451966}. Best is trial 1 with value: 5.294270066987901.\u001b[0m\n"
     ]
    },
    {
     "name": "stdout",
     "output_type": "stream",
     "text": [
      "3\n"
     ]
    },
    {
     "name": "stderr",
     "output_type": "stream",
     "text": [
      "\u001b[32m[I 2024-08-27 18:27:36,475]\u001b[0m A new study created in memory with name: no-name-3f93f040-8017-457f-a6f6-3dc235cc20b7\u001b[0m\n"
     ]
    },
    {
     "name": "stdout",
     "output_type": "stream",
     "text": [
      "Epoch: 150/1000.............\n",
      "Loss: 6.5473\n",
      "Epoch: 300/1000.............\n",
      "Loss: 5.7918\n",
      "Epoch: 450/1000.............\n",
      "Loss: 5.7182\n",
      "Epoch: 600/1000.............\n",
      "Loss: 5.6537\n",
      "Epoch: 750/1000.............\n",
      "Loss: 5.3908\n",
      "Epoch: 900/1000.............\n",
      "Loss: 5.3351\n"
     ]
    },
    {
     "name": "stderr",
     "output_type": "stream",
     "text": [
      "\u001b[32m[I 2024-08-27 18:28:45,853]\u001b[0m Trial 0 finished with value: 4.360373932581681 and parameters: {'lr': 0.00026299602276641976, 'l2_lambda': 0.01317023008759303}. Best is trial 0 with value: 4.360373932581681.\u001b[0m\n"
     ]
    },
    {
     "name": "stdout",
     "output_type": "stream",
     "text": [
      "Epoch: 150/1000.............\n",
      "Loss: 6.4254\n",
      "Epoch: 300/1000.............\n",
      "Loss: 5.9181\n",
      "Epoch: 450/1000.............\n",
      "Loss: 5.5336\n",
      "Epoch: 600/1000.............\n",
      "Loss: 5.4530\n",
      "Epoch: 750/1000.............\n",
      "Loss: 5.3398\n",
      "Epoch: 900/1000.............\n",
      "Loss: 5.3642\n"
     ]
    },
    {
     "name": "stderr",
     "output_type": "stream",
     "text": [
      "\u001b[32m[I 2024-08-27 18:29:54,597]\u001b[0m Trial 1 finished with value: 4.1826586448229275 and parameters: {'lr': 0.0002875295935068459, 'l2_lambda': 0.013078875135165402}. Best is trial 1 with value: 4.1826586448229275.\u001b[0m\n"
     ]
    },
    {
     "name": "stdout",
     "output_type": "stream",
     "text": [
      "Epoch: 150/1000.............\n",
      "Loss: 6.0852\n",
      "Epoch: 300/1000.............\n",
      "Loss: 5.7999\n",
      "Epoch: 450/1000.............\n",
      "Loss: 5.6121\n",
      "Epoch: 600/1000.............\n",
      "Loss: 5.5050\n",
      "Epoch: 750/1000.............\n",
      "Loss: 5.4455\n",
      "Epoch: 900/1000.............\n",
      "Loss: 5.3396\n"
     ]
    },
    {
     "name": "stderr",
     "output_type": "stream",
     "text": [
      "\u001b[32m[I 2024-08-27 18:31:03,648]\u001b[0m Trial 2 finished with value: 4.11288399879749 and parameters: {'lr': 0.0002708763544029792, 'l2_lambda': 0.017410084102068794}. Best is trial 2 with value: 4.11288399879749.\u001b[0m\n"
     ]
    },
    {
     "name": "stdout",
     "output_type": "stream",
     "text": [
      "Epoch: 150/1000.............\n",
      "Loss: 6.6299\n",
      "Epoch: 300/1000.............\n",
      "Loss: 5.7762\n",
      "Epoch: 450/1000.............\n",
      "Loss: 5.5917\n",
      "Epoch: 600/1000.............\n",
      "Loss: 5.4303\n",
      "Epoch: 750/1000.............\n",
      "Loss: 5.4200\n",
      "Epoch: 900/1000.............\n",
      "Loss: 5.3233\n"
     ]
    },
    {
     "name": "stderr",
     "output_type": "stream",
     "text": [
      "\u001b[32m[I 2024-08-27 18:32:13,127]\u001b[0m Trial 3 finished with value: 4.208694906188891 and parameters: {'lr': 0.0003657581633946483, 'l2_lambda': 0.010006282185294944}. Best is trial 2 with value: 4.11288399879749.\u001b[0m\n"
     ]
    },
    {
     "name": "stdout",
     "output_type": "stream",
     "text": [
      "Epoch: 150/1000.............\n",
      "Loss: 6.2868\n",
      "Epoch: 300/1000.............\n",
      "Loss: 5.8552\n",
      "Epoch: 450/1000.............\n",
      "Loss: 5.6915\n",
      "Epoch: 600/1000.............\n",
      "Loss: 5.4228\n",
      "Epoch: 750/1000.............\n",
      "Loss: 5.3964\n",
      "Epoch: 900/1000.............\n",
      "Loss: 5.3533\n"
     ]
    },
    {
     "name": "stderr",
     "output_type": "stream",
     "text": [
      "\u001b[32m[I 2024-08-27 18:33:22,390]\u001b[0m Trial 4 finished with value: 4.135993093252182 and parameters: {'lr': 0.0005732385623464765, 'l2_lambda': 0.01779479374384401}. Best is trial 2 with value: 4.11288399879749.\u001b[0m\n"
     ]
    },
    {
     "name": "stdout",
     "output_type": "stream",
     "text": [
      "4\n"
     ]
    },
    {
     "name": "stderr",
     "output_type": "stream",
     "text": [
      "\u001b[32m[I 2024-08-27 18:33:30,353]\u001b[0m A new study created in memory with name: no-name-eff68b32-e202-4b9e-a0f0-ae3d3f5c36bf\u001b[0m\n"
     ]
    },
    {
     "name": "stdout",
     "output_type": "stream",
     "text": [
      "Epoch: 150/1000.............\n",
      "Loss: 6.0305\n",
      "Epoch: 300/1000.............\n",
      "Loss: 5.7738\n",
      "Epoch: 450/1000.............\n",
      "Loss: 5.5706\n",
      "Epoch: 600/1000.............\n",
      "Loss: 5.4865\n",
      "Epoch: 750/1000.............\n",
      "Loss: 5.4216\n",
      "Epoch: 900/1000.............\n",
      "Loss: 5.2609\n"
     ]
    },
    {
     "name": "stderr",
     "output_type": "stream",
     "text": [
      "\u001b[32m[I 2024-08-27 18:34:38,537]\u001b[0m Trial 0 finished with value: 4.5101445359843115 and parameters: {'lr': 0.0009523216917987841, 'l2_lambda': 0.015126303210857582}. Best is trial 0 with value: 4.5101445359843115.\u001b[0m\n"
     ]
    },
    {
     "name": "stdout",
     "output_type": "stream",
     "text": [
      "Epoch: 150/1000.............\n",
      "Loss: 6.4469\n",
      "Epoch: 300/1000.............\n",
      "Loss: 5.9234\n",
      "Epoch: 450/1000.............\n",
      "Loss: 5.5609\n",
      "Epoch: 600/1000.............\n",
      "Loss: 5.4722\n",
      "Epoch: 750/1000.............\n",
      "Loss: 5.4015\n",
      "Epoch: 900/1000.............\n",
      "Loss: 5.2932\n"
     ]
    },
    {
     "name": "stderr",
     "output_type": "stream",
     "text": [
      "\u001b[32m[I 2024-08-27 18:35:47,084]\u001b[0m Trial 1 finished with value: 4.517184542758124 and parameters: {'lr': 0.0009530894841436084, 'l2_lambda': 0.017486150264359582}. Best is trial 0 with value: 4.5101445359843115.\u001b[0m\n"
     ]
    },
    {
     "name": "stdout",
     "output_type": "stream",
     "text": [
      "Epoch: 150/1000.............\n",
      "Loss: 6.4164\n",
      "Epoch: 300/1000.............\n",
      "Loss: 5.8684\n",
      "Epoch: 450/1000.............\n",
      "Loss: 5.4562\n",
      "Epoch: 600/1000.............\n",
      "Loss: 5.5412\n",
      "Epoch: 750/1000.............\n",
      "Loss: 5.3537\n",
      "Epoch: 900/1000.............\n",
      "Loss: 5.3114\n"
     ]
    },
    {
     "name": "stderr",
     "output_type": "stream",
     "text": [
      "\u001b[32m[I 2024-08-27 18:36:55,713]\u001b[0m Trial 2 finished with value: 4.634058620248522 and parameters: {'lr': 0.0005210130365442447, 'l2_lambda': 0.01817826764034558}. Best is trial 0 with value: 4.5101445359843115.\u001b[0m\n"
     ]
    },
    {
     "name": "stdout",
     "output_type": "stream",
     "text": [
      "Epoch: 150/1000.............\n",
      "Loss: 6.5963\n",
      "Epoch: 300/1000.............\n",
      "Loss: 5.8587\n",
      "Epoch: 450/1000.............\n",
      "Loss: 5.6439\n",
      "Epoch: 600/1000.............\n",
      "Loss: 5.4504\n",
      "Epoch: 750/1000.............\n",
      "Loss: 5.3950\n",
      "Epoch: 900/1000.............\n",
      "Loss: 5.2573\n"
     ]
    },
    {
     "name": "stderr",
     "output_type": "stream",
     "text": [
      "\u001b[32m[I 2024-08-27 18:38:04,579]\u001b[0m Trial 3 finished with value: 4.447967982717922 and parameters: {'lr': 0.0009352403170248354, 'l2_lambda': 0.010782723195062781}. Best is trial 3 with value: 4.447967982717922.\u001b[0m\n"
     ]
    },
    {
     "name": "stdout",
     "output_type": "stream",
     "text": [
      "Epoch: 150/1000.............\n",
      "Loss: 5.9219\n",
      "Epoch: 300/1000.............\n",
      "Loss: 5.7650\n",
      "Epoch: 450/1000.............\n",
      "Loss: 5.5885\n",
      "Epoch: 600/1000.............\n",
      "Loss: 5.3944\n",
      "Epoch: 750/1000.............\n",
      "Loss: 5.3350\n",
      "Epoch: 900/1000.............\n",
      "Loss: 5.3227\n"
     ]
    },
    {
     "name": "stderr",
     "output_type": "stream",
     "text": [
      "\u001b[32m[I 2024-08-27 18:39:13,390]\u001b[0m Trial 4 finished with value: 4.501476988196373 and parameters: {'lr': 0.00033434809390510634, 'l2_lambda': 0.01715322057912228}. Best is trial 3 with value: 4.447967982717922.\u001b[0m\n"
     ]
    },
    {
     "name": "stdout",
     "output_type": "stream",
     "text": [
      "5\n"
     ]
    },
    {
     "name": "stderr",
     "output_type": "stream",
     "text": [
      "\u001b[32m[I 2024-08-27 18:39:21,855]\u001b[0m A new study created in memory with name: no-name-abe74d01-15bd-4887-ba4f-550606236de0\u001b[0m\n"
     ]
    },
    {
     "name": "stdout",
     "output_type": "stream",
     "text": [
      "Epoch: 150/1000.............\n",
      "Loss: 5.0426\n",
      "Epoch: 300/1000.............\n",
      "Loss: 4.5584\n",
      "Epoch: 450/1000.............\n",
      "Loss: 4.4519\n",
      "Epoch: 600/1000.............\n",
      "Loss: 4.2826\n",
      "Epoch: 750/1000.............\n",
      "Loss: 4.3337\n",
      "Epoch: 900/1000.............\n",
      "Loss: 4.2370\n"
     ]
    },
    {
     "name": "stderr",
     "output_type": "stream",
     "text": [
      "\u001b[32m[I 2024-08-27 18:40:30,488]\u001b[0m Trial 0 finished with value: 7.9032812629427225 and parameters: {'lr': 0.00010091296948114507, 'l2_lambda': 0.015072943224780975}. Best is trial 0 with value: 7.9032812629427225.\u001b[0m\n"
     ]
    },
    {
     "name": "stdout",
     "output_type": "stream",
     "text": [
      "Epoch: 150/1000.............\n",
      "Loss: 4.9831\n",
      "Epoch: 300/1000.............\n",
      "Loss: 4.5928\n",
      "Epoch: 450/1000.............\n",
      "Loss: 4.4501\n",
      "Epoch: 600/1000.............\n",
      "Loss: 4.3397\n",
      "Epoch: 750/1000.............\n",
      "Loss: 4.3337\n",
      "Epoch: 900/1000.............\n",
      "Loss: 4.2783\n"
     ]
    },
    {
     "name": "stderr",
     "output_type": "stream",
     "text": [
      "\u001b[32m[I 2024-08-27 18:41:39,145]\u001b[0m Trial 1 finished with value: 7.974513283797672 and parameters: {'lr': 0.0009180741841012727, 'l2_lambda': 0.011299757141236433}. Best is trial 0 with value: 7.9032812629427225.\u001b[0m\n"
     ]
    },
    {
     "name": "stdout",
     "output_type": "stream",
     "text": [
      "Epoch: 150/1000.............\n",
      "Loss: 4.9795\n",
      "Epoch: 300/1000.............\n",
      "Loss: 4.7067\n",
      "Epoch: 450/1000.............\n",
      "Loss: 4.3814\n",
      "Epoch: 600/1000.............\n",
      "Loss: 4.3573\n",
      "Epoch: 750/1000.............\n",
      "Loss: 4.3100\n",
      "Epoch: 900/1000.............\n",
      "Loss: 4.2461\n"
     ]
    },
    {
     "name": "stderr",
     "output_type": "stream",
     "text": [
      "\u001b[32m[I 2024-08-27 18:42:47,714]\u001b[0m Trial 2 finished with value: 7.8779438074146 and parameters: {'lr': 3.116261651900668e-05, 'l2_lambda': 0.010671405755759394}. Best is trial 2 with value: 7.8779438074146.\u001b[0m\n"
     ]
    },
    {
     "name": "stdout",
     "output_type": "stream",
     "text": [
      "Epoch: 150/1000.............\n",
      "Loss: 4.8908\n",
      "Epoch: 300/1000.............\n",
      "Loss: 4.6544\n",
      "Epoch: 450/1000.............\n",
      "Loss: 4.5616\n",
      "Epoch: 600/1000.............\n",
      "Loss: 4.3787\n",
      "Epoch: 750/1000.............\n",
      "Loss: 4.2729\n",
      "Epoch: 900/1000.............\n",
      "Loss: 4.2907\n"
     ]
    },
    {
     "name": "stderr",
     "output_type": "stream",
     "text": [
      "\u001b[32m[I 2024-08-27 18:43:55,888]\u001b[0m Trial 3 finished with value: 7.771754903452737 and parameters: {'lr': 0.0008606461060469116, 'l2_lambda': 0.012686063292901471}. Best is trial 3 with value: 7.771754903452737.\u001b[0m\n"
     ]
    },
    {
     "name": "stdout",
     "output_type": "stream",
     "text": [
      "Epoch: 150/1000.............\n",
      "Loss: 5.3777\n",
      "Epoch: 300/1000.............\n",
      "Loss: 4.6633\n",
      "Epoch: 450/1000.............\n",
      "Loss: 4.5029\n",
      "Epoch: 600/1000.............\n",
      "Loss: 4.3074\n",
      "Epoch: 750/1000.............\n",
      "Loss: 4.2342\n",
      "Epoch: 900/1000.............\n",
      "Loss: 4.2741\n"
     ]
    },
    {
     "name": "stderr",
     "output_type": "stream",
     "text": [
      "\u001b[32m[I 2024-08-27 18:45:02,705]\u001b[0m Trial 4 finished with value: 7.941075163228171 and parameters: {'lr': 0.0002825231626930538, 'l2_lambda': 0.01007755621137447}. Best is trial 3 with value: 7.771754903452737.\u001b[0m\n"
     ]
    },
    {
     "name": "stdout",
     "output_type": "stream",
     "text": [
      "6\n"
     ]
    },
    {
     "name": "stderr",
     "output_type": "stream",
     "text": [
      "\u001b[32m[I 2024-08-27 18:45:07,869]\u001b[0m A new study created in memory with name: no-name-2000dbf8-106a-4510-9a91-2dede479e09f\u001b[0m\n"
     ]
    },
    {
     "name": "stdout",
     "output_type": "stream",
     "text": [
      "Epoch: 150/1000.............\n",
      "Loss: 6.1656\n",
      "Epoch: 300/1000.............\n",
      "Loss: 5.9584\n",
      "Epoch: 450/1000.............\n",
      "Loss: 5.6657\n",
      "Epoch: 600/1000.............\n",
      "Loss: 5.5655\n",
      "Epoch: 750/1000.............\n",
      "Loss: 5.5209\n",
      "Epoch: 900/1000.............\n",
      "Loss: 5.4290\n"
     ]
    },
    {
     "name": "stderr",
     "output_type": "stream",
     "text": [
      "\u001b[32m[I 2024-08-27 18:46:15,291]\u001b[0m Trial 0 finished with value: 3.9953112602233887 and parameters: {'lr': 0.0008137289803710928, 'l2_lambda': 0.012152100000965563}. Best is trial 0 with value: 3.9953112602233887.\u001b[0m\n"
     ]
    },
    {
     "name": "stdout",
     "output_type": "stream",
     "text": [
      "Epoch: 150/1000.............\n",
      "Loss: 6.1287\n",
      "Epoch: 300/1000.............\n",
      "Loss: 5.7822\n",
      "Epoch: 450/1000.............\n",
      "Loss: 5.6315\n",
      "Epoch: 600/1000.............\n",
      "Loss: 5.5412\n",
      "Epoch: 750/1000.............\n",
      "Loss: 5.5242\n",
      "Epoch: 900/1000.............\n",
      "Loss: 5.4418\n"
     ]
    },
    {
     "name": "stderr",
     "output_type": "stream",
     "text": [
      "\u001b[32m[I 2024-08-27 18:47:23,811]\u001b[0m Trial 1 finished with value: 4.038751042806185 and parameters: {'lr': 0.00040948979120285857, 'l2_lambda': 0.01401405482326786}. Best is trial 0 with value: 3.9953112602233887.\u001b[0m\n"
     ]
    },
    {
     "name": "stdout",
     "output_type": "stream",
     "text": [
      "Epoch: 150/1000.............\n",
      "Loss: 6.1585\n",
      "Epoch: 300/1000.............\n",
      "Loss: 5.9388\n",
      "Epoch: 450/1000.............\n",
      "Loss: 5.6829\n",
      "Epoch: 600/1000.............\n",
      "Loss: 5.5656\n",
      "Epoch: 750/1000.............\n",
      "Loss: 5.5407\n",
      "Epoch: 900/1000.............\n",
      "Loss: 5.4362\n"
     ]
    },
    {
     "name": "stderr",
     "output_type": "stream",
     "text": [
      "\u001b[32m[I 2024-08-27 18:48:33,757]\u001b[0m Trial 2 finished with value: 3.8799679508576026 and parameters: {'lr': 0.00015134636460031002, 'l2_lambda': 0.01052975843150815}. Best is trial 2 with value: 3.8799679508576026.\u001b[0m\n"
     ]
    },
    {
     "name": "stdout",
     "output_type": "stream",
     "text": [
      "Epoch: 150/1000.............\n",
      "Loss: 6.3133\n",
      "Epoch: 300/1000.............\n",
      "Loss: 5.8867\n",
      "Epoch: 450/1000.............\n",
      "Loss: 5.6479\n",
      "Epoch: 600/1000.............\n",
      "Loss: 5.4908\n",
      "Epoch: 750/1000.............\n",
      "Loss: 5.5325\n",
      "Epoch: 900/1000.............\n",
      "Loss: 5.4811\n"
     ]
    },
    {
     "name": "stderr",
     "output_type": "stream",
     "text": [
      "\u001b[32m[I 2024-08-27 18:49:43,840]\u001b[0m Trial 3 finished with value: 3.9372504766170797 and parameters: {'lr': 0.0001751780032257294, 'l2_lambda': 0.01914217307751751}. Best is trial 2 with value: 3.8799679508576026.\u001b[0m\n"
     ]
    },
    {
     "name": "stdout",
     "output_type": "stream",
     "text": [
      "Epoch: 150/1000.............\n",
      "Loss: 7.1984\n",
      "Epoch: 300/1000.............\n",
      "Loss: 6.1784\n",
      "Epoch: 450/1000.............\n",
      "Loss: 5.7554\n",
      "Epoch: 600/1000.............\n",
      "Loss: 5.6077\n",
      "Epoch: 750/1000.............\n",
      "Loss: 5.5428\n",
      "Epoch: 900/1000.............\n",
      "Loss: 5.4945\n"
     ]
    },
    {
     "name": "stderr",
     "output_type": "stream",
     "text": [
      "\u001b[32m[I 2024-08-27 18:50:54,105]\u001b[0m Trial 4 finished with value: 4.080104772861187 and parameters: {'lr': 0.00025141163675886525, 'l2_lambda': 0.014423776280390096}. Best is trial 2 with value: 3.8799679508576026.\u001b[0m\n"
     ]
    },
    {
     "name": "stdout",
     "output_type": "stream",
     "text": [
      "7\n"
     ]
    },
    {
     "name": "stderr",
     "output_type": "stream",
     "text": [
      "\u001b[32m[I 2024-08-27 18:50:59,689]\u001b[0m A new study created in memory with name: no-name-306b50c8-c2e9-4649-a8c6-02b224a2759a\u001b[0m\n"
     ]
    },
    {
     "name": "stdout",
     "output_type": "stream",
     "text": [
      "Epoch: 150/1000.............\n",
      "Loss: 6.0314\n",
      "Epoch: 300/1000.............\n",
      "Loss: 5.2147\n",
      "Epoch: 450/1000.............\n",
      "Loss: 4.8788\n",
      "Epoch: 600/1000.............\n",
      "Loss: 4.8010\n",
      "Epoch: 750/1000.............\n",
      "Loss: 4.7699\n",
      "Epoch: 900/1000.............\n",
      "Loss: 4.6591\n"
     ]
    },
    {
     "name": "stderr",
     "output_type": "stream",
     "text": [
      "\u001b[32m[I 2024-08-27 18:52:09,437]\u001b[0m Trial 0 finished with value: 6.547754883766174 and parameters: {'lr': 0.0001993366614556341, 'l2_lambda': 0.017689328856185023}. Best is trial 0 with value: 6.547754883766174.\u001b[0m\n"
     ]
    },
    {
     "name": "stdout",
     "output_type": "stream",
     "text": [
      "Epoch: 150/1000.............\n",
      "Loss: 5.6845\n",
      "Epoch: 300/1000.............\n",
      "Loss: 5.0890\n",
      "Epoch: 450/1000.............\n",
      "Loss: 4.9211\n",
      "Epoch: 600/1000.............\n",
      "Loss: 4.8257\n",
      "Epoch: 750/1000.............\n",
      "Loss: 4.6866\n",
      "Epoch: 900/1000.............\n",
      "Loss: 4.6212\n"
     ]
    },
    {
     "name": "stderr",
     "output_type": "stream",
     "text": [
      "\u001b[32m[I 2024-08-27 18:53:19,079]\u001b[0m Trial 1 finished with value: 6.6595285468631324 and parameters: {'lr': 0.0007746993059377311, 'l2_lambda': 0.014584384264763085}. Best is trial 0 with value: 6.547754883766174.\u001b[0m\n"
     ]
    },
    {
     "name": "stdout",
     "output_type": "stream",
     "text": [
      "Epoch: 150/1000.............\n",
      "Loss: 5.7346\n",
      "Epoch: 300/1000.............\n",
      "Loss: 5.1534\n",
      "Epoch: 450/1000.............\n",
      "Loss: 4.9021\n",
      "Epoch: 600/1000.............\n",
      "Loss: 4.6334\n",
      "Epoch: 750/1000.............\n",
      "Loss: 4.7154\n",
      "Epoch: 900/1000.............\n",
      "Loss: 4.5989\n"
     ]
    },
    {
     "name": "stderr",
     "output_type": "stream",
     "text": [
      "\u001b[32m[I 2024-08-27 18:54:28,834]\u001b[0m Trial 2 finished with value: 6.706532279650371 and parameters: {'lr': 0.0004871546341898372, 'l2_lambda': 0.018313436092319307}. Best is trial 0 with value: 6.547754883766174.\u001b[0m\n"
     ]
    },
    {
     "name": "stdout",
     "output_type": "stream",
     "text": [
      "Epoch: 150/1000.............\n",
      "Loss: 5.7412\n",
      "Epoch: 300/1000.............\n",
      "Loss: 5.0562\n",
      "Epoch: 450/1000.............\n",
      "Loss: 4.8713\n",
      "Epoch: 600/1000.............\n",
      "Loss: 4.7401\n",
      "Epoch: 750/1000.............\n",
      "Loss: 4.5412\n",
      "Epoch: 900/1000.............\n",
      "Loss: 4.5998\n"
     ]
    },
    {
     "name": "stderr",
     "output_type": "stream",
     "text": [
      "\u001b[32m[I 2024-08-27 18:55:38,573]\u001b[0m Trial 3 finished with value: 6.607102694334807 and parameters: {'lr': 0.0005517282326159797, 'l2_lambda': 0.01120169871274697}. Best is trial 0 with value: 6.547754883766174.\u001b[0m\n"
     ]
    },
    {
     "name": "stdout",
     "output_type": "stream",
     "text": [
      "Epoch: 150/1000.............\n",
      "Loss: 5.5610\n",
      "Epoch: 300/1000.............\n",
      "Loss: 5.1134\n",
      "Epoch: 450/1000.............\n",
      "Loss: 4.8369\n",
      "Epoch: 600/1000.............\n",
      "Loss: 4.7052\n",
      "Epoch: 750/1000.............\n",
      "Loss: 4.6643\n",
      "Epoch: 900/1000.............\n",
      "Loss: 4.6235\n"
     ]
    },
    {
     "name": "stderr",
     "output_type": "stream",
     "text": [
      "\u001b[32m[I 2024-08-27 18:56:48,389]\u001b[0m Trial 4 finished with value: 6.70870777854213 and parameters: {'lr': 1.9004687790676144e-05, 'l2_lambda': 0.015493627563716618}. Best is trial 0 with value: 6.547754883766174.\u001b[0m\n"
     ]
    },
    {
     "name": "stdout",
     "output_type": "stream",
     "text": [
      "8\n"
     ]
    },
    {
     "name": "stderr",
     "output_type": "stream",
     "text": [
      "\u001b[32m[I 2024-08-27 18:56:54,482]\u001b[0m A new study created in memory with name: no-name-6379cbbc-bbed-4630-a97a-0218f0d0f7d6\u001b[0m\n"
     ]
    },
    {
     "name": "stdout",
     "output_type": "stream",
     "text": [
      "Epoch: 150/1000.............\n",
      "Loss: 5.5025\n",
      "Epoch: 300/1000.............\n",
      "Loss: 5.2882\n",
      "Epoch: 450/1000.............\n",
      "Loss: 5.2747\n",
      "Epoch: 600/1000.............\n",
      "Loss: 5.1639\n",
      "Epoch: 750/1000.............\n",
      "Loss: 5.1992\n",
      "Epoch: 900/1000.............\n",
      "Loss: 5.0366\n"
     ]
    },
    {
     "name": "stderr",
     "output_type": "stream",
     "text": [
      "\u001b[32m[I 2024-08-27 18:58:04,338]\u001b[0m Trial 0 finished with value: 5.687243850142868 and parameters: {'lr': 0.0005265888824528723, 'l2_lambda': 0.015471269632068508}. Best is trial 0 with value: 5.687243850142868.\u001b[0m\n"
     ]
    },
    {
     "name": "stdout",
     "output_type": "stream",
     "text": [
      "Epoch: 150/1000.............\n",
      "Loss: 6.2574\n",
      "Epoch: 300/1000.............\n",
      "Loss: 5.6163\n",
      "Epoch: 450/1000.............\n",
      "Loss: 5.2336\n",
      "Epoch: 600/1000.............\n",
      "Loss: 5.1747\n",
      "Epoch: 750/1000.............\n",
      "Loss: 5.1058\n",
      "Epoch: 900/1000.............\n",
      "Loss: 5.0565\n"
     ]
    },
    {
     "name": "stderr",
     "output_type": "stream",
     "text": [
      "\u001b[32m[I 2024-08-27 18:59:14,074]\u001b[0m Trial 1 finished with value: 5.625567135987459 and parameters: {'lr': 0.0009582277811679432, 'l2_lambda': 0.016401838953763966}. Best is trial 1 with value: 5.625567135987459.\u001b[0m\n"
     ]
    },
    {
     "name": "stdout",
     "output_type": "stream",
     "text": [
      "Epoch: 150/1000.............\n",
      "Loss: 5.9546\n",
      "Epoch: 300/1000.............\n",
      "Loss: 5.2996\n",
      "Epoch: 450/1000.............\n",
      "Loss: 5.3032\n",
      "Epoch: 600/1000.............\n",
      "Loss: 5.0825\n",
      "Epoch: 750/1000.............\n",
      "Loss: 5.0755\n",
      "Epoch: 900/1000.............\n",
      "Loss: 5.0279\n"
     ]
    },
    {
     "name": "stderr",
     "output_type": "stream",
     "text": [
      "\u001b[32m[I 2024-08-27 19:00:23,778]\u001b[0m Trial 2 finished with value: 5.608036239941915 and parameters: {'lr': 0.00013179375813372637, 'l2_lambda': 0.016868781798961823}. Best is trial 2 with value: 5.608036239941915.\u001b[0m\n"
     ]
    },
    {
     "name": "stdout",
     "output_type": "stream",
     "text": [
      "Epoch: 150/1000.............\n",
      "Loss: 5.9362\n",
      "Epoch: 300/1000.............\n",
      "Loss: 5.3857\n",
      "Epoch: 450/1000.............\n",
      "Loss: 5.1844\n",
      "Epoch: 600/1000.............\n",
      "Loss: 5.1060\n",
      "Epoch: 750/1000.............\n",
      "Loss: 5.0260\n",
      "Epoch: 900/1000.............\n",
      "Loss: 5.0186\n"
     ]
    },
    {
     "name": "stderr",
     "output_type": "stream",
     "text": [
      "\u001b[32m[I 2024-08-27 19:01:33,615]\u001b[0m Trial 3 finished with value: 5.678350726763408 and parameters: {'lr': 0.00046114949491304934, 'l2_lambda': 0.014786638386750879}. Best is trial 2 with value: 5.608036239941915.\u001b[0m\n"
     ]
    },
    {
     "name": "stdout",
     "output_type": "stream",
     "text": [
      "Epoch: 150/1000.............\n",
      "Loss: 5.8148\n",
      "Epoch: 300/1000.............\n",
      "Loss: 5.3807\n",
      "Epoch: 450/1000.............\n",
      "Loss: 5.2977\n",
      "Epoch: 600/1000.............\n",
      "Loss: 5.1312\n",
      "Epoch: 750/1000.............\n",
      "Loss: 5.1324\n",
      "Epoch: 900/1000.............\n",
      "Loss: 5.0398\n"
     ]
    },
    {
     "name": "stderr",
     "output_type": "stream",
     "text": [
      "\u001b[32m[I 2024-08-27 19:02:43,506]\u001b[0m Trial 4 finished with value: 5.708241325837594 and parameters: {'lr': 8.090185829050462e-05, 'l2_lambda': 0.019472896636028483}. Best is trial 2 with value: 5.608036239941915.\u001b[0m\n"
     ]
    },
    {
     "name": "stdout",
     "output_type": "stream",
     "text": [
      "9\n"
     ]
    },
    {
     "name": "stderr",
     "output_type": "stream",
     "text": [
      "\u001b[32m[I 2024-08-27 19:02:50,545]\u001b[0m A new study created in memory with name: no-name-eea483ff-406d-437d-b330-b44e6640c32b\u001b[0m\n"
     ]
    },
    {
     "name": "stdout",
     "output_type": "stream",
     "text": [
      "Epoch: 150/1000.............\n",
      "Loss: 5.4638\n",
      "Epoch: 300/1000.............\n",
      "Loss: 4.6413\n",
      "Epoch: 450/1000.............\n",
      "Loss: 4.2270\n",
      "Epoch: 600/1000.............\n",
      "Loss: 4.0646\n",
      "Epoch: 750/1000.............\n",
      "Loss: 4.0903\n",
      "Epoch: 900/1000.............\n",
      "Loss: 4.0587\n"
     ]
    },
    {
     "name": "stderr",
     "output_type": "stream",
     "text": [
      "\u001b[32m[I 2024-08-27 19:03:59,785]\u001b[0m Trial 0 finished with value: 8.745331019163132 and parameters: {'lr': 0.00041663155593901763, 'l2_lambda': 0.019552893440174385}. Best is trial 0 with value: 8.745331019163132.\u001b[0m\n"
     ]
    },
    {
     "name": "stdout",
     "output_type": "stream",
     "text": [
      "Epoch: 150/1000.............\n",
      "Loss: 4.6430\n",
      "Epoch: 300/1000.............\n",
      "Loss: 4.4234\n",
      "Epoch: 450/1000.............\n",
      "Loss: 4.1613\n",
      "Epoch: 600/1000.............\n",
      "Loss: 4.0887\n",
      "Epoch: 750/1000.............\n",
      "Loss: 4.0301\n",
      "Epoch: 900/1000.............\n",
      "Loss: 4.0332\n"
     ]
    },
    {
     "name": "stderr",
     "output_type": "stream",
     "text": [
      "\u001b[32m[I 2024-08-27 19:05:08,959]\u001b[0m Trial 1 finished with value: 8.880331422601428 and parameters: {'lr': 0.0006769045056167687, 'l2_lambda': 0.017024421633408327}. Best is trial 0 with value: 8.745331019163132.\u001b[0m\n"
     ]
    },
    {
     "name": "stdout",
     "output_type": "stream",
     "text": [
      "Epoch: 150/1000.............\n",
      "Loss: 4.7561\n",
      "Epoch: 300/1000.............\n",
      "Loss: 4.3295\n",
      "Epoch: 450/1000.............\n",
      "Loss: 4.2530\n",
      "Epoch: 600/1000.............\n",
      "Loss: 4.1059\n",
      "Epoch: 750/1000.............\n",
      "Loss: 4.1096\n",
      "Epoch: 900/1000.............\n",
      "Loss: 4.0699\n"
     ]
    },
    {
     "name": "stderr",
     "output_type": "stream",
     "text": [
      "\u001b[32m[I 2024-08-27 19:06:17,874]\u001b[0m Trial 2 finished with value: 8.79268277968679 and parameters: {'lr': 0.0008023828215779116, 'l2_lambda': 0.01588720396907442}. Best is trial 0 with value: 8.745331019163132.\u001b[0m\n"
     ]
    },
    {
     "name": "stdout",
     "output_type": "stream",
     "text": [
      "Epoch: 150/1000.............\n",
      "Loss: 5.0513\n",
      "Epoch: 300/1000.............\n",
      "Loss: 4.4746\n",
      "Epoch: 450/1000.............\n",
      "Loss: 4.2512\n",
      "Epoch: 600/1000.............\n",
      "Loss: 4.0887\n",
      "Epoch: 750/1000.............\n",
      "Loss: 4.0132\n",
      "Epoch: 900/1000.............\n",
      "Loss: 3.9880\n"
     ]
    },
    {
     "name": "stderr",
     "output_type": "stream",
     "text": [
      "\u001b[32m[I 2024-08-27 19:07:26,960]\u001b[0m Trial 3 finished with value: 8.881545241389956 and parameters: {'lr': 0.0008589872589642875, 'l2_lambda': 0.01197750059160919}. Best is trial 0 with value: 8.745331019163132.\u001b[0m\n"
     ]
    },
    {
     "name": "stdout",
     "output_type": "stream",
     "text": [
      "Epoch: 150/1000.............\n",
      "Loss: 4.6709\n",
      "Epoch: 300/1000.............\n",
      "Loss: 4.3611\n",
      "Epoch: 450/1000.............\n",
      "Loss: 4.2826\n",
      "Epoch: 600/1000.............\n",
      "Loss: 4.1354\n",
      "Epoch: 750/1000.............\n",
      "Loss: 4.0654\n",
      "Epoch: 900/1000.............\n",
      "Loss: 4.0652\n"
     ]
    },
    {
     "name": "stderr",
     "output_type": "stream",
     "text": [
      "\u001b[32m[I 2024-08-27 19:08:35,793]\u001b[0m Trial 4 finished with value: 8.831087789365224 and parameters: {'lr': 0.0009938558674637292, 'l2_lambda': 0.014494481531663958}. Best is trial 0 with value: 8.745331019163132.\u001b[0m\n"
     ]
    },
    {
     "name": "stdout",
     "output_type": "stream",
     "text": [
      "10\n"
     ]
    },
    {
     "name": "stderr",
     "output_type": "stream",
     "text": [
      "\u001b[32m[I 2024-08-27 19:08:43,240]\u001b[0m A new study created in memory with name: no-name-5eaa8356-9af1-4023-a7e6-e1e346745a1e\u001b[0m\n"
     ]
    },
    {
     "name": "stdout",
     "output_type": "stream",
     "text": [
      "Epoch: 150/1000.............\n",
      "Loss: 5.8031\n",
      "Epoch: 300/1000.............\n",
      "Loss: 5.4703\n",
      "Epoch: 450/1000.............\n",
      "Loss: 5.3228\n",
      "Epoch: 600/1000.............\n",
      "Loss: 5.1846\n",
      "Epoch: 750/1000.............\n",
      "Loss: 5.1500\n",
      "Epoch: 900/1000.............\n",
      "Loss: 5.0736\n"
     ]
    },
    {
     "name": "stderr",
     "output_type": "stream",
     "text": [
      "\u001b[32m[I 2024-08-27 19:09:55,777]\u001b[0m Trial 0 finished with value: 5.041893907955715 and parameters: {'lr': 0.0003204602383773736, 'l2_lambda': 0.01391705550096341}. Best is trial 0 with value: 5.041893907955715.\u001b[0m\n"
     ]
    },
    {
     "name": "stdout",
     "output_type": "stream",
     "text": [
      "Epoch: 150/1000.............\n",
      "Loss: 5.8028\n",
      "Epoch: 300/1000.............\n",
      "Loss: 5.3736\n",
      "Epoch: 450/1000.............\n",
      "Loss: 5.3217\n",
      "Epoch: 600/1000.............\n",
      "Loss: 5.1998\n",
      "Epoch: 750/1000.............\n",
      "Loss: 5.0172\n",
      "Epoch: 900/1000.............\n",
      "Loss: 5.0075\n"
     ]
    },
    {
     "name": "stderr",
     "output_type": "stream",
     "text": [
      "\u001b[32m[I 2024-08-27 19:11:08,462]\u001b[0m Trial 1 finished with value: 5.135699283509028 and parameters: {'lr': 0.00045886105765916615, 'l2_lambda': 0.019297028014727043}. Best is trial 0 with value: 5.041893907955715.\u001b[0m\n"
     ]
    },
    {
     "name": "stdout",
     "output_type": "stream",
     "text": [
      "Epoch: 150/1000.............\n",
      "Loss: 6.2363\n",
      "Epoch: 300/1000.............\n",
      "Loss: 5.5418\n",
      "Epoch: 450/1000.............\n",
      "Loss: 5.3182\n",
      "Epoch: 600/1000.............\n",
      "Loss: 5.1583\n",
      "Epoch: 750/1000.............\n",
      "Loss: 5.0707\n",
      "Epoch: 900/1000.............\n",
      "Loss: 4.9835\n"
     ]
    },
    {
     "name": "stderr",
     "output_type": "stream",
     "text": [
      "\u001b[32m[I 2024-08-27 19:12:21,155]\u001b[0m Trial 2 finished with value: 5.1289552961077005 and parameters: {'lr': 7.764162049117532e-06, 'l2_lambda': 0.018127916993692962}. Best is trial 0 with value: 5.041893907955715.\u001b[0m\n"
     ]
    },
    {
     "name": "stdout",
     "output_type": "stream",
     "text": [
      "Epoch: 150/1000.............\n",
      "Loss: 5.7922\n",
      "Epoch: 300/1000.............\n",
      "Loss: 5.4815\n",
      "Epoch: 450/1000.............\n",
      "Loss: 5.3316\n",
      "Epoch: 600/1000.............\n",
      "Loss: 5.2199\n",
      "Epoch: 750/1000.............\n",
      "Loss: 5.1141\n",
      "Epoch: 900/1000.............\n",
      "Loss: 5.1357\n"
     ]
    },
    {
     "name": "stderr",
     "output_type": "stream",
     "text": [
      "\u001b[32m[I 2024-08-27 19:13:34,146]\u001b[0m Trial 3 finished with value: 5.0812976729302175 and parameters: {'lr': 0.0003794010224298973, 'l2_lambda': 0.016175754712217945}. Best is trial 0 with value: 5.041893907955715.\u001b[0m\n"
     ]
    },
    {
     "name": "stdout",
     "output_type": "stream",
     "text": [
      "Epoch: 150/1000.............\n",
      "Loss: 6.0861\n",
      "Epoch: 300/1000.............\n",
      "Loss: 5.5004\n",
      "Epoch: 450/1000.............\n",
      "Loss: 5.3876\n",
      "Epoch: 600/1000.............\n",
      "Loss: 5.1614\n",
      "Epoch: 750/1000.............\n",
      "Loss: 5.0467\n",
      "Epoch: 900/1000.............\n",
      "Loss: 5.0262\n"
     ]
    },
    {
     "name": "stderr",
     "output_type": "stream",
     "text": [
      "\u001b[32m[I 2024-08-27 19:14:47,294]\u001b[0m Trial 4 finished with value: 5.092907916931879 and parameters: {'lr': 0.0007464000306665298, 'l2_lambda': 0.014964075596165863}. Best is trial 0 with value: 5.041893907955715.\u001b[0m\n"
     ]
    },
    {
     "name": "stdout",
     "output_type": "stream",
     "text": [
      "11\n"
     ]
    },
    {
     "name": "stderr",
     "output_type": "stream",
     "text": [
      "\u001b[32m[I 2024-08-27 19:14:54,356]\u001b[0m A new study created in memory with name: no-name-7f7c5041-a013-4be4-8f50-8784dde962bc\u001b[0m\n"
     ]
    },
    {
     "name": "stdout",
     "output_type": "stream",
     "text": [
      "Epoch: 150/1000.............\n",
      "Loss: 6.6315\n",
      "Epoch: 300/1000.............\n",
      "Loss: 5.9887\n",
      "Epoch: 450/1000.............\n",
      "Loss: 5.6553\n",
      "Epoch: 600/1000.............\n",
      "Loss: 5.6353\n",
      "Epoch: 750/1000.............\n",
      "Loss: 5.5876\n",
      "Epoch: 900/1000.............\n",
      "Loss: 5.4736\n"
     ]
    },
    {
     "name": "stderr",
     "output_type": "stream",
     "text": [
      "\u001b[32m[I 2024-08-27 19:16:05,677]\u001b[0m Trial 0 finished with value: 3.7114904870589576 and parameters: {'lr': 5.607967001102204e-05, 'l2_lambda': 0.012187607403470264}. Best is trial 0 with value: 3.7114904870589576.\u001b[0m\n"
     ]
    },
    {
     "name": "stdout",
     "output_type": "stream",
     "text": [
      "Epoch: 150/1000.............\n",
      "Loss: 6.5894\n",
      "Epoch: 300/1000.............\n",
      "Loss: 5.9725\n",
      "Epoch: 450/1000.............\n",
      "Loss: 5.6830\n",
      "Epoch: 600/1000.............\n",
      "Loss: 5.5611\n",
      "Epoch: 750/1000.............\n",
      "Loss: 5.5832\n",
      "Epoch: 900/1000.............\n",
      "Loss: 5.4855\n"
     ]
    },
    {
     "name": "stderr",
     "output_type": "stream",
     "text": [
      "\u001b[32m[I 2024-08-27 19:17:16,590]\u001b[0m Trial 1 finished with value: 3.6656315376361213 and parameters: {'lr': 0.00023651898078591149, 'l2_lambda': 0.014149688521609437}. Best is trial 1 with value: 3.6656315376361213.\u001b[0m\n"
     ]
    },
    {
     "name": "stdout",
     "output_type": "stream",
     "text": [
      "Epoch: 150/1000.............\n",
      "Loss: 6.4114\n",
      "Epoch: 300/1000.............\n",
      "Loss: 5.9781\n",
      "Epoch: 450/1000.............\n",
      "Loss: 5.7863\n",
      "Epoch: 600/1000.............\n",
      "Loss: 5.6374\n",
      "Epoch: 750/1000.............\n",
      "Loss: 5.5817\n",
      "Epoch: 900/1000.............\n",
      "Loss: 5.4505\n"
     ]
    },
    {
     "name": "stderr",
     "output_type": "stream",
     "text": [
      "\u001b[32m[I 2024-08-27 19:18:27,694]\u001b[0m Trial 2 finished with value: 3.6411080906788507 and parameters: {'lr': 0.0007364591426605911, 'l2_lambda': 0.014308782784708828}. Best is trial 2 with value: 3.6411080906788507.\u001b[0m\n"
     ]
    },
    {
     "name": "stdout",
     "output_type": "stream",
     "text": [
      "Epoch: 150/1000.............\n",
      "Loss: 6.8168\n",
      "Epoch: 300/1000.............\n",
      "Loss: 5.8777\n",
      "Epoch: 450/1000.............\n",
      "Loss: 5.7178\n",
      "Epoch: 600/1000.............\n",
      "Loss: 5.6791\n",
      "Epoch: 750/1000.............\n",
      "Loss: 5.6328\n",
      "Epoch: 900/1000.............\n",
      "Loss: 5.6189\n"
     ]
    },
    {
     "name": "stderr",
     "output_type": "stream",
     "text": [
      "\u001b[32m[I 2024-08-27 19:19:38,892]\u001b[0m Trial 3 finished with value: 3.794818013906479 and parameters: {'lr': 1.2126492393760424e-05, 'l2_lambda': 0.016315431856971332}. Best is trial 2 with value: 3.6411080906788507.\u001b[0m\n"
     ]
    },
    {
     "name": "stdout",
     "output_type": "stream",
     "text": [
      "Epoch: 150/1000.............\n",
      "Loss: 6.9667\n",
      "Epoch: 300/1000.............\n",
      "Loss: 5.9922\n",
      "Epoch: 450/1000.............\n",
      "Loss: 5.8045\n",
      "Epoch: 600/1000.............\n",
      "Loss: 5.7760\n",
      "Epoch: 750/1000.............\n",
      "Loss: 5.6046\n",
      "Epoch: 900/1000.............\n",
      "Loss: 5.4307\n"
     ]
    },
    {
     "name": "stderr",
     "output_type": "stream",
     "text": [
      "\u001b[32m[I 2024-08-27 19:20:50,395]\u001b[0m Trial 4 finished with value: 3.794724171360334 and parameters: {'lr': 0.0009895910517471298, 'l2_lambda': 0.016792164978030707}. Best is trial 2 with value: 3.6411080906788507.\u001b[0m\n"
     ]
    },
    {
     "name": "stdout",
     "output_type": "stream",
     "text": [
      "12\n"
     ]
    },
    {
     "name": "stderr",
     "output_type": "stream",
     "text": [
      "\u001b[32m[I 2024-08-27 19:20:58,163]\u001b[0m A new study created in memory with name: no-name-5de2017b-5b73-498f-8466-7d359e6368dd\u001b[0m\n"
     ]
    },
    {
     "name": "stdout",
     "output_type": "stream",
     "text": [
      "Epoch: 150/1000.............\n",
      "Loss: 6.4270\n",
      "Epoch: 300/1000.............\n",
      "Loss: 5.8300\n",
      "Epoch: 450/1000.............\n",
      "Loss: 5.6883\n",
      "Epoch: 600/1000.............\n",
      "Loss: 5.6478\n",
      "Epoch: 750/1000.............\n",
      "Loss: 5.5105\n",
      "Epoch: 900/1000.............\n",
      "Loss: 5.5960\n"
     ]
    },
    {
     "name": "stderr",
     "output_type": "stream",
     "text": [
      "\u001b[32m[I 2024-08-27 19:22:08,514]\u001b[0m Trial 0 finished with value: 4.041182733499086 and parameters: {'lr': 0.00021437310040522966, 'l2_lambda': 0.01970812710528287}. Best is trial 0 with value: 4.041182733499086.\u001b[0m\n"
     ]
    },
    {
     "name": "stdout",
     "output_type": "stream",
     "text": [
      "Epoch: 150/1000.............\n",
      "Loss: 6.2732\n",
      "Epoch: 300/1000.............\n",
      "Loss: 5.8652\n",
      "Epoch: 450/1000.............\n",
      "Loss: 5.6447\n",
      "Epoch: 600/1000.............\n",
      "Loss: 5.5762\n",
      "Epoch: 750/1000.............\n",
      "Loss: 5.5648\n",
      "Epoch: 900/1000.............\n",
      "Loss: 5.4041\n"
     ]
    },
    {
     "name": "stderr",
     "output_type": "stream",
     "text": [
      "\u001b[32m[I 2024-08-27 19:23:18,916]\u001b[0m Trial 1 finished with value: 4.0737047883180475 and parameters: {'lr': 4.108566221187112e-05, 'l2_lambda': 0.01602058222903252}. Best is trial 0 with value: 4.041182733499086.\u001b[0m\n"
     ]
    },
    {
     "name": "stdout",
     "output_type": "stream",
     "text": [
      "Epoch: 150/1000.............\n",
      "Loss: 6.9593\n",
      "Epoch: 300/1000.............\n",
      "Loss: 6.1004\n",
      "Epoch: 450/1000.............\n",
      "Loss: 5.6049\n",
      "Epoch: 600/1000.............\n",
      "Loss: 5.6195\n",
      "Epoch: 750/1000.............\n",
      "Loss: 5.5891\n",
      "Epoch: 900/1000.............\n",
      "Loss: 5.5527\n"
     ]
    },
    {
     "name": "stderr",
     "output_type": "stream",
     "text": [
      "\u001b[32m[I 2024-08-27 19:24:29,121]\u001b[0m Trial 2 finished with value: 4.039846307956255 and parameters: {'lr': 0.000938116236464022, 'l2_lambda': 0.019960547897241818}. Best is trial 2 with value: 4.039846307956255.\u001b[0m\n"
     ]
    },
    {
     "name": "stdout",
     "output_type": "stream",
     "text": [
      "Epoch: 150/1000.............\n",
      "Loss: 6.2013\n",
      "Epoch: 300/1000.............\n",
      "Loss: 5.8579\n",
      "Epoch: 450/1000.............\n",
      "Loss: 5.6768\n",
      "Epoch: 600/1000.............\n",
      "Loss: 5.6051\n",
      "Epoch: 750/1000.............\n",
      "Loss: 5.5963\n",
      "Epoch: 900/1000.............\n",
      "Loss: 5.5675\n"
     ]
    },
    {
     "name": "stderr",
     "output_type": "stream",
     "text": [
      "\u001b[32m[I 2024-08-27 19:25:39,542]\u001b[0m Trial 3 finished with value: 4.054251893208577 and parameters: {'lr': 6.325588158202073e-05, 'l2_lambda': 0.013108496165193332}. Best is trial 2 with value: 4.039846307956255.\u001b[0m\n"
     ]
    },
    {
     "name": "stdout",
     "output_type": "stream",
     "text": [
      "Epoch: 150/1000.............\n",
      "Loss: 6.1697\n",
      "Epoch: 300/1000.............\n",
      "Loss: 5.8312\n",
      "Epoch: 450/1000.............\n",
      "Loss: 5.7344\n",
      "Epoch: 600/1000.............\n",
      "Loss: 5.6623\n",
      "Epoch: 750/1000.............\n",
      "Loss: 5.5351\n",
      "Epoch: 900/1000.............\n",
      "Loss: 5.4929\n"
     ]
    },
    {
     "name": "stderr",
     "output_type": "stream",
     "text": [
      "\u001b[32m[I 2024-08-27 19:26:49,453]\u001b[0m Trial 4 finished with value: 4.067585851137455 and parameters: {'lr': 0.0009529945645694658, 'l2_lambda': 0.015537328699184741}. Best is trial 2 with value: 4.039846307956255.\u001b[0m\n"
     ]
    },
    {
     "name": "stdout",
     "output_type": "stream",
     "text": [
      "13\n"
     ]
    },
    {
     "name": "stderr",
     "output_type": "stream",
     "text": [
      "\u001b[32m[I 2024-08-27 19:26:56,142]\u001b[0m A new study created in memory with name: no-name-94744c7a-03de-41ef-8481-5064cc13f087\u001b[0m\n"
     ]
    },
    {
     "name": "stdout",
     "output_type": "stream",
     "text": [
      "Epoch: 150/1000.............\n",
      "Loss: 5.5482\n",
      "Epoch: 300/1000.............\n",
      "Loss: 5.2273\n",
      "Epoch: 450/1000.............\n",
      "Loss: 5.0404\n",
      "Epoch: 600/1000.............\n",
      "Loss: 4.9536\n",
      "Epoch: 750/1000.............\n",
      "Loss: 4.8880\n",
      "Epoch: 900/1000.............\n",
      "Loss: 4.9541\n"
     ]
    },
    {
     "name": "stderr",
     "output_type": "stream",
     "text": [
      "\u001b[32m[I 2024-08-27 19:28:05,867]\u001b[0m Trial 0 finished with value: 5.986093744083687 and parameters: {'lr': 3.360525938387636e-05, 'l2_lambda': 0.01058838299576141}. Best is trial 0 with value: 5.986093744083687.\u001b[0m\n"
     ]
    },
    {
     "name": "stdout",
     "output_type": "stream",
     "text": [
      "Epoch: 150/1000.............\n",
      "Loss: 5.8774\n",
      "Epoch: 300/1000.............\n",
      "Loss: 5.3217\n",
      "Epoch: 450/1000.............\n",
      "Loss: 5.1962\n",
      "Epoch: 600/1000.............\n",
      "Loss: 5.0080\n",
      "Epoch: 750/1000.............\n",
      "Loss: 4.9913\n",
      "Epoch: 900/1000.............\n",
      "Loss: 4.8528\n"
     ]
    },
    {
     "name": "stderr",
     "output_type": "stream",
     "text": [
      "\u001b[32m[I 2024-08-27 19:29:15,706]\u001b[0m Trial 1 finished with value: 5.914050813074465 and parameters: {'lr': 0.0005038466386767249, 'l2_lambda': 0.015007481346974116}. Best is trial 1 with value: 5.914050813074465.\u001b[0m\n"
     ]
    },
    {
     "name": "stdout",
     "output_type": "stream",
     "text": [
      "Epoch: 150/1000.............\n",
      "Loss: 5.5772\n",
      "Epoch: 300/1000.............\n",
      "Loss: 5.2912\n",
      "Epoch: 450/1000.............\n",
      "Loss: 5.0416\n",
      "Epoch: 600/1000.............\n",
      "Loss: 5.0405\n",
      "Epoch: 750/1000.............\n",
      "Loss: 4.9456\n",
      "Epoch: 900/1000.............\n",
      "Loss: 4.8981\n"
     ]
    },
    {
     "name": "stderr",
     "output_type": "stream",
     "text": [
      "\u001b[32m[I 2024-08-27 19:30:25,471]\u001b[0m Trial 2 finished with value: 5.933268237996985 and parameters: {'lr': 0.0008608034175138066, 'l2_lambda': 0.01515150331041591}. Best is trial 1 with value: 5.914050813074465.\u001b[0m\n"
     ]
    },
    {
     "name": "stdout",
     "output_type": "stream",
     "text": [
      "Epoch: 150/1000.............\n",
      "Loss: 5.4493\n",
      "Epoch: 300/1000.............\n",
      "Loss: 5.2142\n",
      "Epoch: 450/1000.............\n",
      "Loss: 5.0159\n",
      "Epoch: 600/1000.............\n",
      "Loss: 4.9991\n",
      "Epoch: 750/1000.............\n",
      "Loss: 4.9614\n",
      "Epoch: 900/1000.............\n",
      "Loss: 4.8489\n"
     ]
    },
    {
     "name": "stderr",
     "output_type": "stream",
     "text": [
      "\u001b[32m[I 2024-08-27 19:31:35,243]\u001b[0m Trial 3 finished with value: 5.776416699091594 and parameters: {'lr': 0.00034584155429656, 'l2_lambda': 0.01929745905336326}. Best is trial 3 with value: 5.776416699091594.\u001b[0m\n"
     ]
    },
    {
     "name": "stdout",
     "output_type": "stream",
     "text": [
      "Epoch: 150/1000.............\n",
      "Loss: 5.8438\n",
      "Epoch: 300/1000.............\n",
      "Loss: 5.3710\n",
      "Epoch: 450/1000.............\n",
      "Loss: 5.0914\n",
      "Epoch: 600/1000.............\n",
      "Loss: 5.0079\n",
      "Epoch: 750/1000.............\n",
      "Loss: 4.9770\n",
      "Epoch: 900/1000.............\n",
      "Loss: 4.8694\n"
     ]
    },
    {
     "name": "stderr",
     "output_type": "stream",
     "text": [
      "\u001b[32m[I 2024-08-27 19:32:45,104]\u001b[0m Trial 4 finished with value: 5.911115973084061 and parameters: {'lr': 0.0009404953615193573, 'l2_lambda': 0.011805061149996304}. Best is trial 3 with value: 5.776416699091594.\u001b[0m\n"
     ]
    },
    {
     "name": "stdout",
     "output_type": "stream",
     "text": [
      "14\n"
     ]
    },
    {
     "name": "stderr",
     "output_type": "stream",
     "text": [
      "\u001b[32m[I 2024-08-27 19:32:51,428]\u001b[0m A new study created in memory with name: no-name-97f99092-5f9d-4c10-8dc4-524783a27461\u001b[0m\n"
     ]
    },
    {
     "name": "stdout",
     "output_type": "stream",
     "text": [
      "Epoch: 150/1000.............\n",
      "Loss: 5.8043\n",
      "Epoch: 300/1000.............\n",
      "Loss: 5.5600\n",
      "Epoch: 450/1000.............\n",
      "Loss: 5.3744\n",
      "Epoch: 600/1000.............\n",
      "Loss: 5.3403\n",
      "Epoch: 750/1000.............\n",
      "Loss: 5.2905\n",
      "Epoch: 900/1000.............\n",
      "Loss: 5.2350\n"
     ]
    },
    {
     "name": "stderr",
     "output_type": "stream",
     "text": [
      "\u001b[32m[I 2024-08-27 19:34:05,172]\u001b[0m Trial 0 finished with value: 3.986214978354318 and parameters: {'lr': 0.0004126775653784171, 'l2_lambda': 0.014230651166543314}. Best is trial 0 with value: 3.986214978354318.\u001b[0m\n"
     ]
    },
    {
     "name": "stdout",
     "output_type": "stream",
     "text": [
      "Epoch: 150/1000.............\n",
      "Loss: 6.0878\n",
      "Epoch: 300/1000.............\n",
      "Loss: 5.6033\n",
      "Epoch: 450/1000.............\n",
      "Loss: 5.4159\n",
      "Epoch: 600/1000.............\n",
      "Loss: 5.3707\n",
      "Epoch: 750/1000.............\n",
      "Loss: 5.2835\n",
      "Epoch: 900/1000.............\n",
      "Loss: 5.2814\n"
     ]
    },
    {
     "name": "stderr",
     "output_type": "stream",
     "text": [
      "\u001b[32m[I 2024-08-27 19:35:18,719]\u001b[0m Trial 1 finished with value: 4.090176882488387 and parameters: {'lr': 0.0006867538872359734, 'l2_lambda': 0.015279173641789991}. Best is trial 0 with value: 3.986214978354318.\u001b[0m\n"
     ]
    },
    {
     "name": "stdout",
     "output_type": "stream",
     "text": [
      "Epoch: 150/1000.............\n",
      "Loss: 6.1559\n",
      "Epoch: 300/1000.............\n",
      "Loss: 5.6231\n",
      "Epoch: 450/1000.............\n",
      "Loss: 5.4609\n",
      "Epoch: 600/1000.............\n",
      "Loss: 5.4419\n",
      "Epoch: 750/1000.............\n",
      "Loss: 5.2098\n",
      "Epoch: 900/1000.............\n",
      "Loss: 5.1837\n"
     ]
    },
    {
     "name": "stderr",
     "output_type": "stream",
     "text": [
      "\u001b[32m[I 2024-08-27 19:36:32,125]\u001b[0m Trial 2 finished with value: 4.1756007089501335 and parameters: {'lr': 0.0009832262495509394, 'l2_lambda': 0.011631801340815387}. Best is trial 0 with value: 3.986214978354318.\u001b[0m\n"
     ]
    },
    {
     "name": "stdout",
     "output_type": "stream",
     "text": [
      "Epoch: 150/1000.............\n",
      "Loss: 6.8687\n",
      "Epoch: 300/1000.............\n",
      "Loss: 5.6939\n",
      "Epoch: 450/1000.............\n",
      "Loss: 5.4884\n",
      "Epoch: 600/1000.............\n",
      "Loss: 5.2973\n",
      "Epoch: 750/1000.............\n",
      "Loss: 5.3059\n",
      "Epoch: 900/1000.............\n",
      "Loss: 5.2078\n"
     ]
    },
    {
     "name": "stderr",
     "output_type": "stream",
     "text": [
      "\u001b[32m[I 2024-08-27 19:37:45,901]\u001b[0m Trial 3 finished with value: 3.980463533174424 and parameters: {'lr': 0.0009804287750607768, 'l2_lambda': 0.016328475823233723}. Best is trial 3 with value: 3.980463533174424.\u001b[0m\n"
     ]
    },
    {
     "name": "stdout",
     "output_type": "stream",
     "text": [
      "Epoch: 150/1000.............\n",
      "Loss: 6.0682\n",
      "Epoch: 300/1000.............\n",
      "Loss: 5.6284\n",
      "Epoch: 450/1000.............\n",
      "Loss: 5.4152\n",
      "Epoch: 600/1000.............\n",
      "Loss: 5.3825\n",
      "Epoch: 750/1000.............\n",
      "Loss: 5.2242\n",
      "Epoch: 900/1000.............\n",
      "Loss: 5.2143\n"
     ]
    },
    {
     "name": "stderr",
     "output_type": "stream",
     "text": [
      "\u001b[32m[I 2024-08-27 19:38:59,691]\u001b[0m Trial 4 finished with value: 3.933456131390163 and parameters: {'lr': 0.00017344277551505717, 'l2_lambda': 0.019531596975540896}. Best is trial 4 with value: 3.933456131390163.\u001b[0m\n"
     ]
    },
    {
     "name": "stdout",
     "output_type": "stream",
     "text": [
      "15\n"
     ]
    },
    {
     "name": "stderr",
     "output_type": "stream",
     "text": [
      "\u001b[32m[I 2024-08-27 19:39:05,353]\u001b[0m A new study created in memory with name: no-name-1789c7c5-16d6-4b24-9ee4-ba94b134109a\u001b[0m\n"
     ]
    },
    {
     "name": "stdout",
     "output_type": "stream",
     "text": [
      "Epoch: 150/1000.............\n",
      "Loss: 5.1537\n",
      "Epoch: 300/1000.............\n",
      "Loss: 4.5802\n",
      "Epoch: 450/1000.............\n",
      "Loss: 4.4420\n",
      "Epoch: 600/1000.............\n",
      "Loss: 4.3636\n",
      "Epoch: 750/1000.............\n",
      "Loss: 4.2104\n",
      "Epoch: 900/1000.............\n",
      "Loss: 4.1313\n"
     ]
    },
    {
     "name": "stderr",
     "output_type": "stream",
     "text": [
      "\u001b[32m[I 2024-08-27 19:40:15,201]\u001b[0m Trial 0 finished with value: 7.984659441879818 and parameters: {'lr': 0.00029759573061680095, 'l2_lambda': 0.012991726058279656}. Best is trial 0 with value: 7.984659441879818.\u001b[0m\n"
     ]
    },
    {
     "name": "stdout",
     "output_type": "stream",
     "text": [
      "Epoch: 150/1000.............\n",
      "Loss: 5.5472\n",
      "Epoch: 300/1000.............\n",
      "Loss: 4.6421\n",
      "Epoch: 450/1000.............\n",
      "Loss: 4.4971\n",
      "Epoch: 600/1000.............\n",
      "Loss: 4.2526\n",
      "Epoch: 750/1000.............\n",
      "Loss: 4.2609\n",
      "Epoch: 900/1000.............\n",
      "Loss: 4.2627\n"
     ]
    },
    {
     "name": "stderr",
     "output_type": "stream",
     "text": [
      "\u001b[32m[I 2024-08-27 19:41:25,118]\u001b[0m Trial 1 finished with value: 8.07709785444396 and parameters: {'lr': 0.0003594819126104646, 'l2_lambda': 0.018739278073389987}. Best is trial 0 with value: 7.984659441879818.\u001b[0m\n"
     ]
    },
    {
     "name": "stdout",
     "output_type": "stream",
     "text": [
      "Epoch: 150/1000.............\n",
      "Loss: 5.2601\n",
      "Epoch: 300/1000.............\n",
      "Loss: 4.6785\n",
      "Epoch: 450/1000.............\n",
      "Loss: 4.4409\n",
      "Epoch: 600/1000.............\n",
      "Loss: 4.3151\n",
      "Epoch: 750/1000.............\n",
      "Loss: 4.2797\n",
      "Epoch: 900/1000.............\n",
      "Loss: 4.2298\n"
     ]
    },
    {
     "name": "stderr",
     "output_type": "stream",
     "text": [
      "\u001b[32m[I 2024-08-27 19:42:34,888]\u001b[0m Trial 2 finished with value: 7.984114966222218 and parameters: {'lr': 0.0002708019683014915, 'l2_lambda': 0.019292816178158784}. Best is trial 2 with value: 7.984114966222218.\u001b[0m\n"
     ]
    },
    {
     "name": "stdout",
     "output_type": "stream",
     "text": [
      "Epoch: 150/1000.............\n",
      "Loss: 4.8846\n",
      "Epoch: 300/1000.............\n",
      "Loss: 4.6086\n",
      "Epoch: 450/1000.............\n",
      "Loss: 4.3880\n",
      "Epoch: 600/1000.............\n",
      "Loss: 4.3319\n",
      "Epoch: 750/1000.............\n",
      "Loss: 4.3539\n",
      "Epoch: 900/1000.............\n",
      "Loss: 4.2321\n"
     ]
    },
    {
     "name": "stderr",
     "output_type": "stream",
     "text": [
      "\u001b[32m[I 2024-08-27 19:43:44,929]\u001b[0m Trial 3 finished with value: 7.963284441402981 and parameters: {'lr': 0.00041778669263423736, 'l2_lambda': 0.016405079038655394}. Best is trial 3 with value: 7.963284441402981.\u001b[0m\n"
     ]
    },
    {
     "name": "stdout",
     "output_type": "stream",
     "text": [
      "Epoch: 150/1000.............\n",
      "Loss: 4.8514\n",
      "Epoch: 300/1000.............\n",
      "Loss: 4.5385\n",
      "Epoch: 450/1000.............\n",
      "Loss: 4.4176\n",
      "Epoch: 600/1000.............\n",
      "Loss: 4.3471\n",
      "Epoch: 750/1000.............\n",
      "Loss: 4.2929\n",
      "Epoch: 900/1000.............\n",
      "Loss: 4.2612\n"
     ]
    },
    {
     "name": "stderr",
     "output_type": "stream",
     "text": [
      "\u001b[32m[I 2024-08-27 19:44:55,052]\u001b[0m Trial 4 finished with value: 8.177942714520864 and parameters: {'lr': 0.0002605118518434745, 'l2_lambda': 0.016862006044057763}. Best is trial 3 with value: 7.963284441402981.\u001b[0m\n"
     ]
    },
    {
     "name": "stdout",
     "output_type": "stream",
     "text": [
      "16\n"
     ]
    },
    {
     "name": "stderr",
     "output_type": "stream",
     "text": [
      "\u001b[32m[I 2024-08-27 19:45:00,224]\u001b[0m A new study created in memory with name: no-name-35589e92-a5c7-4ea4-a629-fbb859f58910\u001b[0m\n"
     ]
    },
    {
     "name": "stdout",
     "output_type": "stream",
     "text": [
      "Epoch: 150/1000.............\n",
      "Loss: 5.9743\n",
      "Epoch: 300/1000.............\n",
      "Loss: 5.6490\n",
      "Epoch: 450/1000.............\n",
      "Loss: 5.4821\n",
      "Epoch: 600/1000.............\n",
      "Loss: 5.3249\n",
      "Epoch: 750/1000.............\n",
      "Loss: 5.2785\n",
      "Epoch: 900/1000.............\n",
      "Loss: 5.3079\n"
     ]
    },
    {
     "name": "stderr",
     "output_type": "stream",
     "text": [
      "\u001b[32m[I 2024-08-27 19:46:10,382]\u001b[0m Trial 0 finished with value: 4.909631192684174 and parameters: {'lr': 0.00036047665142618446, 'l2_lambda': 0.010793737766822159}. Best is trial 0 with value: 4.909631192684174.\u001b[0m\n"
     ]
    },
    {
     "name": "stdout",
     "output_type": "stream",
     "text": [
      "Epoch: 150/1000.............\n",
      "Loss: 6.0230\n",
      "Epoch: 300/1000.............\n",
      "Loss: 5.6454\n",
      "Epoch: 450/1000.............\n",
      "Loss: 5.4377\n",
      "Epoch: 600/1000.............\n",
      "Loss: 5.4355\n",
      "Epoch: 750/1000.............\n",
      "Loss: 5.3011\n",
      "Epoch: 900/1000.............\n",
      "Loss: 5.2959\n"
     ]
    },
    {
     "name": "stderr",
     "output_type": "stream",
     "text": [
      "\u001b[32m[I 2024-08-27 19:47:20,784]\u001b[0m Trial 1 finished with value: 4.98782514494199 and parameters: {'lr': 0.00014981304790582066, 'l2_lambda': 0.01358013123267818}. Best is trial 0 with value: 4.909631192684174.\u001b[0m\n"
     ]
    },
    {
     "name": "stdout",
     "output_type": "stream",
     "text": [
      "Epoch: 150/1000.............\n",
      "Loss: 6.4112\n",
      "Epoch: 300/1000.............\n",
      "Loss: 5.6646\n",
      "Epoch: 450/1000.............\n",
      "Loss: 5.5185\n",
      "Epoch: 600/1000.............\n",
      "Loss: 5.3010\n",
      "Epoch: 750/1000.............\n",
      "Loss: 5.3280\n",
      "Epoch: 900/1000.............\n",
      "Loss: 5.2713\n"
     ]
    },
    {
     "name": "stderr",
     "output_type": "stream",
     "text": [
      "\u001b[32m[I 2024-08-27 19:48:31,005]\u001b[0m Trial 2 finished with value: 4.988803762655992 and parameters: {'lr': 0.000322022151210941, 'l2_lambda': 0.01758608624314731}. Best is trial 0 with value: 4.909631192684174.\u001b[0m\n"
     ]
    },
    {
     "name": "stdout",
     "output_type": "stream",
     "text": [
      "Epoch: 150/1000.............\n",
      "Loss: 5.8851\n",
      "Epoch: 300/1000.............\n",
      "Loss: 5.5914\n",
      "Epoch: 450/1000.............\n",
      "Loss: 5.4498\n",
      "Epoch: 600/1000.............\n",
      "Loss: 5.3279\n",
      "Epoch: 750/1000.............\n",
      "Loss: 5.3750\n",
      "Epoch: 900/1000.............\n",
      "Loss: 5.3456\n"
     ]
    },
    {
     "name": "stderr",
     "output_type": "stream",
     "text": [
      "\u001b[32m[I 2024-08-27 19:49:41,657]\u001b[0m Trial 3 finished with value: 4.991120159626007 and parameters: {'lr': 0.00026017499517636504, 'l2_lambda': 0.01794267311506759}. Best is trial 0 with value: 4.909631192684174.\u001b[0m\n"
     ]
    },
    {
     "name": "stdout",
     "output_type": "stream",
     "text": [
      "Epoch: 150/1000.............\n",
      "Loss: 6.2223\n",
      "Epoch: 300/1000.............\n",
      "Loss: 5.7089\n",
      "Epoch: 450/1000.............\n",
      "Loss: 5.3257\n",
      "Epoch: 600/1000.............\n",
      "Loss: 5.3750\n",
      "Epoch: 750/1000.............\n",
      "Loss: 5.2826\n",
      "Epoch: 900/1000.............\n",
      "Loss: 5.2904\n"
     ]
    },
    {
     "name": "stderr",
     "output_type": "stream",
     "text": [
      "\u001b[32m[I 2024-08-27 19:50:52,435]\u001b[0m Trial 4 finished with value: 4.988333660822648 and parameters: {'lr': 0.0003407831604459454, 'l2_lambda': 0.013083768606660388}. Best is trial 0 with value: 4.909631192684174.\u001b[0m\n"
     ]
    },
    {
     "name": "stdout",
     "output_type": "stream",
     "text": [
      "17\n"
     ]
    },
    {
     "name": "stderr",
     "output_type": "stream",
     "text": [
      "\u001b[32m[I 2024-08-27 19:50:57,978]\u001b[0m A new study created in memory with name: no-name-ee8ec30c-16f3-4975-b12c-65327f8393b4\u001b[0m\n"
     ]
    },
    {
     "name": "stdout",
     "output_type": "stream",
     "text": [
      "Epoch: 150/1000.............\n",
      "Loss: 5.8200\n",
      "Epoch: 300/1000.............\n",
      "Loss: 5.4474\n",
      "Epoch: 450/1000.............\n",
      "Loss: 5.3264\n",
      "Epoch: 600/1000.............\n",
      "Loss: 5.0113\n",
      "Epoch: 750/1000.............\n",
      "Loss: 5.1193\n",
      "Epoch: 900/1000.............\n",
      "Loss: 5.0232\n"
     ]
    },
    {
     "name": "stderr",
     "output_type": "stream",
     "text": [
      "\u001b[32m[I 2024-08-27 19:52:11,006]\u001b[0m Trial 0 finished with value: 4.985892102831886 and parameters: {'lr': 0.0006602876091817207, 'l2_lambda': 0.016957880282108255}. Best is trial 0 with value: 4.985892102831886.\u001b[0m\n"
     ]
    },
    {
     "name": "stdout",
     "output_type": "stream",
     "text": [
      "Epoch: 150/1000.............\n",
      "Loss: 5.9378\n",
      "Epoch: 300/1000.............\n",
      "Loss: 5.5098\n",
      "Epoch: 450/1000.............\n",
      "Loss: 5.3118\n",
      "Epoch: 600/1000.............\n",
      "Loss: 5.1934\n",
      "Epoch: 750/1000.............\n",
      "Loss: 5.1475\n",
      "Epoch: 900/1000.............\n",
      "Loss: 5.0388\n"
     ]
    },
    {
     "name": "stderr",
     "output_type": "stream",
     "text": [
      "\u001b[32m[I 2024-08-27 19:53:23,862]\u001b[0m Trial 1 finished with value: 5.116495705786205 and parameters: {'lr': 0.0009449752032565518, 'l2_lambda': 0.017020052371774005}. Best is trial 0 with value: 4.985892102831886.\u001b[0m\n"
     ]
    },
    {
     "name": "stdout",
     "output_type": "stream",
     "text": [
      "Epoch: 150/1000.............\n",
      "Loss: 5.7741\n",
      "Epoch: 300/1000.............\n",
      "Loss: 5.4524\n",
      "Epoch: 450/1000.............\n",
      "Loss: 5.2917\n",
      "Epoch: 600/1000.............\n",
      "Loss: 5.1874\n",
      "Epoch: 750/1000.............\n",
      "Loss: 5.1476\n",
      "Epoch: 900/1000.............\n",
      "Loss: 5.0659\n"
     ]
    },
    {
     "name": "stderr",
     "output_type": "stream",
     "text": [
      "\u001b[32m[I 2024-08-27 19:54:36,731]\u001b[0m Trial 2 finished with value: 4.959675942148481 and parameters: {'lr': 5.0821295408243875e-06, 'l2_lambda': 0.012138441174893745}. Best is trial 2 with value: 4.959675942148481.\u001b[0m\n"
     ]
    },
    {
     "name": "stdout",
     "output_type": "stream",
     "text": [
      "Epoch: 150/1000.............\n",
      "Loss: 6.1276\n",
      "Epoch: 300/1000.............\n",
      "Loss: 5.5594\n",
      "Epoch: 450/1000.............\n",
      "Loss: 5.2554\n",
      "Epoch: 600/1000.............\n",
      "Loss: 5.3092\n",
      "Epoch: 750/1000.............\n",
      "Loss: 5.1364\n",
      "Epoch: 900/1000.............\n",
      "Loss: 5.0461\n"
     ]
    },
    {
     "name": "stderr",
     "output_type": "stream",
     "text": [
      "\u001b[32m[I 2024-08-27 19:55:49,978]\u001b[0m Trial 3 finished with value: 5.0474949677785235 and parameters: {'lr': 0.0007586196528910008, 'l2_lambda': 0.019312525876586564}. Best is trial 2 with value: 4.959675942148481.\u001b[0m\n"
     ]
    },
    {
     "name": "stdout",
     "output_type": "stream",
     "text": [
      "Epoch: 150/1000.............\n",
      "Loss: 6.2659\n",
      "Epoch: 300/1000.............\n",
      "Loss: 5.6133\n",
      "Epoch: 450/1000.............\n",
      "Loss: 5.2889\n",
      "Epoch: 600/1000.............\n",
      "Loss: 5.1715\n",
      "Epoch: 750/1000.............\n",
      "Loss: 5.0893\n",
      "Epoch: 900/1000.............\n",
      "Loss: 5.0655\n"
     ]
    },
    {
     "name": "stderr",
     "output_type": "stream",
     "text": [
      "\u001b[32m[I 2024-08-27 19:57:03,097]\u001b[0m Trial 4 finished with value: 5.009682530448551 and parameters: {'lr': 0.000958315307571508, 'l2_lambda': 0.013420864759983232}. Best is trial 2 with value: 4.959675942148481.\u001b[0m\n"
     ]
    },
    {
     "name": "stdout",
     "output_type": "stream",
     "text": [
      "18\n"
     ]
    },
    {
     "name": "stderr",
     "output_type": "stream",
     "text": [
      "\u001b[32m[I 2024-08-27 19:57:08,749]\u001b[0m A new study created in memory with name: no-name-2cafe107-4586-4bc7-8c5d-bd9a1e9d2e6b\u001b[0m\n"
     ]
    },
    {
     "name": "stdout",
     "output_type": "stream",
     "text": [
      "Epoch: 150/1000.............\n",
      "Loss: 6.0862\n",
      "Epoch: 300/1000.............\n",
      "Loss: 5.6031\n",
      "Epoch: 450/1000.............\n",
      "Loss: 5.4781\n",
      "Epoch: 600/1000.............\n",
      "Loss: 5.3170\n",
      "Epoch: 750/1000.............\n",
      "Loss: 5.2543\n",
      "Epoch: 900/1000.............\n",
      "Loss: 5.2146\n"
     ]
    },
    {
     "name": "stderr",
     "output_type": "stream",
     "text": [
      "\u001b[32m[I 2024-08-27 19:58:22,805]\u001b[0m Trial 0 finished with value: 3.9743854261579967 and parameters: {'lr': 0.0007847581139871464, 'l2_lambda': 0.016251292261917457}. Best is trial 0 with value: 3.9743854261579967.\u001b[0m\n"
     ]
    },
    {
     "name": "stdout",
     "output_type": "stream",
     "text": [
      "Epoch: 150/1000.............\n",
      "Loss: 6.2840\n",
      "Epoch: 300/1000.............\n",
      "Loss: 5.6014\n",
      "Epoch: 450/1000.............\n",
      "Loss: 5.4641\n",
      "Epoch: 600/1000.............\n",
      "Loss: 5.4239\n",
      "Epoch: 750/1000.............\n",
      "Loss: 5.2183\n",
      "Epoch: 900/1000.............\n",
      "Loss: 5.2111\n"
     ]
    },
    {
     "name": "stderr",
     "output_type": "stream",
     "text": [
      "\u001b[32m[I 2024-08-27 19:59:36,631]\u001b[0m Trial 1 finished with value: 4.073430112430027 and parameters: {'lr': 0.0009913490033233415, 'l2_lambda': 0.011442276416956903}. Best is trial 0 with value: 3.9743854261579967.\u001b[0m\n"
     ]
    },
    {
     "name": "stdout",
     "output_type": "stream",
     "text": [
      "Epoch: 150/1000.............\n",
      "Loss: 6.2043\n",
      "Epoch: 300/1000.............\n",
      "Loss: 5.6493\n",
      "Epoch: 450/1000.............\n",
      "Loss: 5.4520\n",
      "Epoch: 600/1000.............\n",
      "Loss: 5.3330\n",
      "Epoch: 750/1000.............\n",
      "Loss: 5.3707\n",
      "Epoch: 900/1000.............\n",
      "Loss: 5.2050\n"
     ]
    },
    {
     "name": "stderr",
     "output_type": "stream",
     "text": [
      "\u001b[32m[I 2024-08-27 20:00:49,722]\u001b[0m Trial 2 finished with value: 4.16934639499301 and parameters: {'lr': 0.0009126534345904906, 'l2_lambda': 0.011769431174546393}. Best is trial 0 with value: 3.9743854261579967.\u001b[0m\n"
     ]
    },
    {
     "name": "stdout",
     "output_type": "stream",
     "text": [
      "Epoch: 150/1000.............\n",
      "Loss: 6.5087\n",
      "Epoch: 300/1000.............\n",
      "Loss: 5.6560\n",
      "Epoch: 450/1000.............\n",
      "Loss: 5.4076\n",
      "Epoch: 600/1000.............\n",
      "Loss: 5.3151\n",
      "Epoch: 750/1000.............\n",
      "Loss: 5.2366\n",
      "Epoch: 900/1000.............\n",
      "Loss: 5.2636\n"
     ]
    },
    {
     "name": "stderr",
     "output_type": "stream",
     "text": [
      "\u001b[32m[I 2024-08-27 20:02:04,074]\u001b[0m Trial 3 finished with value: 4.0158843994140625 and parameters: {'lr': 0.0003300610308846171, 'l2_lambda': 0.011722609682836881}. Best is trial 0 with value: 3.9743854261579967.\u001b[0m\n"
     ]
    },
    {
     "name": "stdout",
     "output_type": "stream",
     "text": [
      "Epoch: 150/1000.............\n",
      "Loss: 5.9812\n",
      "Epoch: 300/1000.............\n",
      "Loss: 5.5743\n",
      "Epoch: 450/1000.............\n",
      "Loss: 5.4728\n",
      "Epoch: 600/1000.............\n",
      "Loss: 5.3766\n",
      "Epoch: 750/1000.............\n",
      "Loss: 5.3215\n",
      "Epoch: 900/1000.............\n",
      "Loss: 5.2644\n"
     ]
    },
    {
     "name": "stderr",
     "output_type": "stream",
     "text": [
      "\u001b[32m[I 2024-08-27 20:03:17,701]\u001b[0m Trial 4 finished with value: 3.9850773215293884 and parameters: {'lr': 0.0006115617238472104, 'l2_lambda': 0.016859467342465462}. Best is trial 0 with value: 3.9743854261579967.\u001b[0m\n"
     ]
    }
   ],
   "source": [
    "for i in range(len(sorted(glob.glob('../../storage/proc/X*pkl')))):\n",
    "    print(i)\n",
    "    PCA = read_and_write.depickle(sorted(glob.glob('../../storage/proc/PCA/PCA*'))[i])\n",
    "    X = read_and_write.depickle(sorted(glob.glob('../../storage/proc/Xtimeseries*'))[i])\n",
    "    y = read_and_write.depickle(sorted(glob.glob('../../storage/proc/y*'))[i])\n",
    "    X['test'] = X.pop('Xtest')\n",
    "    \n",
    "    validindices = sorted(glob.glob('../../storage/proc/X*pkl'))[i].split('/')[-1][12:].split('.')[0]\n",
    "    LWstop = np.abs(PCA['PCA']['LW'].explained_variance_ratio_.cumsum()-0.5).argmin()\n",
    "    SWstop = np.abs(PCA['PCA']['SW'].explained_variance_ratio_.cumsum()-0.8).argmin()\n",
    "\n",
    "    train_data,val_data,test_data = prepare_tensors(X,y,'No')\n",
    "    batch_size = 5\n",
    "    num_workers = 2\n",
    "    train_loader = torch.utils.data.DataLoader(\n",
    "        dataset=train_data,\n",
    "        batch_size=batch_size,\n",
    "        shuffle=True)\n",
    "    val_loader = torch.utils.data.DataLoader(\n",
    "        dataset=val_data,\n",
    "        batch_size=batch_size,\n",
    "        shuffle=False)\n",
    "    test_loader = torch.utils.data.DataLoader(\n",
    "        dataset=test_data,\n",
    "        batch_size=batch_size,\n",
    "        shuffle=False)\n",
    "    del PCA,X,y\n",
    "    gc.collect()\n",
    "    \n",
    "    import optuna\n",
    "    nummem = [0,LWstop,SWstop]\n",
    "    losscoeff=1\n",
    "    study = optuna.create_study(directions=[\"minimize\"])\n",
    "    study.optimize(objective, n_trials=5)#, timeout=300)\n",
    "\n",
    "    suffix = '/work/FAC/FGSE/IDYST/tbeucler/default/freddy0218/2024_TCG_VED_WRFsen/storage'\n",
    "    #os.makedirs(suffix+'/proc/VED/'+str(sorted(glob.glob('../../storage/proc/X*'))[i].split('/')[-1][12:].split('.')[0]))\n",
    "    #os.makedirs(suffix+'/proc/VED/'+str(sorted(glob.glob('../../storage/proc/X*'))[i].split('/')[-1][12:].split('.')[0])+'/losscoeff_0/')\n",
    "    if losscoeff==1.0:\n",
    "        losscoeff2 = int(losscoeff)\n",
    "        read_and_write.save_to_pickle(study,suffix+'/proc/VED/'+str(sorted(glob.glob('../../storage/proc/X*pkl'))[i].split('/')[-1][12:].split('.')[0])+'/losscoeff_0/'+'bestparams.pkt')\n",
    "    else:\n",
    "        read_and_write.save_to_pickle(study,suffix+'/proc/VED/'+str(sorted(glob.glob('../../storage/proc/X*pkl'))[i].split('/')[-1][12:].split('.')[0])+'/losscoeff_0/'+'bestparams.pkt')"
   ]
  },
  {
   "cell_type": "markdown",
   "id": "f999b181-602c-4aec-9fbd-19c0aab7bcf1",
   "metadata": {},
   "source": [
    "# Train VED: Train models"
   ]
  },
  {
   "cell_type": "code",
   "execution_count": 37,
   "id": "9f5298e6-ebb1-497a-8c01-4e22e0ea4c14",
   "metadata": {},
   "outputs": [],
   "source": [
    "i=0\n",
    "PCA = read_and_write.depickle(sorted(glob.glob('../../storage/proc/PCA/PCA*'))[i])\n",
    "X = read_and_write.depickle(sorted(glob.glob('../../storage/proc/Xtimeseries*'))[i])\n",
    "y = read_and_write.depickle(sorted(glob.glob('../../storage/proc/y*'))[i])\n",
    "X['test'] = X.pop('Xtest')\n",
    "    \n",
    "validindices = sorted(glob.glob('../../storage/proc/X*pkl'))[i].split('/')[-1][12:].split('.')[0]\n",
    "LWstop = np.abs(PCA['PCA']['LW'].explained_variance_ratio_.cumsum()-0.5).argmin()\n",
    "SWstop = np.abs(PCA['PCA']['SW'].explained_variance_ratio_.cumsum()-0.8).argmin()\n",
    "\n",
    "train_data,val_data,test_data = prepare_tensors(X,y,'No')\n",
    "batch_size = 5\n",
    "num_workers = 2\n",
    "train_loader = torch.utils.data.DataLoader(\n",
    "    dataset=train_data,\n",
    "    batch_size=batch_size,\n",
    "    shuffle=True)\n",
    "val_loader = torch.utils.data.DataLoader(\n",
    "    dataset=val_data,\n",
    "    batch_size=batch_size,\n",
    "    shuffle=False)\n",
    "test_loader = torch.utils.data.DataLoader(\n",
    "    dataset=test_data,\n",
    "    batch_size=batch_size,\n",
    "    shuffle=False)\n",
    "del PCA,X,y\n",
    "gc.collect()\n",
    "    \n",
    "nummem = [0,LWstop,SWstop]\n",
    "losscoeff=1"
   ]
  },
  {
   "cell_type": "code",
   "execution_count": 38,
   "id": "77b9bde2-7345-4ebb-8a92-d58bb92b4e5b",
   "metadata": {},
   "outputs": [],
   "source": [
    "study = read_and_write.depickle(suffix+'/proc/VED/'+str(sorted(glob.glob('../../storage/proc/X*pkl'))[i].split('/')[-1][12:].split('.')[0])+'/losscoeff_0/'+'bestparams.pkt')"
   ]
  },
  {
   "cell_type": "code",
   "execution_count": 39,
   "id": "633d1e9b-62f4-41bc-9932-c6e59349bac1",
   "metadata": {
    "scrolled": true
   },
   "outputs": [
    {
     "data": {
      "application/json": {
       "ascii": false,
       "bar_format": null,
       "colour": null,
       "elapsed": 0.0037660598754882812,
       "initial": 0,
       "n": 0,
       "ncols": null,
       "nrows": 23,
       "postfix": null,
       "prefix": "",
       "rate": null,
       "total": 9,
       "unit": "it",
       "unit_divisor": 1000,
       "unit_scale": false
      },
      "application/vnd.jupyter.widget-view+json": {
       "model_id": "f3000b9a8b444efda32e38922d224478",
       "version_major": 2,
       "version_minor": 0
      },
      "text/plain": [
       "  0%|          | 0/9 [00:00<?, ?it/s]"
      ]
     },
     "metadata": {},
     "output_type": "display_data"
    },
    {
     "name": "stdout",
     "output_type": "stream",
     "text": [
      "(9.85142297907309, 9.222853348805355)\n",
      "(5.639664442701773, 5.772621237314665)\n",
      "(5.068732455542142, 5.500547092694503)\n",
      "(5.050715463235974, 5.640253332945017)\n",
      "(4.890204999934543, 5.495082222498381)\n",
      "(4.846279404041442, 5.629986299918248)\n",
      "(4.709101298315958, 5.655073184233445)\n",
      "(4.642548099160194, 5.430186977753272)\n",
      "(4.660028381103819, 5.504338076481452)\n",
      "(4.674208345738324, 5.378917817886059)\n",
      "(4.6938084248792045, 5.492722066549154)\n",
      "(4.619749583303928, 5.486359866765829)\n",
      "(9.25029461763122, 8.617649371807392)\n",
      "(5.525918946178122, 5.7201358538407545)\n",
      "(5.181089271198619, 5.4639218266193685)\n",
      "(4.9638013697483325, 5.531228909125695)\n",
      "(4.946268291635946, 5.423445513615241)\n",
      "(4.749122809280049, 5.729436076604403)\n",
      "(4.768325078216466, 5.5084604277060585)\n",
      "(4.779350396838378, 5.470411873780764)\n",
      "(4.643695956604048, 5.4870196626736565)\n",
      "(4.613083222372965, 5.562157786809481)\n",
      "(4.648070892149752, 5.478477196051524)\n",
      "(8.29459180005572, 7.3197731421544)\n",
      "(5.588655034249479, 5.591867497334113)\n",
      "(5.108101380819624, 5.557354372281295)\n",
      "(4.948377139189026, 5.598963622863476)\n",
      "(4.920541008087722, 5.581367666904743)\n",
      "(4.828407318585298, 5.526783282940205)\n",
      "(4.800234447148713, 5.427490931290847)\n",
      "(4.6862209791486915, 5.594523069950251)\n",
      "(4.628334268927574, 5.460355790761801)\n",
      "(4.620622766458175, 5.599724031411684)\n",
      "(6.251407039436427, 5.913151355890127)\n",
      "(5.426191598176956, 5.477452333156879)\n",
      "(5.2154884138567885, 5.507793169755202)\n",
      "(4.958076329732483, 5.352009094678438)\n",
      "(4.897336506708101, 5.453981704436815)\n",
      "(4.907754058526321, 5.469517327271975)\n",
      "(4.734015727585012, 5.6400914788246155)\n",
      "(4.707082354886965, 5.461123471076672)\n",
      "(4.707983734932813, 5.5682343657200155)\n",
      "(6.308784197677266, 5.71536982517976)\n",
      "(5.363225130364299, 5.295692368195607)\n",
      "(5.200302708555352, 5.378537856615507)\n",
      "(4.929153014313091, 5.47043089224742)\n",
      "(4.87673843042417, 5.542393551422999)\n",
      "(4.891004130921581, 5.484117975601783)\n",
      "(4.813840934498743, 5.411054111444033)\n",
      "(4.639914287084883, 5.319605070811051)\n",
      "(7.303984458473596, 7.155279278755188)\n",
      "(5.48533923517574, 5.569979099126963)\n",
      "(5.093304001810876, 5.558344481083063)\n",
      "(5.018920848315412, 5.499040846641247)\n",
      "(4.877134109762582, 5.437547193123744)\n",
      "(4.832427467473528, 5.566695598455576)\n",
      "(4.741521611471068, 5.544509057815258)\n",
      "(4.783078414472667, 5.503011854795309)\n",
      "(4.680130337449637, 5.599189888972503)\n",
      "(4.6823419291864745, 5.526911270159942)\n",
      "(4.619557745077393, 5.536655515432358)\n",
      "(4.611992682245645, 5.616744990532215)\n",
      "(4.544743989678946, 5.5246213514071245)\n",
      "(7.436576324430379, 6.799246577116159)\n",
      "(5.548061496832154, 5.494119048118591)\n",
      "(5.143979070877487, 5.474770160821768)\n",
      "(4.940609717233614, 5.569321435231429)\n",
      "(4.85096879506653, 5.427854703022883)\n",
      "(4.880434740673412, 5.4473208005611715)\n",
      "(4.762572094459426, 5.43717346741603)\n",
      "(4.734182637523521, 5.605047083817995)\n",
      "(4.642489840530536, 5.568024114920543)\n",
      "(4.6428948762741955, 5.603176770301966)\n",
      "(4.6273061883720485, 5.376573250843928)\n",
      "(4.519157181409272, 5.463200461405974)\n",
      "(8.348741951313885, 7.213035996143635)\n",
      "(5.599017656662247, 5.680260864587931)\n",
      "(5.141564744439992, 5.374430713745264)\n",
      "(5.111719459295273, 5.4609292562191305)\n",
      "(4.8907383409413425, 5.361577437474177)\n",
      "(4.7989760637283325, 5.3771570187348585)\n",
      "(4.778508340770548, 5.4645790457725525)\n",
      "(4.684504987163977, 5.417269236766375)\n",
      "(4.724776074967601, 5.451213955879211)\n",
      "(4.6500903991135685, 5.455156234594492)\n",
      "(8.491898282007737, 8.58842081290025)\n",
      "(5.578198128803209, 5.63901026890828)\n",
      "(5.32012239979072, 5.530921271214118)\n",
      "(4.9967024536295375, 5.488702627328726)\n",
      "(4.875496754592115, 5.498327035170335)\n",
      "(4.787504590370438, 5.500988891491523)\n",
      "(4.769070778719404, 5.44360553759795)\n",
      "(4.764340371570804, 5.540185139729426)\n",
      "(4.674446134404703, 5.501909187206855)\n"
     ]
    }
   ],
   "source": [
    "times = ['exp1a','exp1b','exp1c','exp1d','exp1e','exp1f','exp1g','exp1h','exp1i']\n",
    "#times = ['exp1e','exp1f','exp1g','exp1h','exp1i']#,'exp1d','exp1e']\n",
    "for i in tqdm(range(len(times))):\n",
    "    models,losses = [],[]\n",
    "    model = vae.VAE(nummem[-2],nummem[-1],1,1,1,nummem)\n",
    "    optimizers = [torch.optim.Adam(model.parameters(), lr=study.best_params['lr'])]#, optim.AdaBound(model.parameters(),lr=1e-7)] 1e-6 [torch.optim.Adam(model.parameters(),lr=0.5e-5),torch.optim.SGD(model.parameters(),lr=0.5e-5,momentum=0.8)]\n",
    "    loss = torch.nn.L1Loss()\n",
    "    for optimizer in optimizers:\n",
    "        scheduler2 = torch.optim.lr_scheduler.CyclicLR(optimizer, base_lr=0.5e-8, max_lr=7e-5,cycle_momentum=False) #1e-9/1e-5\n",
    "        scheduler = torch.optim.lr_scheduler.ReduceLROnPlateau(optimizer, 'min',min_lr=1e-12)  #1e-18\n",
    "        num_epochs = 1000*40#26\n",
    "        #early_stopper = ts_models.EarlyStopping(patience=250, verbose=False, delta=1e-5, path='checkpoint.pt', trace_func=print)#EarlyStopper(patience=8, min_delta=1e-3)\n",
    "        early_stopper = vae.EarlyStopping(patience=2000, verbose=False, delta=1.5e-5, path='checkpoint.pt', trace_func=print)\n",
    "        #variance_store = [varu,varv,varw,varth]\n",
    "        #variance_store = [varu,varv,varth]\n",
    "        model,loss,_ = vae.train_model(model=model,optimizer=optimizer,scheduler=[scheduler,scheduler2],numepochs=num_epochs,early_stopper=early_stopper,variance_store=None,\\\n",
    "                                         lossfunc=loss,train_loader=train_loader,val_loader=val_loader,test_loader=test_loader,l2_lambda=study.best_params['l2_lambda'],count=10,vaeloss_coeff=losscoeff)\n",
    "        models.append(model)\n",
    "        losses.append(loss)\n",
    "    #torch.save(models, '../tmp/torch_try/ts/'+str(expname)+'/0/'+'models'+str(splitnum)+'_'+str(expname)+'3dnonln_1115_'+str(times[i])+'.pt')\n",
    "    #read_and_proc.save_to_pickle('../tmp/torch_try/ts/'+str(expname)+'/0/'+'losses'+str(splitnum)+'_'+str(expname)+'3dnonln_1115_'+str(times[i])+'.pkt',losses,'PICKLE')\n",
    "    if losscoeff==1.0:\n",
    "        losscoeff2 = int(losscoeff)\n",
    "        torch.save(models,suffix+'/proc/VED/'+str(sorted(glob.glob('../../storage/proc/X*pkl'))[0].split('/')[-1][12:].split('.')[0])+'/losscoeff_0/'+'modelstest_vae_'+str(times[i])+'.pk')\n",
    "        read_and_write.save_to_pickle(losses,suffix+'/proc/VED/'+str(sorted(glob.glob('../../storage/proc/X*pkl'))[0].split('/')[-1][12:].split('.')[0])+'/losscoeff_0/'+'lossestest_vae_'+str(times[i])+'.pkt')\n",
    "    else:\n",
    "        torch.save(models,filepath+'vae/losscoeff_'+str(losscoeff)+'/'+str(splitnum)+'/modelstest'+str(splitnum)+'_vae_'+str(times[i])+'.pk')\n",
    "        read_and_write.save_to_pickle(filepath+'vae/losscoeff_'+str(losscoeff)+'/'+str(splitnum)+'/lossestest'+str(splitnum)+'_vae_'+str(times[i])+'.pkt',losses,'PICKLE')        "
   ]
  },
  {
   "cell_type": "code",
   "execution_count": 3,
   "id": "836ca755-a1fd-4d06-812b-4374cae66d20",
   "metadata": {},
   "outputs": [],
   "source": [
    "config_set = read_config.read_config('../../config.ini')"
   ]
  },
  {
   "cell_type": "code",
   "execution_count": 4,
   "id": "0af4e2d7-f2c3-43fd-a46a-741acee2c5eb",
   "metadata": {},
   "outputs": [
    {
     "data": {
      "text/plain": [
       "{'track_lv': '600',\n",
       " 'track_exp': 'CTRL',\n",
       " 'track_nxsm': '9',\n",
       " 'track_nxrepeat': '15',\n",
       " 'track_ntsmooth': '3',\n",
       " 'track_rmax': '6',\n",
       " 'ML_losscoeff': '1',\n",
       " 'ML_LWnumcomps': '0.5',\n",
       " 'ML_SWnumcomps': '0.8'}"
      ]
     },
     "execution_count": 4,
     "metadata": {},
     "output_type": "execute_result"
    }
   ],
   "source": [
    "config_set"
   ]
  },
  {
   "cell_type": "code",
   "execution_count": null,
   "id": "9d2a43cc-9b89-4a0d-93db-e647a6fa0f46",
   "metadata": {},
   "outputs": [],
   "source": []
  }
 ],
 "metadata": {
  "kernelspec": {
   "display_name": "Python 3 (ipykernel)",
   "language": "python",
   "name": "python3"
  },
  "language_info": {
   "codemirror_mode": {
    "name": "ipython",
    "version": 3
   },
   "file_extension": ".py",
   "mimetype": "text/x-python",
   "name": "python",
   "nbconvert_exporter": "python",
   "pygments_lexer": "ipython3",
   "version": "3.9.16"
  }
 },
 "nbformat": 4,
 "nbformat_minor": 5
}
