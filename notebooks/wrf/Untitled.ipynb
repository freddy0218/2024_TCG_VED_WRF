{
 "cells": [
  {
   "cell_type": "code",
   "execution_count": 1,
   "id": "a7a7d9b3-c702-47a9-8494-9c96097a067f",
   "metadata": {},
   "outputs": [],
   "source": [
    "import numpy as np\n",
    "from wrf import (to_np, getvar, smooth2d, get_cartopy, cartopy_xlim,\n",
    "                 cartopy_ylim, latlon_coords, interplevel, ll_to_xy)\n",
    "import matplotlib.pyplot as plt\n",
    "from netCDF4 import Dataset\n",
    "from matplotlib.cm import get_cmap\n",
    "import cartopy.crs as crs\n",
    "from cartopy.feature import NaturalEarthFeature\n",
    "import xarray as xr\n",
    "import gc, glob\n",
    "import pickle\n",
    "from tqdm import tqdm\n",
    "import sys\n",
    "sys.path.insert(1, '../../')\n",
    "from util.wrf_process import (calc_derive, object_tracking, read_and_write, regrid)\n",
    "import read_config"
   ]
  },
  {
   "cell_type": "markdown",
   "id": "183767fc-40bd-489e-9cc7-9d72e06a9b49",
   "metadata": {},
   "source": [
    "# Domain 2: No change"
   ]
  },
  {
   "cell_type": "code",
   "execution_count": 2,
   "id": "d8d87727-03df-4806-b9df-49a2784c33ae",
   "metadata": {},
   "outputs": [],
   "source": [
    "memb = 1\n",
    "track = read_and_write.depickle(f'../../storage/memb0{memb}/proc/track.pkl')['trackobj']\n",
    "LWstructre = read_and_write.depickle(f'../../storage/output/LWstructure.pkl')"
   ]
  },
  {
   "cell_type": "code",
   "execution_count": 24,
   "id": "7f24f81e-d026-4dd3-b498-fd293eb4dc86",
   "metadata": {},
   "outputs": [],
   "source": [
    "np.swapaxes(np.asfortranarray(LWstructre,dtype=np.float64),0,1).T.tofile(f'../../storage/memb0{memb}/proc/lwperturb_{str(domain)}/lws_d02.bin')"
   ]
  },
  {
   "cell_type": "markdown",
   "id": "88aa5140-b8e0-4420-b781-4967c7673537",
   "metadata": {},
   "source": [
    "# Domain 1: Find closest point"
   ]
  },
  {
   "cell_type": "code",
   "execution_count": 3,
   "id": "1107f8c2-97c4-4615-9489-ca7021fe42d5",
   "metadata": {},
   "outputs": [],
   "source": [
    "# Open the NetCDF file\n",
    "ncfile = Dataset(f'../../storage/memb0{memb}/wrfout_d02_2013-11-02_00:00:00')\n",
    "# Get basic domain settings\n",
    "lons,lats,pres = read_and_write.get_basic_domain(ncfile)\n",
    "if (lons.min() < 0) and (lons.max() > 0):\n",
    "    lon_offset = object_tracking.dateline_lon_shift(lons, reverse=0)\n",
    "else:\n",
    "    lon_offset = 0"
   ]
  },
  {
   "cell_type": "code",
   "execution_count": 4,
   "id": "02b0f540-92c6-4604-a9db-6f406afc3998",
   "metadata": {},
   "outputs": [],
   "source": [
    "domain='d02'\n",
    "store,storeis = [],[]\n",
    "\n",
    "if domain=='d02':\n",
    "    #zcel = [i for i in range(len(track['latlon_xy']))]\n",
    "    zcel = read_and_write.depickle(f'../../storage/memb0{memb}/proc/validindex.pkl') \n",
    "    loninterp = list(np.interp(np.linspace(0,zcel[-1],zcel[-1]*20), \n",
    "                               np.asarray(zcel), \n",
    "                               np.asarray([track['want_latlon'][i][0] for i in range(len(track['want_latlon']))][:int(zcel[-1]+1)])))\n",
    "    latinterp = list(np.interp(np.linspace(0,zcel[-1],zcel[-1]*20), \n",
    "                               np.asarray(zcel), \n",
    "                               np.asarray([track['want_latlon'][i][1] for i in range(len(track['want_latlon']))][:int(zcel[-1]+1)])))\n",
    "    track = object_tracking.tree_latlon_to_xy(ncfile,\n",
    "                                                 (lons + lon_offset).data,\n",
    "                                                 (lats).data,\n",
    "                                                 loninterp,\n",
    "                                                 latinterp,\n",
    "                                                )\n",
    "elif domain=='d01':\n",
    "    zcel = read_and_write.depickle(f'../../storage/memb0{memb}/proc/validindex.pkl')\n",
    "    loninterp = list(np.interp(np.linspace(0,zcel[-1],zcel[-1]*4), \n",
    "                               np.asarray(zcel), \n",
    "                               np.asarray([track['want_latlon'][i][0] for i in range(len(track['want_latlon']))][:int(zcel[-1]+1)])))\n",
    "    latinterp = list(np.interp(np.linspace(0,zcel[-1],zcel[-1]*4), \n",
    "                               np.asarray(zcel), \n",
    "                               np.asarray([track['want_latlon'][i][1] for i in range(len(track['want_latlon']))][:int(zcel[-1]+1)])))\n",
    "    trackd01 = object_tracking.tree_latlon_to_xy(ncfile,\n",
    "                                                 (lons + lon_offset).data,\n",
    "                                                 (lats).data,\n",
    "                                                 loninterp,\n",
    "                                                 latinterp,\n",
    "                                                )\n",
    "    \n",
    "#for i in tqdm(range(len(latinterp))):#zcel:\n",
    "#    if domain=='d01':\n",
    "#        sizes0,sizes1,dze = 239,389,35\n",
    "#        cntX,cntY = trackd01['latlon_xy'][i]\n",
    "#    elif domain=='d02':\n",
    "#        sizes0,sizes1,dze = 740,1200,175\n",
    "#        cntX,cntY = track['latlon_xy'][i]\n",
    "#    TEST = np.zeros((54,sizes0,sizes1))\n",
    "#    TEST = np.zeros((54,sizes0,sizes1))\n",
    "#    try:\n",
    "#        for j in range(54):\n",
    "#            TEST[j,cntY-dze:cntY+dze,cntX-dze:cntX+dze] = LWstructre[j,...]\n",
    "#        farray = np.swapaxes(np.asfortranarray(TEST,dtype=np.float64),0,1)\n",
    "#        farray.T.tofile(f'../../storage/memb0{memb}/proc/lwperturb_{str(domain)}/lwpert{i+1}.bin')\n",
    "#        del TEST,farray\n",
    "#        gc.collect()\n",
    "#        #store.append(TEST)\n",
    "#        storeis.append(i)\n",
    "#    except ValueError:\n",
    "#        continue"
   ]
  },
  {
   "cell_type": "code",
   "execution_count": 7,
   "id": "d7a0cabc-1231-41f0-856d-a50db4f87175",
   "metadata": {},
   "outputs": [],
   "source": [
    "domain='d01'\n",
    "if domain=='d01':\n",
    "    TEST = np.zeros((239,54,389),order='F',dtype=np.float64)\n",
    "elif domain=='d02':\n",
    "    TEST = np.zeros((740,54,1200),order='F',dtype=np.float64)\n",
    "TEST.T.tofile(f'../../storage/memb0{memb}/proc/lwperturb_{str(domain)}/lwpert0.bin')"
   ]
  },
  {
   "cell_type": "markdown",
   "id": "6c93d2bf-8dde-4f3e-849a-21176c242fab",
   "metadata": {},
   "source": [
    "# Output Tracks"
   ]
  },
  {
   "cell_type": "code",
   "execution_count": 15,
   "id": "60d53d8f-695d-4420-805f-fecc2dbc3c30",
   "metadata": {},
   "outputs": [],
   "source": [
    "trackX,trackY = [],[]\n",
    "for itime in range(zcel[-1]*20):\n",
    "    trackX.append(track['latlon_xy'][itime][0])\n",
    "    trackY.append(track['latlon_xy'][itime][1])"
   ]
  },
  {
   "cell_type": "code",
   "execution_count": 16,
   "id": "3e62c007-423e-4963-85cd-903fe3c67f80",
   "metadata": {},
   "outputs": [],
   "source": [
    "np.array(trackX,dtype=np.int64).tofile(f'../../storage/memb0{memb}/proc/lwperturb_{str(domain)}/trackX.bin')\n",
    "np.array(trackY,dtype=np.int64).tofile(f'../../storage/memb0{memb}/proc/lwperturb_{str(domain)}/trackY.bin')"
   ]
  },
  {
   "cell_type": "code",
   "execution_count": 10,
   "id": "08c55445-23d9-4dfb-b5ed-48c8cb9ee308",
   "metadata": {},
   "outputs": [
    {
     "data": {
      "text/plain": [
       "((1340,), 67)"
      ]
     },
     "execution_count": 10,
     "metadata": {},
     "output_type": "execute_result"
    }
   ],
   "source": [
    "np.array(trackX,dtype=np.int64).shape,(zcel[-1])"
   ]
  },
  {
   "cell_type": "markdown",
   "id": "280ff036-1c1d-460f-90d6-c1b8d862f46f",
   "metadata": {},
   "source": [
    "# Output Time Stamps"
   ]
  },
  {
   "cell_type": "code",
   "execution_count": 17,
   "id": "d70eb101-51f6-4f61-b278-dac8fa9045bc",
   "metadata": {},
   "outputs": [],
   "source": [
    "import juliandate as jd\n",
    "import datetime,time\n",
    "\n",
    "def create_juliandates(start_time=None,ref_time=None,totaltimesteps=68*4,minutesdelta=15):\n",
    "    savetimes = [start_time]\n",
    "    for i in range(totaltimesteps):#20):\n",
    "        start_time += datetime.timedelta(minutes=minutesdelta)\n",
    "        savetimes.append(start_time)\n",
    "    del i\n",
    "    gc.collect()\n",
    "    \n",
    "    juliandates = []\n",
    "    for i in range(len(savetimes)):\n",
    "        mt,reft = savetimes[i],ref_time\n",
    "        temp = jd.from_gregorian(mt.year,mt.month,mt.day,mt.hour,mt.minute)-\\\n",
    "        jd.from_gregorian(reft.year,reft.month,reft.day,reft.hour,reft.minute)\n",
    "        juliandates.append(temp)\n",
    "    return juliandates"
   ]
  },
  {
   "cell_type": "code",
   "execution_count": 18,
   "id": "91af62c3-da43-4c14-8846-fafbc617c4f5",
   "metadata": {},
   "outputs": [],
   "source": [
    "domain='d02'\n",
    "juliandates = create_juliandates(datetime.datetime.strptime('02/11/13 00:00:00', '%d/%m/%y %H:%M:%S'),\n",
    "                   datetime.datetime.strptime('01/01/13 00:00:00', '%d/%m/%y %H:%M:%S'),\n",
    "                   67*20,\n",
    "                   3)\n",
    "juliandates_arr = np.array(juliandates,dtype=np.float64)\n",
    "#np.asfortranarray(juliandates).T.tofile(f'../../storage/memb0{memb}/proc/lwperturb_{str(domain)}/juliandates.bin')"
   ]
  },
  {
   "cell_type": "code",
   "execution_count": 21,
   "id": "b9ddf568-d4b7-44e9-bf82-c98e47701157",
   "metadata": {
    "scrolled": true
   },
   "outputs": [],
   "source": [
    "juliandates_arr[:-1].tofile(f'../../storage/memb0{memb}/proc/lwperturb_{str(domain)}/juliandates.bin')"
   ]
  },
  {
   "cell_type": "code",
   "execution_count": 16,
   "id": "045143b7-4c8f-4046-9459-3b133d9887ea",
   "metadata": {},
   "outputs": [
    {
     "data": {
      "text/plain": [
       "273"
      ]
     },
     "execution_count": 16,
     "metadata": {},
     "output_type": "execute_result"
    }
   ],
   "source": [
    "68*4+1"
   ]
  },
  {
   "cell_type": "code",
   "execution_count": 22,
   "id": "93e978b3-ae7c-4f30-a872-b88dee8c9234",
   "metadata": {},
   "outputs": [],
   "source": [
    "for i in range(len(store)):\n",
    "    farray = np.swapaxes(np.asfortranarray(store[i]),0,1)#.tofile(f'../../storage/memb0{memb}/proc/lwperturb_d01.dat')\n",
    "    farray.T.tofile(f'../../storage/memb0{memb}/proc/lwperturb_{str(domain)}/lwpert{i+1}.bin')"
   ]
  },
  {
   "cell_type": "code",
   "execution_count": 13,
   "id": "10d78b17-c1f5-4ab4-89df-82e6a30ca03e",
   "metadata": {},
   "outputs": [],
   "source": [
    "memb=1\n",
    "A = np.fromfile(f'../../storage/memb0{memb}/proc/lwperturb_d02.bin')"
   ]
  },
  {
   "cell_type": "code",
   "execution_count": null,
   "id": "b2251001-67d2-4d6d-bc1f-b0a7937c819f",
   "metadata": {},
   "outputs": [],
   "source": []
  }
 ],
 "metadata": {
  "kernelspec": {
   "display_name": "Python 3 (ipykernel)",
   "language": "python",
   "name": "python3"
  },
  "language_info": {
   "codemirror_mode": {
    "name": "ipython",
    "version": 3
   },
   "file_extension": ".py",
   "mimetype": "text/x-python",
   "name": "python",
   "nbconvert_exporter": "python",
   "pygments_lexer": "ipython3",
   "version": "3.9.16"
  }
 },
 "nbformat": 4,
 "nbformat_minor": 5
}
