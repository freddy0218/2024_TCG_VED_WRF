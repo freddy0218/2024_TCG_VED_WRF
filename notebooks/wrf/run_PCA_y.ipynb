{
 "cells": [
  {
   "cell_type": "code",
   "execution_count": 1,
   "id": "7916952d-8b12-4923-8295-02a462e4913a",
   "metadata": {},
   "outputs": [],
   "source": [
    "import numpy as np\n",
    "from wrf import (to_np, getvar, smooth2d, get_cartopy, cartopy_xlim,\n",
    "                 cartopy_ylim, latlon_coords, interplevel, ll_to_xy)\n",
    "import matplotlib.pyplot as plt\n",
    "from netCDF4 import Dataset\n",
    "from matplotlib.cm import get_cmap\n",
    "import cartopy.crs as crs\n",
    "from cartopy.feature import NaturalEarthFeature\n",
    "import xarray as xr\n",
    "import gc, glob\n",
    "import pickle\n",
    "from tqdm import tqdm\n",
    "from scipy import ndimage"
   ]
  },
  {
   "cell_type": "code",
   "execution_count": 2,
   "id": "2237a21e-206e-4ede-88a1-621b0271d38d",
   "metadata": {},
   "outputs": [],
   "source": [
    "import sys\n",
    "sys.path.insert(1, '../../')\n",
    "from util.ml import (preproc)\n",
    "from util.wrf_process import (read_and_write,calc_derive,object_tracking)\n",
    "import read_config"
   ]
  },
  {
   "cell_type": "code",
   "execution_count": 9,
   "id": "a8fb5bb3-757f-4e00-bd59-e006d732fe9d",
   "metadata": {},
   "outputs": [
    {
     "data": {
      "text/plain": [
       "'0_3'"
      ]
     },
     "execution_count": 9,
     "metadata": {},
     "output_type": "execute_result"
    }
   ],
   "source": [
    "exptype=str(9100)\n",
    "startname=12\n",
    "sorted(glob.glob(f'../../storage/proc/Xsmooth/{exptype}/Xtimeseries*pkl'))[0].split('/')[-1][int(startname):].split('.')[0]"
   ]
  },
  {
   "cell_type": "code",
   "execution_count": 10,
   "id": "d790cc80-0b68-4ee2-817d-68277d74aed9",
   "metadata": {},
   "outputs": [
    {
     "data": {
      "text/plain": [
       "['../../storage/proc/Xsmooth/9100/Xtimeseries_0_3.pkl',\n",
       " '../../storage/proc/Xsmooth/9100/Xtimeseries_0_6.pkl',\n",
       " '../../storage/proc/Xsmooth/9100/Xtimeseries_0_9.pkl',\n",
       " '../../storage/proc/Xsmooth/9100/Xtimeseries_1_3.pkl',\n",
       " '../../storage/proc/Xsmooth/9100/Xtimeseries_1_5.pkl',\n",
       " '../../storage/proc/Xsmooth/9100/Xtimeseries_1_6.pkl',\n",
       " '../../storage/proc/Xsmooth/9100/Xtimeseries_1_7.pkl',\n",
       " '../../storage/proc/Xsmooth/9100/Xtimeseries_2_0.pkl',\n",
       " '../../storage/proc/Xsmooth/9100/Xtimeseries_2_4.pkl',\n",
       " '../../storage/proc/Xsmooth/9100/Xtimeseries_2_6.pkl',\n",
       " '../../storage/proc/Xsmooth/9100/Xtimeseries_2_9.pkl',\n",
       " '../../storage/proc/Xsmooth/9100/Xtimeseries_3_7.pkl',\n",
       " '../../storage/proc/Xsmooth/9100/Xtimeseries_4_7.pkl',\n",
       " '../../storage/proc/Xsmooth/9100/Xtimeseries_5_0.pkl',\n",
       " '../../storage/proc/Xsmooth/9100/Xtimeseries_5_9.pkl',\n",
       " '../../storage/proc/Xsmooth/9100/Xtimeseries_6_4.pkl',\n",
       " '../../storage/proc/Xsmooth/9100/Xtimeseries_7_2.pkl',\n",
       " '../../storage/proc/Xsmooth/9100/Xtimeseries_9_2.pkl',\n",
       " '../../storage/proc/Xsmooth/9100/Xtimeseries_9_5.pkl']"
      ]
     },
     "execution_count": 10,
     "metadata": {},
     "output_type": "execute_result"
    }
   ],
   "source": [
    "sorted(glob.glob(f'../../storage/proc/Xsmooth/{exptype}/Xtimeseries*pkl'))"
   ]
  },
  {
   "cell_type": "markdown",
   "id": "8a5c3ae4-00ec-44ed-89af-75b97559271c",
   "metadata": {},
   "source": [
    "# Read processed files"
   ]
  },
  {
   "cell_type": "code",
   "execution_count": null,
   "id": "a3ee22ba-b47d-4546-b441-95879c7368b3",
   "metadata": {},
   "outputs": [],
   "source": [
    "Upol,Vpol = [],[]\n",
    "for memb in [1,2,3,4,5,6,7,8,9,10]:\n",
    "    if memb<10:\n",
    "        Upol.append(read_and_write.depickle(sorted(glob.glob(f'../../storage/memb0{memb}/proc/cutpol_U.pkl'))[0]))\n",
    "        Vpol.append(read_and_write.depickle(sorted(glob.glob(f'../../storage/memb0{memb}/proc/cutpol_V.pkl'))[0]))\n",
    "    else:\n",
    "        Upol.append(read_and_write.depickle(sorted(glob.glob(f'../../storage/memb{memb}/proc/cutpol_U.pkl'))[0]))\n",
    "        Vpol.append(read_and_write.depickle(sorted(glob.glob(f'../../storage/memb{memb}/proc/cutpol_V.pkl'))[0]))        "
   ]
  },
  {
   "cell_type": "code",
   "execution_count": 3,
   "id": "05d15d64-82f4-4bb1-88a8-460613e11ce3",
   "metadata": {},
   "outputs": [],
   "source": [
    "rthratlw,rthratsw=[],[]\n",
    "for memb in [1,2,3,4,5,6,7,8,9,10]:\n",
    "    if memb<10:\n",
    "        rthratlw.append(read_and_write.depickle(sorted(glob.glob(f'../../storage/memb0{memb}/proc/cutcart_rthratlw.pkl'))[0])['pol'])\n",
    "        rthratsw.append(read_and_write.depickle(sorted(glob.glob(f'../../storage/memb0{memb}/proc/cutcart_rthratsw.pkl'))[0])['pol'])\n",
    "    else:\n",
    "        rthratlw.append(read_and_write.depickle(sorted(glob.glob(f'../../storage/memb{memb}/proc/cutcart_rthratlw.pkl'))[0])['pol'])\n",
    "        rthratsw.append(read_and_write.depickle(sorted(glob.glob(f'../../storage/memb{memb}/proc/cutcart_rthratsw.pkl'))[0])['pol'])"
   ]
  },
  {
   "cell_type": "code",
   "execution_count": 4,
   "id": "95475ca3-23c4-4b52-9fcb-b6807c107d3b",
   "metadata": {},
   "outputs": [],
   "source": [
    "def do_smoothing(f,nx_sm,nx_repeat,nt_smooth):\n",
    "    rthratlw_smooth = []\n",
    "    for i in (range(len(f))):\n",
    "        rthratlw_smooth.append(calc_derive.smooth_var(f[i],nx_sm,nx_repeat,nt_smooth))\n",
    "    return (rthratlw_smooth)"
   ]
  },
  {
   "cell_type": "code",
   "execution_count": 5,
   "id": "6cfbaa61-ab13-4990-8a06-eb6c7bdb5e57",
   "metadata": {},
   "outputs": [
    {
     "name": "stderr",
     "output_type": "stream",
     "text": [
      "100%|████████████████████████████████████████████████████████████████████████████████████████████████████████████████████████████████████| 10/10 [02:15<00:00, 13.53s/it]\n"
     ]
    },
    {
     "data": {
      "text/plain": [
       "0"
      ]
     },
     "execution_count": 5,
     "metadata": {},
     "output_type": "execute_result"
    }
   ],
   "source": [
    "rthratlw_smooth,rthratsw_smooth=[],[]\n",
    "for i in tqdm(range(len(rthratlw))):\n",
    "    rthratlw_smooth.append(do_smoothing(rthratlw[i],9,2,3))\n",
    "    rthratsw_smooth.append(do_smoothing(rthratsw[i],9,2,3))\n",
    "\n",
    "del rthratlw,rthratsw\n",
    "gc.collect()"
   ]
  },
  {
   "cell_type": "code",
   "execution_count": 12,
   "id": "40e20e6f-4b80-47ba-aee9-880613b71d9a",
   "metadata": {},
   "outputs": [],
   "source": [
    "rthratlw_flat,rthratsw_flat = [],[]\n",
    "for memb in range(len(rthratlw_smooth)):\n",
    "    rthratlw_flat.append([obj.reshape(-1) for obj in rthratlw_smooth[memb]][:-1])\n",
    "    rthratsw_flat.append([obj.reshape(-1) for obj in rthratsw_smooth[memb]][:-1])\n",
    "#del rthratlw,rthratsw\n",
    "#gc.collect()"
   ]
  },
  {
   "cell_type": "markdown",
   "id": "ca24cd6a-45e7-454b-8aef-311337aa6b81",
   "metadata": {},
   "source": [
    "# Surface intensity"
   ]
  },
  {
   "cell_type": "code",
   "execution_count": 4,
   "id": "10b7302d-0a72-4ae7-91be-33889dbf389f",
   "metadata": {},
   "outputs": [],
   "source": [
    "def get_intensification(U=None,V=None):\n",
    "    swspd = np.sqrt(np.asarray(U['pol'])[:,0,...]**2+np.asarray(V['pol'])[:,0,...]**2)\n",
    "    return np.max(np.mean(swspd,axis=2),axis=1)"
   ]
  },
  {
   "cell_type": "code",
   "execution_count": 5,
   "id": "ea81040b-30e5-402c-89e6-3bf61fb4791b",
   "metadata": {},
   "outputs": [],
   "source": [
    "wspds = [get_intensification(Upol[i],Vpol[i]) for i in range(len(Upol))]\n",
    "wspddiffs = [np.diff(wspds[i])/(60*60) for i in range(len(wspds))]"
   ]
  },
  {
   "cell_type": "code",
   "execution_count": 11,
   "id": "d83be5c7-be86-46d4-875d-c9322b5d0105",
   "metadata": {
    "scrolled": true
   },
   "outputs": [
    {
     "data": {
      "text/plain": [
       "([(67,), (70,), (68,), (59,), (67,), (67,), (70,), (60,), (70,), (34,)],\n",
       " [(67, 6615000),\n",
       "  (70, 6615000),\n",
       "  (68, 6615000),\n",
       "  (59, 6615000),\n",
       "  (67, 6615000),\n",
       "  (67, 6615000),\n",
       "  (70, 6615000),\n",
       "  (60, 6615000),\n",
       "  (70, 6615000),\n",
       "  (34, 6615000)])"
      ]
     },
     "execution_count": 11,
     "metadata": {},
     "output_type": "execute_result"
    }
   ],
   "source": [
    "[wspddiffobj.shape for wspddiffobj in wspddiffs],[np.asarray(obj).shape for obj in rthratlw_flat]"
   ]
  },
  {
   "cell_type": "code",
   "execution_count": 23,
   "id": "3be549f0-789e-4490-b85a-551c7b3302dc",
   "metadata": {},
   "outputs": [],
   "source": [
    "Xfiles = glob.glob(f'../../storage/proc/PCA_*.pkl')\n",
    "for i in range(len(Xfiles)):\n",
    "    valid1 = Xfiles[i].split('/')[-1].split('.')[0].split('_')[1]\n",
    "    valid2 = Xfiles[i].split('/')[-1].split('.')[0].split('_')[2]\n",
    "    ytrain,yvalid,ytest = preproc.train_valid_test(expvarlist=wspddiffs,validindex=[int(valid1),int(valid2)],testindex=[8],concat='Yes')\n",
    "    read_and_write.save_to_pickle({'train':ytrain,'valid':yvalid,'test':ytest},f'../../storage/proc/y_{int(valid1)}_{int(valid2)}.pkl')"
   ]
  },
  {
   "cell_type": "code",
   "execution_count": 17,
   "id": "94fe17d1-4e8d-49ee-8872-8f89e226bc4f",
   "metadata": {},
   "outputs": [
    {
     "data": {
      "text/plain": [
       "((68,), (67,))"
      ]
     },
     "execution_count": 17,
     "metadata": {},
     "output_type": "execute_result"
    }
   ],
   "source": [
    "wspds[0].shape,wspddiffs[0].shape"
   ]
  },
  {
   "cell_type": "code",
   "execution_count": 43,
   "id": "75bfec69-0ddc-47b4-8842-e6cdf9c4f84a",
   "metadata": {
    "scrolled": true
   },
   "outputs": [
    {
     "name": "stderr",
     "output_type": "stream",
     "text": [
      "100%|█████████████████████████████████████████████████████████████████████████████████████████████████████████████████████████████████████████████████████████████████████████████| 4/4 [00:02<00:00,  1.35it/s]\n"
     ]
    },
    {
     "data": {
      "image/png": "[encoded data removed]",
      "text/plain": [
       "<Figure size 432x288 with 1 Axes>"
      ]
     },
     "metadata": {
      "needs_background": "light"
     },
     "output_type": "display_data"
    }
   ],
   "source": [
    "for i in tqdm([5,6,7,8]):#,5,6,7,8]):\n",
    "    plt.plot(np.max(np.max(np.sqrt(np.asarray(Upol[i]['pol'])[:,0,...]**2+np.asarray(Vpol[i]['pol'])[:,0,...]**2),axis=-1),\n",
    "                       axis=1))\n",
    "plt.show()"
   ]
  },
  {
   "cell_type": "markdown",
   "id": "367e30d4-5040-4b8d-a218-ba35d98d01cf",
   "metadata": {},
   "source": [
    "# Radiation"
   ]
  },
  {
   "cell_type": "code",
   "execution_count": 13,
   "id": "ca0e57ae-1ea4-4e93-9153-6d707757fec7",
   "metadata": {},
   "outputs": [
    {
     "data": {
      "text/plain": [
       "(425, 6615000)"
      ]
     },
     "execution_count": 13,
     "metadata": {},
     "output_type": "execute_result"
    }
   ],
   "source": [
    "Xtrain['LW'].shape"
   ]
  },
  {
   "cell_type": "code",
   "execution_count": 13,
   "id": "7f672a4f-9fc4-498a-b9a0-b8d2d49889d0",
   "metadata": {
    "scrolled": true
   },
   "outputs": [
    {
     "name": "stderr",
     "output_type": "stream",
     "text": [
      "  0%|                                                                                                                                              | 0/2 [00:00<?, ?it/s]\n",
      "  0%|                                                                                                                                              | 0/3 [00:00<?, ?it/s]\u001b[A\n",
      " 33%|████████████████████████████████████████████▎                                                                                        | 1/3 [03:55<07:51, 235.78s/it]\u001b[A\n",
      " 67%|████████████████████████████████████████████████████████████████████████████████████████▋                                            | 2/3 [19:37<10:51, 651.09s/it]\u001b[A\n",
      "100%|█████████████████████████████████████████████████████████████████████████████████████████████████████████████████████████████████████| 3/3 [32:13<00:00, 644.44s/it]\u001b[A\n",
      "\n",
      "  0%|                                                                                                                                              | 0/3 [00:00<?, ?it/s]\u001b[A\n",
      " 33%|████████████████████████████████████████████▎                                                                                        | 1/3 [05:59<11:58, 359.34s/it]\u001b[A\n",
      " 67%|████████████████████████████████████████████████████████████████████████████████████████▋                                            | 2/3 [20:54<11:14, 674.58s/it]\u001b[A\n",
      "100%|█████████████████████████████████████████████████████████████████████████████████████████████████████████████████████████████████████| 3/3 [34:03<00:00, 681.18s/it]\u001b[A\n",
      " 50%|████████████████████████████████████████████████████████████████                                                                | 1/2 [1:06:30<1:06:30, 3990.97s/it]\n",
      "  0%|                                                                                                                                              | 0/3 [00:00<?, ?it/s]\u001b[A\n",
      " 33%|████████████████████████████████████████████▎                                                                                        | 1/3 [04:19<08:39, 259.79s/it]\u001b[A\n",
      " 67%|████████████████████████████████████████████████████████████████████████████████████████▋                                            | 2/3 [19:59<10:59, 659.71s/it]\u001b[A\n",
      "100%|█████████████████████████████████████████████████████████████████████████████████████████████████████████████████████████████████████| 3/3 [34:18<00:00, 686.13s/it]\u001b[A\n",
      "\n",
      "  0%|                                                                                                                                              | 0/3 [00:00<?, ?it/s]\u001b[A\n",
      " 33%|████████████████████████████████████████████▎                                                                                        | 1/3 [04:03<08:07, 243.92s/it]\u001b[A\n",
      " 67%|████████████████████████████████████████████████████████████████████████████████████████▋                                            | 2/3 [20:05<11:06, 666.05s/it]\u001b[A\n",
      "100%|█████████████████████████████████████████████████████████████████████████████████████████████████████████████████████████████████████| 3/3 [34:25<00:00, 688.59s/it]\u001b[A\n",
      "100%|██████████████████████████████████████████████████████████████████████████████████████████████████████████████████████████████████| 2/2 [2:15:29<00:00, 4064.92s/it]\n"
     ]
    }
   ],
   "source": [
    "import random\n",
    "from sklearn.decomposition import PCA\n",
    "from sklearn.decomposition import IncrementalPCA\n",
    "\n",
    "n_batches=3\n",
    "n_comps = 140\n",
    "Xfiles = sorted(glob.glob(f'../../storage/proc/PCA/PCA_*.pkl'))\n",
    "for i in tqdm([1,2]):#range(20)):\n",
    "    # Choosing 2 random numbers\n",
    "    #validindices = random.sample([0,1,2,3,4,5,6,7,9], 2)\n",
    "    valid1 = Xfiles[i].split('/')[-1].split('.')[0].split('_')[1]\n",
    "    valid2 = Xfiles[i].split('/')[-1].split('.')[0].split('_')[2]\n",
    "    validindices = [int(valid1),int(valid2)]\n",
    "    # Separate data\n",
    "    Xtrain,Xvalid,Xtest = {},{},{}\n",
    "    Xtrain['LW'],Xvalid['LW'],Xtest['LW'] = preproc.train_valid_test(expvarlist=rthratlw_flat,validindex=validindices,testindex=[8],concat='Yes')\n",
    "    Xtrain['SW'],Xvalid['SW'],Xtest['SW'] = preproc.train_valid_test(expvarlist=rthratsw_flat,validindex=validindices,testindex=[8],concat='Yes')\n",
    "    #del rthratlw_flat,rthratsw_flat\n",
    "    #gc.collect()\n",
    "    # Train PCA\n",
    "    PCAdict = {}\n",
    "    for ivar in (['LW','SW']):\n",
    "        inc_pca = IncrementalPCA(n_components=100,copy=False)#int(Xtrain[ivar].shape[0]/n_batches)-1)#n_comps)\n",
    "        for X_batch in tqdm(np.array_split(Xtrain[ivar],n_batches)):\n",
    "            inc_pca.partial_fit(X_batch)\n",
    "    #    PCAdict[ivar]=inc_pca\n",
    "    # Save stuff    \n",
    "    #read_and_write.save_to_pickle({'PCA':PCAdict},f'../../storage/proc/PCA/PCAsmooth9153_{validindices[0]}_{validindices[1]}.pkl')\n",
    "    #read_and_write.save_to_pickle({'train':Xtrain,'valid':Xvalid,'test':Xtest},f'../../storage/proc/X_{validindices[0]}_{validindices[1]}.pkl')\n",
    "    del PCAdict,Xtrain,Xvalid,Xtest\n",
    "    gc.collect()"
   ]
  },
  {
   "cell_type": "code",
   "execution_count": 13,
   "id": "b684f5d1-ad2b-4714-a6d7-7e7f1e700149",
   "metadata": {},
   "outputs": [
    {
     "data": {
      "text/plain": [
       "(461, 6615000)"
      ]
     },
     "execution_count": 13,
     "metadata": {},
     "output_type": "execute_result"
    }
   ],
   "source": [
    "Xtrain['LW'].shape"
   ]
  },
  {
   "cell_type": "code",
   "execution_count": null,
   "id": "39ea2043-ee39-46ed-9c99-2a8270d485fa",
   "metadata": {},
   "outputs": [],
   "source": []
  }
 ],
 "metadata": {
  "kernelspec": {
   "display_name": "Python 3 (ipykernel)",
   "language": "python",
   "name": "python3"
  },
  "language_info": {
   "codemirror_mode": {
    "name": "ipython",
    "version": 3
   },
   "file_extension": ".py",
   "mimetype": "text/x-python",
   "name": "python",
   "nbconvert_exporter": "python",
   "pygments_lexer": "ipython3",
   "version": "3.9.16"
  }
 },
 "nbformat": 4,
 "nbformat_minor": 5
}
