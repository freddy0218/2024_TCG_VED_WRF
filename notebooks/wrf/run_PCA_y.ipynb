{
 "cells": [
  {
   "cell_type": "code",
   "execution_count": 1,
   "id": "7916952d-8b12-4923-8295-02a462e4913a",
   "metadata": {},
   "outputs": [],
   "source": [
    "import numpy as np\n",
    "from wrf import (to_np, getvar, smooth2d, get_cartopy, cartopy_xlim,\n",
    "                 cartopy_ylim, latlon_coords, interplevel, ll_to_xy)\n",
    "import matplotlib.pyplot as plt\n",
    "from netCDF4 import Dataset\n",
    "from matplotlib.cm import get_cmap\n",
    "import cartopy.crs as crs\n",
    "from cartopy.feature import NaturalEarthFeature\n",
    "import xarray as xr\n",
    "import gc, glob\n",
    "import pickle\n",
    "from tqdm import tqdm"
   ]
  },
  {
   "cell_type": "code",
   "execution_count": 2,
   "id": "2237a21e-206e-4ede-88a1-621b0271d38d",
   "metadata": {},
   "outputs": [],
   "source": [
    "import sys\n",
    "sys.path.insert(1, '../../')\n",
    "from util.ml import (preproc)\n",
    "from util.wrf_process import (read_and_write)\n",
    "import read_config"
   ]
  },
  {
   "cell_type": "markdown",
   "id": "8a5c3ae4-00ec-44ed-89af-75b97559271c",
   "metadata": {},
   "source": [
    "# Read processed files"
   ]
  },
  {
   "cell_type": "code",
   "execution_count": 3,
   "id": "a3ee22ba-b47d-4546-b441-95879c7368b3",
   "metadata": {},
   "outputs": [],
   "source": [
    "Upol,Vpol = [],[]\n",
    "for memb in [1,2,3,4,5,6,7,8,9,10]:\n",
    "    if memb<10:\n",
    "        Upol.append(read_and_write.depickle(sorted(glob.glob(f'../../storage/memb0{memb}/proc/cutpol_U.pkl'))[0]))\n",
    "        Vpol.append(read_and_write.depickle(sorted(glob.glob(f'../../storage/memb0{memb}/proc/cutpol_V.pkl'))[0]))\n",
    "    else:\n",
    "        Upol.append(read_and_write.depickle(sorted(glob.glob(f'../../storage/memb{memb}/proc/cutpol_U.pkl'))[0]))\n",
    "        Vpol.append(read_and_write.depickle(sorted(glob.glob(f'../../storage/memb{memb}/proc/cutpol_V.pkl'))[0]))        "
   ]
  },
  {
   "cell_type": "code",
   "execution_count": 4,
   "id": "05d15d64-82f4-4bb1-88a8-460613e11ce3",
   "metadata": {},
   "outputs": [],
   "source": [
    "rthratlw,rthratsw=[],[]\n",
    "for memb in [1,2,3,4,5,6,7,8,9,10]:\n",
    "    if memb<10:\n",
    "        rthratlw.append(read_and_write.depickle(sorted(glob.glob(f'../../storage/memb0{memb}/proc/cutcart_rthratlw.pkl'))[0])['pol'])\n",
    "        rthratsw.append(read_and_write.depickle(sorted(glob.glob(f'../../storage/memb0{memb}/proc/cutcart_rthratsw.pkl'))[0])['pol'])\n",
    "    else:\n",
    "        rthratlw.append(read_and_write.depickle(sorted(glob.glob(f'../../storage/memb{memb}/proc/cutcart_rthratlw.pkl'))[0])['pol'])\n",
    "        rthratsw.append(read_and_write.depickle(sorted(glob.glob(f'../../storage/memb{memb}/proc/cutcart_rthratsw.pkl'))[0])['pol'])        "
   ]
  },
  {
   "cell_type": "code",
   "execution_count": 5,
   "id": "40e20e6f-4b80-47ba-aee9-880613b71d9a",
   "metadata": {},
   "outputs": [
    {
     "data": {
      "text/plain": [
       "0"
      ]
     },
     "execution_count": 5,
     "metadata": {},
     "output_type": "execute_result"
    }
   ],
   "source": [
    "rthratlw_flat,rthratsw_flat = [],[]\n",
    "for memb in range(len(rthratlw)):\n",
    "    rthratlw_flat.append([obj.reshape(-1) for obj in rthratlw[memb]][:-1])\n",
    "    rthratsw_flat.append([obj.reshape(-1) for obj in rthratsw[memb]][:-1])\n",
    "del rthratlw,rthratsw\n",
    "gc.collect()"
   ]
  },
  {
   "cell_type": "markdown",
   "id": "ca24cd6a-45e7-454b-8aef-311337aa6b81",
   "metadata": {
    "jp-MarkdownHeadingCollapsed": true
   },
   "source": [
    "# Surface intensity"
   ]
  },
  {
   "cell_type": "code",
   "execution_count": 10,
   "id": "10b7302d-0a72-4ae7-91be-33889dbf389f",
   "metadata": {},
   "outputs": [],
   "source": [
    "def get_intensification(U=None,V=None):\n",
    "    swspd = np.sqrt(np.asarray(U['pol'])[:,0,...]**2+np.asarray(V['pol'])[:,0,...]**2)\n",
    "    return np.max(np.mean(swspd,axis=2),axis=1)"
   ]
  },
  {
   "cell_type": "code",
   "execution_count": 16,
   "id": "ea81040b-30e5-402c-89e6-3bf61fb4791b",
   "metadata": {},
   "outputs": [],
   "source": [
    "wspds = [get_intensification(Upol[i],Vpol[i]) for i in range(len(Upol))]\n",
    "wspddiffs = [np.diff(wspds[i])/(60*60) for i in range(len(wspds))]"
   ]
  },
  {
   "cell_type": "code",
   "execution_count": 18,
   "id": "d83be5c7-be86-46d4-875d-c9322b5d0105",
   "metadata": {
    "scrolled": true
   },
   "outputs": [
    {
     "data": {
      "text/plain": [
       "(array([-4.85544724e-04, -7.22230501e-05, -1.16859171e-03, -3.83435737e-04,\n",
       "        -2.27472524e-04, -9.17557652e-07,  8.01633377e-06,  1.19737981e-05,\n",
       "         3.66475203e-05, -9.93491621e-05,  7.08741544e-05, -5.41780726e-05,\n",
       "         1.73592895e-04, -2.06041797e-04, -1.23699403e-04, -1.04481707e-04,\n",
       "         5.69115152e-05,  4.41683309e-04, -2.76455137e-04,  6.88179378e-04,\n",
       "        -2.40538548e-04,  3.55546994e-04, -1.67966844e-04, -2.57739020e-05,\n",
       "         2.26461452e-04,  1.35319264e-04, -5.63329327e-05,  1.80228881e-04,\n",
       "         4.15679434e-04, -3.00478170e-04,  4.99881092e-05, -5.23291782e-05,\n",
       "         2.81250651e-04, -3.87781546e-04, -4.66863213e-05, -1.09983574e-04,\n",
       "         4.81871907e-04, -5.23981296e-04,  1.37355228e-04, -1.30956812e-04,\n",
       "         5.64699951e-04,  8.32040605e-05, -5.06815224e-04, -1.50472317e-04,\n",
       "        -1.00010213e-04,  1.97351194e-04, -3.14198792e-05,  2.82712104e-04,\n",
       "        -2.55602082e-04,  7.84640956e-04, -8.97420284e-04,  5.57309119e-04,\n",
       "        -7.19436278e-05,  6.79769128e-04,  5.03783328e-04,  8.56796799e-04,\n",
       "         6.78657677e-05,  5.04199363e-04,  1.09106904e-05,  8.77189503e-04,\n",
       "         1.01064280e-05,  2.68994049e-03, -4.14130480e-03,  6.67674823e-04,\n",
       "        -3.99308160e-04,  8.67188203e-04,  1.60476968e-04, -2.73524841e-04,\n",
       "        -2.87655177e-04, -2.47636391e-04,  8.37007609e-04, -8.54102127e-05,\n",
       "         5.46025131e-04,  1.43424873e-04,  1.13715713e-04, -1.07755663e-03,\n",
       "        -4.03928300e-04, -2.07207428e-04,  2.01109496e-04, -5.64128680e-05,\n",
       "         2.82032852e-06, -1.29520561e-04,  1.70236077e-04,  2.09095792e-04,\n",
       "         1.54856018e-04, -6.58607901e-04,  1.12654128e-04,  4.21760654e-05,\n",
       "         1.14396083e-03,  8.04330465e-05, -9.25021857e-04, -2.28398490e-04,\n",
       "         1.29692685e-04, -2.32510403e-05, -1.28576629e-05, -6.57419711e-05,\n",
       "        -7.55928341e-05,  6.31055523e-06,  1.04716057e-04,  8.00486282e-06,\n",
       "        -1.84655075e-04, -3.89134755e-05, -4.03067991e-06,  1.04311865e-04,\n",
       "         1.34957008e-04,  1.81517944e-04, -3.47451350e-05,  5.86964799e-05,\n",
       "        -5.00139975e-05, -1.07727042e-04,  2.21632769e-04,  5.20800273e-05,\n",
       "         3.97736914e-05,  5.90890507e-05,  3.28513429e-04,  3.26708084e-04,\n",
       "        -1.63040226e-04,  8.75960760e-05,  4.16208776e-04, -3.47496890e-05,\n",
       "         1.24885792e-04,  1.19980742e-04, -1.12823051e-04,  2.25011461e-04,\n",
       "        -3.42744267e-05,  8.61360813e-04, -5.70376012e-05,  3.29499929e-05,\n",
       "        -2.23198105e-04, -2.11333755e-04, -2.69216076e-04, -7.54229658e-05,\n",
       "        -1.86377541e-04, -2.97895577e-04, -1.07584685e-04,  2.37693174e-04,\n",
       "         7.59332516e-05,  2.95444123e-05, -1.04906684e-04, -8.16930108e-05,\n",
       "         4.39496098e-04,  5.33884705e-04, -4.91968868e-04,  8.28365660e-05,\n",
       "         1.59433867e-04,  4.01745464e-04, -1.95306909e-04,  4.58538240e-04,\n",
       "        -3.01144345e-05, -2.10028213e-04,  1.80285428e-04,  5.47925869e-04,\n",
       "        -9.76253717e-04, -6.29591514e-04, -8.88118018e-05,  1.62721569e-04,\n",
       "        -2.27532421e-04,  7.61760424e-05, -1.69069033e-05, -1.70162928e-04,\n",
       "        -1.45463672e-05, -2.49577922e-05,  8.86213572e-07,  2.90065689e-04,\n",
       "        -3.53072854e-04,  8.79452561e-05, -4.15018367e-06,  6.34397784e-05,\n",
       "         1.19010949e-04, -8.96008120e-05, -2.68049254e-05, -8.90477524e-05,\n",
       "        -1.34934553e-04,  1.46571406e-04,  1.28438513e-03, -2.03267812e-04,\n",
       "        -6.91754515e-04,  3.00112448e-04, -1.44656875e-04,  4.40080089e-04,\n",
       "         6.13344172e-05,  9.09633148e-04, -1.33331059e-03,  1.13884929e-04,\n",
       "        -5.30958827e-04,  4.14547103e-04, -2.16864670e-04,  3.32058498e-04,\n",
       "         2.22849464e-04,  4.58126431e-04, -5.56343585e-05,  7.61728223e-04,\n",
       "         2.04588189e-03, -5.70376012e-05,  3.29499929e-05, -2.23198105e-04,\n",
       "        -2.11333755e-04, -2.69216076e-04, -7.54229658e-05, -1.86377541e-04,\n",
       "        -2.97895577e-04, -1.07584685e-04,  2.37693174e-04,  7.59332516e-05,\n",
       "         2.95444123e-05, -1.04906684e-04, -8.16930108e-05,  4.39496098e-04,\n",
       "         5.33884705e-04, -4.91968868e-04,  8.28365660e-05,  1.59433867e-04,\n",
       "         4.01745464e-04, -1.95306909e-04,  4.58538240e-04, -3.01144345e-05,\n",
       "        -2.10028213e-04,  1.80285428e-04,  5.47925869e-04, -9.76253717e-04,\n",
       "        -6.29591514e-04, -8.88118018e-05,  1.62721569e-04, -2.27532421e-04,\n",
       "         7.61760424e-05, -1.69069033e-05, -1.70162928e-04, -1.45463672e-05,\n",
       "        -2.49577922e-05,  8.86213572e-07,  2.90065689e-04, -3.53072854e-04,\n",
       "         8.79452561e-05, -4.15018367e-06,  6.34397784e-05,  1.19010949e-04,\n",
       "        -8.96008120e-05, -2.68049254e-05, -8.90477524e-05, -1.34934553e-04,\n",
       "         1.46571406e-04,  1.28438513e-03, -2.03267812e-04, -6.91754515e-04,\n",
       "         3.00112448e-04, -1.44656875e-04,  4.40080089e-04,  6.13344172e-05,\n",
       "         9.09633148e-04, -1.33331059e-03,  1.13884929e-04, -5.30958827e-04,\n",
       "         4.14547103e-04, -2.16864670e-04,  3.32058498e-04,  2.22849464e-04,\n",
       "         4.58126431e-04, -5.56343585e-05,  7.61728223e-04,  2.04588189e-03,\n",
       "        -1.74814481e-04,  2.70900019e-04,  5.60876709e-04,  2.70114112e-04,\n",
       "         2.06689682e-04, -3.20553055e-04,  2.58771259e-04,  9.16815590e-04,\n",
       "        -6.29036069e-05,  2.77886173e-04, -3.03261579e-04, -2.81038228e-04,\n",
       "         1.32226722e-03, -1.90078594e-03,  2.91226804e-03, -1.61457280e-03,\n",
       "         4.59237954e-04, -3.23902447e-04, -3.21224697e-04, -1.87259141e-04,\n",
       "        -2.68499276e-04,  5.73015528e-05, -1.88391874e-04, -1.82912871e-04,\n",
       "         6.47746153e-05, -1.01485386e-03, -6.44817592e-04, -4.25994032e-04,\n",
       "        -9.49094996e-05, -1.36379593e-04, -1.48549083e-04, -8.71181800e-06,\n",
       "        -5.67828837e-05,  1.35936424e-04, -6.18082109e-05,  6.98738432e-05,\n",
       "        -5.19791101e-05,  1.18839395e-04,  2.07010494e-04,  1.62945584e-04,\n",
       "         3.35099049e-04,  3.05513517e-05,  1.15024329e-04,  8.18310492e-04,\n",
       "        -5.05978275e-04,  9.31015265e-05,  1.89772032e-04,  9.71856170e-05,\n",
       "         1.58390951e-03, -7.31842541e-04, -1.41739551e-03,  8.10911567e-04,\n",
       "        -7.31372409e-04, -1.59252174e-04, -3.59833565e-05,  2.90250662e-04,\n",
       "         5.04964898e-04,  2.12738660e-04,  5.55162199e-04,  8.77049845e-04,\n",
       "         3.18223933e-03,  2.03780568e-03, -4.62308396e-03, -1.96940472e-03,\n",
       "        -2.85761961e-04, -1.36846748e-05,  1.29393691e-03, -6.04911137e-04,\n",
       "         1.51639910e-03,  1.61921309e-03,  2.06224185e-04,  4.21238930e-04,\n",
       "         2.95102215e-04,  5.26235862e-04,  6.78686202e-04, -2.36286330e-04,\n",
       "        -1.03371059e-04, -1.33240134e-04, -5.37634863e-04, -3.24225823e-04,\n",
       "        -1.40935797e-04, -4.44005137e-04, -2.71324067e-04, -1.48197275e-04,\n",
       "        -1.21776806e-04,  6.31445101e-05, -3.54511788e-04,  8.60912947e-05,\n",
       "         4.20679555e-04,  2.16109845e-04, -2.31139866e-04, -5.81316259e-04,\n",
       "         1.46032848e-04,  4.61904204e-05, -3.78728950e-05,  4.44959057e-05,\n",
       "         2.25482100e-04,  5.01644301e-04, -3.91573746e-04, -1.01145548e-04,\n",
       "         3.19451602e-05, -1.05925842e-04, -1.23770046e-04, -1.96185571e-04,\n",
       "        -1.71462978e-04, -8.18942811e-05,  5.88379574e-05, -1.24166163e-04,\n",
       "        -7.53540636e-05, -2.99777311e-05, -3.58067463e-05, -3.96218936e-05,\n",
       "        -5.07933759e-05,  2.42933031e-05,  1.13856542e-04,  1.44436754e-04,\n",
       "         1.37442436e-04,  1.20551828e-04,  1.58889549e-04,  1.19985990e-04,\n",
       "         9.22485032e-05, -1.03808514e-04, -1.17536876e-04, -5.64381139e-05,\n",
       "        -5.81031003e-05,  2.96303565e-04,  1.25107515e-04, -1.01056502e-04,\n",
       "        -5.16140336e-04,  2.21909632e-05,  6.97695937e-04, -7.14539045e-04,\n",
       "        -2.80704888e-04, -7.28048151e-05, -1.03705220e-04,  4.27566539e-06,\n",
       "        -1.31243337e-04, -3.66895939e-06, -1.86365623e-04, -8.10045389e-05,\n",
       "        -5.43007051e-05, -1.26631213e-04,  5.64854978e-06, -8.86993851e-05,\n",
       "        -1.49730960e-04, -7.45205486e-05, -9.38862192e-05,  1.09904657e-04,\n",
       "        -8.36269333e-05, -6.65000521e-06,  5.17647451e-05, -6.22279357e-05,\n",
       "        -2.84048752e-04, -5.00493132e-05, -5.25589675e-06,  2.03708675e-05,\n",
       "        -8.45947860e-05, -1.75074402e-04,  1.39124876e-04,  1.25361669e-04,\n",
       "        -2.62732448e-04,  9.23610105e-05, -1.30347409e-04,  8.57715598e-05]),\n",
       " array([-2.04271794e-05,  2.57781516e-06, -5.70457340e-05,  6.98500356e-05,\n",
       "         1.97675839e-04,  2.94597202e-04,  5.45066669e-04,  2.58745604e-04,\n",
       "        -3.63635722e-04, -1.79896855e-04, -1.17666142e-04,  9.65149392e-05,\n",
       "         4.30292066e-04, -4.94920806e-04, -3.74930571e-04,  1.56829546e-04,\n",
       "        -7.48376815e-05, -1.55240945e-05,  8.75090557e-05, -1.38630152e-04,\n",
       "         4.64297606e-04, -2.08045132e-04,  1.26981611e-03, -1.82710581e-03,\n",
       "        -3.67473841e-04, -1.97832816e-04,  4.08605589e-04,  1.15410712e-03,\n",
       "        -8.29635390e-04, -5.79972590e-05,  6.53965363e-04, -6.67273473e-04,\n",
       "        -3.97539074e-04,  8.21760485e-05,  3.30614452e-05,  1.09071586e-04,\n",
       "        -4.24255287e-05, -6.54165221e-05, -3.55924305e-05, -6.42357189e-06,\n",
       "         9.51311230e-05, -1.06503007e-04, -5.98527175e-05, -5.28026881e-06,\n",
       "        -4.78069719e-05,  4.22692748e-04, -1.92197544e-04, -1.06350108e-05,\n",
       "        -3.71830454e-05, -5.10728884e-05,  1.08309427e-05,  6.30694952e-05,\n",
       "        -2.23222302e-06,  6.78336835e-06,  1.08540415e-05,  2.28279177e-05,\n",
       "         8.28888902e-05, -2.39936775e-05,  1.69108399e-04,  3.55715593e-05,\n",
       "         2.19735185e-04,  1.32346126e-04, -7.90275122e-05, -3.37802708e-04,\n",
       "         1.69894455e-04, -6.34633097e-05, -1.68017004e-05,  8.20770722e-06,\n",
       "        -8.13358397e-05,  8.03141936e-05,  6.70094942e-05, -1.14858907e-04,\n",
       "         1.74109436e-04, -2.90009856e-04,  2.87269238e-05, -2.24835266e-04,\n",
       "         4.20973169e-04,  2.58540052e-04,  3.98982968e-04,  6.57950065e-05,\n",
       "        -4.11613275e-04, -3.93833541e-04, -1.90312645e-04, -8.76159700e-05,\n",
       "         3.76573991e-05,  8.14423603e-05,  1.15402648e-04,  9.33848957e-05,\n",
       "         3.02214652e-04,  5.23905774e-04,  1.78224205e-04,  3.53602075e-06,\n",
       "         3.80655690e-04,  9.71843026e-04, -5.45222795e-04,  3.45302902e-04,\n",
       "         4.53479365e-04, -1.00968216e-03, -1.36543205e-03,  1.01092644e-03,\n",
       "         4.03661071e-05,  1.12724204e-04, -1.63521041e-04, -5.74517792e-04,\n",
       "        -1.60218213e-04, -8.07041665e-04, -1.57796715e-04,  8.48245324e-05,\n",
       "         1.44134246e-04,  1.36342666e-04,  2.00713018e-04,  5.15492563e-05,\n",
       "         7.94314155e-05, -1.92686726e-05,  3.47430470e-04,  3.50054862e-04,\n",
       "         7.16762649e-04, -7.63919368e-04, -4.37908579e-04, -4.59475016e-04,\n",
       "        -2.10999088e-04, -2.73733224e-04,  1.37952835e-04,  6.94821245e-05,\n",
       "         3.39212246e-05, -1.80866642e-04,  1.83930277e-06,  1.45079708e-04,\n",
       "         8.10068642e-04, -3.10367645e-04,  6.55101607e-04,  1.50323635e-03,\n",
       "         1.17399196e-03, -9.00951034e-04, -5.06407517e-04, -5.54439316e-04,\n",
       "        -5.89816220e-04, -2.12902913e-05]),\n",
       " array([-3.43448704e-05, -1.12770673e-04, -7.25813807e-05, -2.45597066e-05,\n",
       "        -1.07215685e-05,  2.74336487e-04,  2.94888343e-05, -5.92612830e-05,\n",
       "        -1.16224784e-04, -1.00767685e-04, -9.05935893e-05, -2.50373510e-05,\n",
       "         1.74009240e-04,  9.50480660e-04,  7.65227361e-04, -1.81051130e-04,\n",
       "        -6.48479020e-04, -9.31813837e-05,  1.95344296e-05, -5.66493499e-05,\n",
       "        -3.91479451e-04,  3.06077651e-05, -1.41381948e-04, -5.87841305e-05,\n",
       "         8.25667023e-05,  6.36059439e-06,  2.29850744e-04,  4.92361648e-04,\n",
       "        -1.65152035e-04, -2.12974404e-04, -6.28374670e-05, -1.14362604e-05,\n",
       "        -1.23604942e-04, -1.98196018e-04, -1.77311655e-05, -1.34474624e-05,\n",
       "        -6.46531857e-05, -5.43257483e-05,  2.34565475e-05,  1.29391349e-05,\n",
       "         3.40308192e-04, -4.34380359e-05,  6.13541609e-04, -2.20384025e-04,\n",
       "        -4.59478280e-04,  1.12791675e-04, -3.82154411e-05, -2.73605239e-04,\n",
       "        -2.29713122e-05, -2.07168649e-04, -2.24314513e-04, -3.23079037e-05,\n",
       "        -4.95004034e-05, -9.43469692e-05, -1.04615896e-05, -6.42988177e-05,\n",
       "        -5.91213577e-05, -7.16798768e-05, -1.20063640e-04, -4.53793070e-05,\n",
       "        -7.62387547e-05,  6.33191843e-05,  5.55759893e-05,  1.82575485e-03,\n",
       "        -1.07144420e-03,  1.22489217e-04, -8.51026854e-05, -1.62537414e-04,\n",
       "         5.98760114e-05,  9.36202031e-05]))"
      ]
     },
     "execution_count": 18,
     "metadata": {},
     "output_type": "execute_result"
    }
   ],
   "source": [
    "preproc.train_valid_test(expvarlist=wspddiffs,validindex=[1,2],testindex=[8],concat='Yes')"
   ]
  },
  {
   "cell_type": "code",
   "execution_count": 23,
   "id": "3be549f0-789e-4490-b85a-551c7b3302dc",
   "metadata": {},
   "outputs": [],
   "source": [
    "Xfiles = glob.glob(f'../../storage/proc/PCA_*.pkl')\n",
    "for i in range(len(Xfiles)):\n",
    "    valid1 = Xfiles[i].split('/')[-1].split('.')[0].split('_')[1]\n",
    "    valid2 = Xfiles[i].split('/')[-1].split('.')[0].split('_')[2]\n",
    "    ytrain,yvalid,ytest = preproc.train_valid_test(expvarlist=wspddiffs,validindex=[int(valid1),int(valid2)],testindex=[8],concat='Yes')\n",
    "    read_and_write.save_to_pickle({'train':ytrain,'valid':yvalid,'test':ytest},f'../../storage/proc/y_{int(valid1)}_{int(valid2)}.pkl')"
   ]
  },
  {
   "cell_type": "code",
   "execution_count": 17,
   "id": "94fe17d1-4e8d-49ee-8872-8f89e226bc4f",
   "metadata": {},
   "outputs": [
    {
     "data": {
      "text/plain": [
       "((68,), (67,))"
      ]
     },
     "execution_count": 17,
     "metadata": {},
     "output_type": "execute_result"
    }
   ],
   "source": [
    "wspds[0].shape,wspddiffs[0].shape"
   ]
  },
  {
   "cell_type": "code",
   "execution_count": 43,
   "id": "75bfec69-0ddc-47b4-8842-e6cdf9c4f84a",
   "metadata": {
    "scrolled": true
   },
   "outputs": [
    {
     "name": "stderr",
     "output_type": "stream",
     "text": [
      "100%|█████████████████████████████████████████████████████████████████████████████████████████████████████████████████████████████████████████████████████████████████████████████| 4/4 [00:02<00:00,  1.35it/s]\n"
     ]
    },
    {
     "data": {
      "image/png": "[encoded data removed]",
      "text/plain": [
       "<Figure size 432x288 with 1 Axes>"
      ]
     },
     "metadata": {
      "needs_background": "light"
     },
     "output_type": "display_data"
    }
   ],
   "source": [
    "for i in tqdm([5,6,7,8]):#,5,6,7,8]):\n",
    "    plt.plot(np.max(np.max(np.sqrt(np.asarray(Upol[i]['pol'])[:,0,...]**2+np.asarray(Vpol[i]['pol'])[:,0,...]**2),axis=-1),\n",
    "                       axis=1))\n",
    "plt.show()"
   ]
  },
  {
   "cell_type": "markdown",
   "id": "367e30d4-5040-4b8d-a218-ba35d98d01cf",
   "metadata": {},
   "source": [
    "# Radiation"
   ]
  },
  {
   "cell_type": "code",
   "execution_count": 13,
   "id": "ca0e57ae-1ea4-4e93-9153-6d707757fec7",
   "metadata": {},
   "outputs": [
    {
     "data": {
      "text/plain": [
       "(425, 6615000)"
      ]
     },
     "execution_count": 13,
     "metadata": {},
     "output_type": "execute_result"
    }
   ],
   "source": [
    "Xtrain['LW'].shape"
   ]
  },
  {
   "cell_type": "code",
   "execution_count": 15,
   "id": "7f672a4f-9fc4-498a-b9a0-b8d2d49889d0",
   "metadata": {
    "scrolled": true
   },
   "outputs": [
    {
     "name": "stderr",
     "output_type": "stream",
     "text": [
      "  0%|                                                     | 0/2 [00:00<?, ?it/s]\n",
      "  0%|                                                     | 0/2 [00:00<?, ?it/s]\u001b[A\n",
      " 50%|█████████████████████▌                     | 1/2 [21:47<21:47, 1307.37s/it]\u001b[A\n",
      "100%|███████████████████████████████████████████| 2/2 [44:26<00:00, 1333.19s/it]\u001b[A\n",
      " 50%|█████████████████████▌                     | 1/2 [44:49<44:49, 2689.07s/it]\n",
      "  0%|                                                     | 0/2 [00:00<?, ?it/s]\u001b[A\n",
      " 50%|█████████████████████▌                     | 1/2 [23:28<23:28, 1408.38s/it]\u001b[A\n",
      "100%|███████████████████████████████████████████| 2/2 [48:11<00:00, 1445.59s/it]\u001b[A\n",
      "100%|█████████████████████████████████████████| 2/2 [1:33:24<00:00, 2802.30s/it]\n"
     ]
    }
   ],
   "source": [
    "import random\n",
    "from sklearn.decomposition import PCA\n",
    "from sklearn.decomposition import IncrementalPCA\n",
    "\n",
    "n_batches=3\n",
    "n_comps = 140\n",
    "Xfiles = sorted(glob.glob(f'../../storage/proc/PCA_*.pkl'))\n",
    "for i in tqdm([1,2]):#range(20)):\n",
    "    # Choosing 2 random numbers\n",
    "    #validindices = random.sample([0,1,2,3,4,5,6,7,9], 2)\n",
    "    valid1 = Xfiles[i].split('/')[-1].split('.')[0].split('_')[1]\n",
    "    valid2 = Xfiles[i].split('/')[-1].split('.')[0].split('_')[2]\n",
    "    validindices = [int(valid1),int(valid2)]\n",
    "    # Separate data\n",
    "    Xtrain,Xvalid,Xtest = {},{},{}\n",
    "    Xtrain['LW'],Xvalid['LW'],Xtest['LW'] = preproc.train_valid_test(expvarlist=rthratlw_flat,validindex=validindices,testindex=[8],concat='Yes')\n",
    "    Xtrain['SW'],Xvalid['SW'],Xtest['SW'] = preproc.train_valid_test(expvarlist=rthratsw_flat,validindex=validindices,testindex=[8],concat='Yes')\n",
    "    #del rthratlw_flat,rthratsw_flat\n",
    "    #gc.collect()\n",
    "    # Train PCA\n",
    "    PCAdict = {}\n",
    "    for ivar in tqdm(['LW','SW']):\n",
    "        inc_pca = IncrementalPCA(n_components=int(Xtrain[ivar].shape[0]/n_batches)-1)#n_comps)\n",
    "        for X_batch in (np.array_split(Xtrain[ivar],n_batches)):\n",
    "            inc_pca.partial_fit(X_batch)\n",
    "        PCAdict[ivar]=inc_pca\n",
    "    # Save stuff    \n",
    "    read_and_write.save_to_pickle({'PCA':PCAdict},f'../../storage/proc/PCA_{validindices[0]}_{validindices[1]}.pkl')\n",
    "    #read_and_write.save_to_pickle({'train':Xtrain,'valid':Xvalid,'test':Xtest},f'../../storage/proc/X_{validindices[0]}_{validindices[1]}.pkl')\n",
    "    del PCAdict,Xtrain,Xvalid,Xtest\n",
    "    gc.collect()"
   ]
  }
 ],
 "metadata": {
  "kernelspec": {
   "display_name": "Python 3 (ipykernel)",
   "language": "python",
   "name": "python3"
  },
  "language_info": {
   "codemirror_mode": {
    "name": "ipython",
    "version": 3
   },
   "file_extension": ".py",
   "mimetype": "text/x-python",
   "name": "python",
   "nbconvert_exporter": "python",
   "pygments_lexer": "ipython3",
   "version": "3.9.16"
  }
 },
 "nbformat": 4,
 "nbformat_minor": 5
}
