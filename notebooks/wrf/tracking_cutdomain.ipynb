{
 "cells": [
  {
   "cell_type": "code",
   "execution_count": 1,
   "id": "04010a26-cc3d-4cb0-b023-a40ffdaa73f6",
   "metadata": {},
   "outputs": [],
   "source": [
    "import numpy as np\n",
    "from wrf import (to_np, getvar, smooth2d, get_cartopy, cartopy_xlim,\n",
    "                 cartopy_ylim, latlon_coords, interplevel, ll_to_xy)\n",
    "import matplotlib.pyplot as plt\n",
    "from netCDF4 import Dataset\n",
    "from matplotlib.cm import get_cmap\n",
    "import cartopy.crs as crs\n",
    "from cartopy.feature import NaturalEarthFeature\n",
    "import xarray as xr\n",
    "import gc, glob\n",
    "import pickle\n",
    "from tqdm import tqdm"
   ]
  },
  {
   "cell_type": "code",
   "execution_count": 2,
   "id": "c12fdaf8-633c-4706-a543-444443f3fed1",
   "metadata": {},
   "outputs": [],
   "source": [
    "import sys\n",
    "sys.path.insert(1, '../../')\n",
    "from util.wrf_process import (calc_derive, object_tracking, read_and_write, regrid)\n",
    "import read_config"
   ]
  },
  {
   "cell_type": "markdown",
   "id": "d568aba4-2acb-4904-bec5-5c532966f109",
   "metadata": {},
   "source": [
    "# Configuration"
   ]
  },
  {
   "cell_type": "code",
   "execution_count": 3,
   "id": "0bc306ad-96f6-4fe5-98e9-5f9cbf66aa65",
   "metadata": {},
   "outputs": [],
   "source": [
    "# Read configuration file\n",
    "config_set = read_config.read_config('../../config.ini')\n",
    "# Experiment Type\n",
    "if config_set['track_exp']=='CTRL':\n",
    "    i_senstest = False\n",
    "else:\n",
    "    i_senstest = True\n",
    "    \n",
    "# Open the NetCDF file\n",
    "ncfile = Dataset('../../storage/memb01/wrfout_d02_2013-11-02_00:00:00')\n",
    "# Get basic domain settings\n",
    "lons,lats,pres = read_and_write.get_basic_domain(ncfile)\n",
    "\n",
    "if (lons.min() < 0) and (lons.max() > 0):\n",
    "    lon_offset = object_tracking.dateline_lon_shift(lons, reverse=0)\n",
    "else:\n",
    "    lon_offset = 0\n",
    "\n",
    "basis=0"
   ]
  },
  {
   "cell_type": "markdown",
   "id": "03c23284-a541-4b79-b17d-3ded1d2dad2b",
   "metadata": {},
   "source": [
    "# Read files"
   ]
  },
  {
   "cell_type": "code",
   "execution_count": null,
   "id": "48457f49-f54f-4957-9848-257283be0c7b",
   "metadata": {},
   "outputs": [],
   "source": [
    "for memb in [10]:#[1,2,3,4,5,6,7,8,9]:\n",
    "    relvorts = np.asarray([read_and_write.depickle(obj) for obj in sorted(glob.glob(f'../../storage/memb{memb}/proc/relvort/*'))])\n",
    "    \n",
    "    # Run tracking\n",
    "    track, f_masked = object_tracking.object_track(relvorts, \n",
    "                                                   (lons + lon_offset).data, \n",
    "                                                   (lats).data, \n",
    "                                                   i_senstest, \n",
    "                                                   basis, \n",
    "                                                   int(config_set['track_nxsm']),\n",
    "                                                   int(config_set['track_nxrepeat']),\n",
    "                                                   int(config_set['track_ntsmooth']),\n",
    "                                                   int(config_set['track_rmax']),\n",
    "                                                  )\n",
    "    \n",
    "    track_xy = object_tracking.tree_latlon_to_xy(ncfile,\n",
    "                                                 (lons + lon_offset).data,\n",
    "                                                 (lats).data,\n",
    "                                                 track.data[0][1:],\n",
    "                                                 track.data[1][1:],\n",
    "                                                )\n",
    "    trackdict = {'trackobj':track_xy, 'data':f_masked}\n",
    "    filepath = f\"../../storage/memb{memb}/proc/track.pkl\"\n",
    "    read_and_write.save_to_pickle(trackdict,filepath)"
   ]
  },
  {
   "cell_type": "markdown",
   "id": "9250622f-df5c-4888-b853-70bb99b97d07",
   "metadata": {},
   "source": [
    "# Cut data"
   ]
  },
  {
   "cell_type": "code",
   "execution_count": 4,
   "id": "6f42a5b0-b05c-45c1-a044-9d2a014dfe53",
   "metadata": {},
   "outputs": [],
   "source": [
    "def do_vert_pol(trackobj=None,varobj=None,radius=175):\n",
    "    saved = []\n",
    "    for ivert in range(varobj.shape[0]):\n",
    "        tmp = varobj[ivert,trackobj[1]-radius:trackobj[1]+radius,trackobj[0]-radius:trackobj[0]+radius]\n",
    "        tmp_pol,r_grid,theta_grid = regrid.cart_image_to_pol(tmp,Jacobian=False,dr=1,dt=np.pi/180)\n",
    "        saved.append(tmp_pol)\n",
    "        del tmp,tmp_pol\n",
    "        gc.collect()\n",
    "    return saved,r_grid,theta_grid\n",
    "\n",
    "def do_vert_cart(trackobj=None,varobj=None,radius=175):\n",
    "    saved = []\n",
    "    for ivert in range(varobj.shape[0]):\n",
    "        tmp = varobj[ivert,trackobj[1]-radius:trackobj[1]+radius,trackobj[0]-radius:trackobj[0]+radius]\n",
    "        #tmp_pol,r_grid,theta_grid = regrid.cart_image_to_pol(tmp,Jacobian=False,dr=1,dt=np.pi/180)\n",
    "        saved.append(tmp)\n",
    "        del tmp\n",
    "        gc.collect()\n",
    "    return saved"
   ]
  },
  {
   "cell_type": "code",
   "execution_count": 22,
   "id": "a3b65d2c-b7b5-4a2c-b887-7309967fd15d",
   "metadata": {},
   "outputs": [
    {
     "name": "stderr",
     "output_type": "stream",
     "text": [
      "100%|███████████████████████████████████████████████████████████████████████████████████████████████████████████████████████████████████████████████████████████████████████████| 72/72 [02:22<00:00,  1.98s/it]\n"
     ]
    }
   ],
   "source": [
    "for memb in [10]:#[1,2,3,4,5,6,7,8,9]:\n",
    "    rthratlw = [read_and_write.depickle(obj) for obj in sorted(glob.glob(f'../../storage/memb{memb}/proc/V/*'))]\n",
    "    track = read_and_write.depickle(f'../../storage/memb{memb}/proc/track.pkl')\n",
    "    \n",
    "    savepol,saver,savetheta,saveitmp=[],[],[],[]\n",
    "    for itmp in tqdm(range(len(rthratlw))):\n",
    "        try:\n",
    "            tmp,r_grid,theta_grid = do_vert_pol(trackobj=track['trackobj']['latlon_xy'][itmp],varobj=rthratlw[itmp],radius=175)\n",
    "            if ((np.asarray(tmp).shape[1]==248) and (np.asarray(tmp).shape[2]!=0)):\n",
    "                savepol.append(np.asarray(tmp))\n",
    "                saver.append(np.asarray(r_grid))\n",
    "                savetheta.append(np.asarray(theta_grid))\n",
    "                saveitmp.append(itmp)\n",
    "                del tmp\n",
    "                gc.collect()\n",
    "            else:\n",
    "                continue\n",
    "        except:\n",
    "            continue\n",
    "\n",
    "    filepath = f\"../../storage/memb{memb}/proc/cutpol_V.pkl\"\n",
    "    read_and_write.save_to_pickle({'pol':savepol,'itmp':saveitmp,'r':saver,'theta':savetheta},filepath)"
   ]
  },
  {
   "cell_type": "code",
   "execution_count": 6,
   "id": "ef21b60e-61fe-47f3-aac0-5d14c9c79bc2",
   "metadata": {
    "scrolled": true
   },
   "outputs": [
    {
     "name": "stderr",
     "output_type": "stream",
     "text": [
      "100%|███████████████████████████████████████████████████████████████████████████████████████████████████████████████████████████████████████████████████████████████████████████| 72/72 [03:25<00:00,  2.85s/it]\n",
      "100%|███████████████████████████████████████████████████████████████████████████████████████████████████████████████████████████████████████████████████████████████████████████| 72/72 [03:25<00:00,  2.85s/it]\n",
      "100%|███████████████████████████████████████████████████████████████████████████████████████████████████████████████████████████████████████████████████████████████████████████| 72/72 [03:25<00:00,  2.85s/it]\n",
      "100%|███████████████████████████████████████████████████████████████████████████████████████████████████████████████████████████████████████████████████████████████████████████| 72/72 [03:24<00:00,  2.84s/it]\n",
      "100%|███████████████████████████████████████████████████████████████████████████████████████████████████████████████████████████████████████████████████████████████████████████| 72/72 [03:24<00:00,  2.84s/it]\n",
      "100%|███████████████████████████████████████████████████████████████████████████████████████████████████████████████████████████████████████████████████████████████████████████| 72/72 [03:24<00:00,  2.84s/it]\n",
      "100%|███████████████████████████████████████████████████████████████████████████████████████████████████████████████████████████████████████████████████████████████████████████| 72/72 [03:25<00:00,  2.85s/it]\n",
      "100%|███████████████████████████████████████████████████████████████████████████████████████████████████████████████████████████████████████████████████████████████████████████| 72/72 [03:24<00:00,  2.83s/it]\n",
      "100%|███████████████████████████████████████████████████████████████████████████████████████████████████████████████████████████████████████████████████████████████████████████| 72/72 [03:23<00:00,  2.83s/it]\n"
     ]
    }
   ],
   "source": [
    "for memb in [1,2,3,4,5,6,7,8,9]:\n",
    "    rthratlw = [read_and_write.depickle(obj) for obj in sorted(glob.glob(f'../../storage/memb0{memb}/proc/RTHRATSW/*'))]\n",
    "    track = read_and_write.depickle(f'../../storage/memb0{memb}/proc/track.pkl')\n",
    "    \n",
    "    savepol,saveitmp=[],[]\n",
    "    for itmp in tqdm(range(len(rthratlw))):\n",
    "        try:\n",
    "            tmp = do_vert_cart(trackobj=track['trackobj']['latlon_xy'][itmp],varobj=rthratlw[itmp],radius=175)\n",
    "            if ((np.asarray(tmp).shape[1]==350) and (np.asarray(tmp).shape[2]==350)):\n",
    "                savepol.append(np.asarray(tmp))\n",
    "                saveitmp.append(itmp)\n",
    "                del tmp\n",
    "                gc.collect()\n",
    "            else:\n",
    "                continue\n",
    "        except:\n",
    "            continue\n",
    "\n",
    "    filepath = f\"../../storage/memb0{memb}/proc/cutcart_rthratsw.pkl\"\n",
    "    read_and_write.save_to_pickle({'pol':savepol,'itmp':saveitmp},filepath)"
   ]
  },
  {
   "cell_type": "code",
   "execution_count": null,
   "id": "9c6548fe-8f7b-42f2-8d8d-c0b47dfb5504",
   "metadata": {},
   "outputs": [],
   "source": []
  }
 ],
 "metadata": {
  "kernelspec": {
   "display_name": "Python 3 (ipykernel)",
   "language": "python",
   "name": "python3"
  },
  "language_info": {
   "codemirror_mode": {
    "name": "ipython",
    "version": 3
   },
   "file_extension": ".py",
   "mimetype": "text/x-python",
   "name": "python",
   "nbconvert_exporter": "python",
   "pygments_lexer": "ipython3",
   "version": "3.9.16"
  }
 },
 "nbformat": 4,
 "nbformat_minor": 5
}
